{
  "cells": [
    {
      "cell_type": "code",
      "execution_count": 1,
      "metadata": {
        "colab": {
          "base_uri": "https://localhost:8080/"
        },
        "id": "bkF2oR-YhD2y",
        "outputId": "56fdfec3-9e9d-4ceb-c775-4ba3e1df87c4"
      },
      "outputs": [
        {
          "output_type": "stream",
          "name": "stdout",
          "text": [
            "Looking in indexes: https://pypi.org/simple, https://us-python.pkg.dev/colab-wheels/public/simple/\n",
            "Collecting flair\n",
            "  Downloading flair-0.12.2-py3-none-any.whl (373 kB)\n",
            "\u001b[2K     \u001b[90m━━━━━━━━━━━━━━━━━━━━━━━━━━━━━━━━━━━━━━━\u001b[0m \u001b[32m373.1/373.1 kB\u001b[0m \u001b[31m7.4 MB/s\u001b[0m eta \u001b[36m0:00:00\u001b[0m\n",
            "\u001b[?25hRequirement already satisfied: python-dateutil>=2.6.1 in /usr/local/lib/python3.10/dist-packages (from flair) (2.8.2)\n",
            "Requirement already satisfied: torch!=1.8,>=1.5.0 in /usr/local/lib/python3.10/dist-packages (from flair) (2.0.1+cu118)\n",
            "Requirement already satisfied: gensim>=3.8.0 in /usr/local/lib/python3.10/dist-packages (from flair) (4.3.1)\n",
            "Requirement already satisfied: tqdm>=4.26.0 in /usr/local/lib/python3.10/dist-packages (from flair) (4.65.0)\n",
            "Collecting segtok>=1.5.7 (from flair)\n",
            "  Downloading segtok-1.5.11-py3-none-any.whl (24 kB)\n",
            "Requirement already satisfied: matplotlib>=2.2.3 in /usr/local/lib/python3.10/dist-packages (from flair) (3.7.1)\n",
            "Collecting mpld3==0.3 (from flair)\n",
            "  Downloading mpld3-0.3.tar.gz (788 kB)\n",
            "\u001b[2K     \u001b[90m━━━━━━━━━━━━━━━━━━━━━━━━━━━━━━━━━━━━━━\u001b[0m \u001b[32m788.5/788.5 kB\u001b[0m \u001b[31m39.6 MB/s\u001b[0m eta \u001b[36m0:00:00\u001b[0m\n",
            "\u001b[?25h  Preparing metadata (setup.py) ... \u001b[?25l\u001b[?25hdone\n",
            "Requirement already satisfied: scikit-learn>=0.21.3 in /usr/local/lib/python3.10/dist-packages (from flair) (1.2.2)\n",
            "Collecting sqlitedict>=1.6.0 (from flair)\n",
            "  Downloading sqlitedict-2.1.0.tar.gz (21 kB)\n",
            "  Preparing metadata (setup.py) ... \u001b[?25l\u001b[?25hdone\n",
            "Collecting deprecated>=1.2.4 (from flair)\n",
            "  Downloading Deprecated-1.2.14-py2.py3-none-any.whl (9.6 kB)\n",
            "Requirement already satisfied: hyperopt>=0.2.7 in /usr/local/lib/python3.10/dist-packages (from flair) (0.2.7)\n",
            "Collecting boto3 (from flair)\n",
            "  Downloading boto3-1.26.149-py3-none-any.whl (135 kB)\n",
            "\u001b[2K     \u001b[90m━━━━━━━━━━━━━━━━━━━━━━━━━━━━━━━━━━━━━━\u001b[0m \u001b[32m135.6/135.6 kB\u001b[0m \u001b[31m18.3 MB/s\u001b[0m eta \u001b[36m0:00:00\u001b[0m\n",
            "\u001b[?25hCollecting transformers[sentencepiece]>=4.18.0 (from flair)\n",
            "  Downloading transformers-4.30.0-py3-none-any.whl (7.2 MB)\n",
            "\u001b[2K     \u001b[90m━━━━━━━━━━━━━━━━━━━━━━━━━━━━━━━━━━━━━━━━\u001b[0m \u001b[32m7.2/7.2 MB\u001b[0m \u001b[31m93.5 MB/s\u001b[0m eta \u001b[36m0:00:00\u001b[0m\n",
            "\u001b[?25hCollecting bpemb>=0.3.2 (from flair)\n",
            "  Downloading bpemb-0.3.4-py3-none-any.whl (19 kB)\n",
            "Requirement already satisfied: regex in /usr/local/lib/python3.10/dist-packages (from flair) (2022.10.31)\n",
            "Requirement already satisfied: tabulate in /usr/local/lib/python3.10/dist-packages (from flair) (0.8.10)\n",
            "Collecting langdetect (from flair)\n",
            "  Downloading langdetect-1.0.9.tar.gz (981 kB)\n",
            "\u001b[2K     \u001b[90m━━━━━━━━━━━━━━━━━━━━━━━━━━━━━━━━━━━━━━\u001b[0m \u001b[32m981.5/981.5 kB\u001b[0m \u001b[31m62.7 MB/s\u001b[0m eta \u001b[36m0:00:00\u001b[0m\n",
            "\u001b[?25h  Preparing metadata (setup.py) ... \u001b[?25l\u001b[?25hdone\n",
            "Requirement already satisfied: lxml in /usr/local/lib/python3.10/dist-packages (from flair) (4.9.2)\n",
            "Collecting ftfy (from flair)\n",
            "  Downloading ftfy-6.1.1-py3-none-any.whl (53 kB)\n",
            "\u001b[2K     \u001b[90m━━━━━━━━━━━━━━━━━━━━━━━━━━━━━━━━━━━━━━━━\u001b[0m \u001b[32m53.1/53.1 kB\u001b[0m \u001b[31m8.5 MB/s\u001b[0m eta \u001b[36m0:00:00\u001b[0m\n",
            "\u001b[?25hCollecting janome (from flair)\n",
            "  Downloading Janome-0.4.2-py2.py3-none-any.whl (19.7 MB)\n",
            "\u001b[2K     \u001b[90m━━━━━━━━━━━━━━━━━━━━━━━━━━━━━━━━━━━━━━━━\u001b[0m \u001b[32m19.7/19.7 MB\u001b[0m \u001b[31m70.5 MB/s\u001b[0m eta \u001b[36m0:00:00\u001b[0m\n",
            "\u001b[?25hCollecting gdown==4.4.0 (from flair)\n",
            "  Downloading gdown-4.4.0.tar.gz (14 kB)\n",
            "  Installing build dependencies ... \u001b[?25l\u001b[?25hdone\n",
            "  Getting requirements to build wheel ... \u001b[?25l\u001b[?25hdone\n",
            "  Preparing metadata (pyproject.toml) ... \u001b[?25l\u001b[?25hdone\n",
            "Collecting huggingface-hub>=0.10.0 (from flair)\n",
            "  Downloading huggingface_hub-0.15.1-py3-none-any.whl (236 kB)\n",
            "\u001b[2K     \u001b[90m━━━━━━━━━━━━━━━━━━━━━━━━━━━━━━━━━━━━━━\u001b[0m \u001b[32m236.8/236.8 kB\u001b[0m \u001b[31m27.2 MB/s\u001b[0m eta \u001b[36m0:00:00\u001b[0m\n",
            "\u001b[?25hCollecting conllu>=4.0 (from flair)\n",
            "  Downloading conllu-4.5.2-py2.py3-none-any.whl (16 kB)\n",
            "Requirement already satisfied: more-itertools in /usr/local/lib/python3.10/dist-packages (from flair) (9.1.0)\n",
            "Collecting wikipedia-api (from flair)\n",
            "  Downloading Wikipedia_API-0.5.8-py3-none-any.whl (13 kB)\n",
            "Collecting pptree (from flair)\n",
            "  Downloading pptree-3.1.tar.gz (3.0 kB)\n",
            "  Preparing metadata (setup.py) ... \u001b[?25l\u001b[?25hdone\n",
            "Collecting pytorch-revgrad (from flair)\n",
            "  Downloading pytorch_revgrad-0.2.0-py3-none-any.whl (4.6 kB)\n",
            "Collecting transformer-smaller-training-vocab>=0.2.1 (from flair)\n",
            "  Downloading transformer_smaller_training_vocab-0.2.4-py3-none-any.whl (13 kB)\n",
            "Requirement already satisfied: filelock in /usr/local/lib/python3.10/dist-packages (from gdown==4.4.0->flair) (3.12.0)\n",
            "Requirement already satisfied: requests[socks] in /usr/local/lib/python3.10/dist-packages (from gdown==4.4.0->flair) (2.27.1)\n",
            "Requirement already satisfied: six in /usr/local/lib/python3.10/dist-packages (from gdown==4.4.0->flair) (1.16.0)\n",
            "Requirement already satisfied: beautifulsoup4 in /usr/local/lib/python3.10/dist-packages (from gdown==4.4.0->flair) (4.11.2)\n",
            "Requirement already satisfied: numpy in /usr/local/lib/python3.10/dist-packages (from bpemb>=0.3.2->flair) (1.22.4)\n",
            "Collecting sentencepiece (from bpemb>=0.3.2->flair)\n",
            "  Downloading sentencepiece-0.1.99-cp310-cp310-manylinux_2_17_x86_64.manylinux2014_x86_64.whl (1.3 MB)\n",
            "\u001b[2K     \u001b[90m━━━━━━━━━━━━━━━━━━━━━━━━━━━━━━━━━━━━━━━━\u001b[0m \u001b[32m1.3/1.3 MB\u001b[0m \u001b[31m66.5 MB/s\u001b[0m eta \u001b[36m0:00:00\u001b[0m\n",
            "\u001b[?25hRequirement already satisfied: wrapt<2,>=1.10 in /usr/local/lib/python3.10/dist-packages (from deprecated>=1.2.4->flair) (1.14.1)\n",
            "Requirement already satisfied: scipy>=1.7.0 in /usr/local/lib/python3.10/dist-packages (from gensim>=3.8.0->flair) (1.10.1)\n",
            "Requirement already satisfied: smart-open>=1.8.1 in /usr/local/lib/python3.10/dist-packages (from gensim>=3.8.0->flair) (6.3.0)\n",
            "Requirement already satisfied: fsspec in /usr/local/lib/python3.10/dist-packages (from huggingface-hub>=0.10.0->flair) (2023.4.0)\n",
            "Requirement already satisfied: pyyaml>=5.1 in /usr/local/lib/python3.10/dist-packages (from huggingface-hub>=0.10.0->flair) (6.0)\n",
            "Requirement already satisfied: typing-extensions>=3.7.4.3 in /usr/local/lib/python3.10/dist-packages (from huggingface-hub>=0.10.0->flair) (4.5.0)\n",
            "Requirement already satisfied: packaging>=20.9 in /usr/local/lib/python3.10/dist-packages (from huggingface-hub>=0.10.0->flair) (23.1)\n",
            "Requirement already satisfied: networkx>=2.2 in /usr/local/lib/python3.10/dist-packages (from hyperopt>=0.2.7->flair) (3.1)\n",
            "Requirement already satisfied: future in /usr/local/lib/python3.10/dist-packages (from hyperopt>=0.2.7->flair) (0.18.3)\n",
            "Requirement already satisfied: cloudpickle in /usr/local/lib/python3.10/dist-packages (from hyperopt>=0.2.7->flair) (2.2.1)\n",
            "Requirement already satisfied: py4j in /usr/local/lib/python3.10/dist-packages (from hyperopt>=0.2.7->flair) (0.10.9.7)\n",
            "Requirement already satisfied: contourpy>=1.0.1 in /usr/local/lib/python3.10/dist-packages (from matplotlib>=2.2.3->flair) (1.0.7)\n",
            "Requirement already satisfied: cycler>=0.10 in /usr/local/lib/python3.10/dist-packages (from matplotlib>=2.2.3->flair) (0.11.0)\n",
            "Requirement already satisfied: fonttools>=4.22.0 in /usr/local/lib/python3.10/dist-packages (from matplotlib>=2.2.3->flair) (4.39.3)\n",
            "Requirement already satisfied: kiwisolver>=1.0.1 in /usr/local/lib/python3.10/dist-packages (from matplotlib>=2.2.3->flair) (1.4.4)\n",
            "Requirement already satisfied: pillow>=6.2.0 in /usr/local/lib/python3.10/dist-packages (from matplotlib>=2.2.3->flair) (8.4.0)\n",
            "Requirement already satisfied: pyparsing>=2.3.1 in /usr/local/lib/python3.10/dist-packages (from matplotlib>=2.2.3->flair) (3.0.9)\n",
            "Requirement already satisfied: joblib>=1.1.1 in /usr/local/lib/python3.10/dist-packages (from scikit-learn>=0.21.3->flair) (1.2.0)\n",
            "Requirement already satisfied: threadpoolctl>=2.0.0 in /usr/local/lib/python3.10/dist-packages (from scikit-learn>=0.21.3->flair) (3.1.0)\n",
            "Requirement already satisfied: sympy in /usr/local/lib/python3.10/dist-packages (from torch!=1.8,>=1.5.0->flair) (1.11.1)\n",
            "Requirement already satisfied: jinja2 in /usr/local/lib/python3.10/dist-packages (from torch!=1.8,>=1.5.0->flair) (3.1.2)\n",
            "Requirement already satisfied: triton==2.0.0 in /usr/local/lib/python3.10/dist-packages (from torch!=1.8,>=1.5.0->flair) (2.0.0)\n",
            "Requirement already satisfied: cmake in /usr/local/lib/python3.10/dist-packages (from triton==2.0.0->torch!=1.8,>=1.5.0->flair) (3.25.2)\n",
            "Requirement already satisfied: lit in /usr/local/lib/python3.10/dist-packages (from triton==2.0.0->torch!=1.8,>=1.5.0->flair) (16.0.5)\n",
            "Collecting datasets<3.0.0,>=2.0.0 (from transformer-smaller-training-vocab>=0.2.1->flair)\n",
            "  Downloading datasets-2.12.0-py3-none-any.whl (474 kB)\n",
            "\u001b[2K     \u001b[90m━━━━━━━━━━━━━━━━━━━━━━━━━━━━━━━━━━━━━━\u001b[0m \u001b[32m474.6/474.6 kB\u001b[0m \u001b[31m43.7 MB/s\u001b[0m eta \u001b[36m0:00:00\u001b[0m\n",
            "\u001b[?25hCollecting tokenizers!=0.11.3,<0.14,>=0.11.1 (from transformers[sentencepiece]>=4.18.0->flair)\n",
            "  Downloading tokenizers-0.13.3-cp310-cp310-manylinux_2_17_x86_64.manylinux2014_x86_64.whl (7.8 MB)\n",
            "\u001b[2K     \u001b[90m━━━━━━━━━━━━━━━━━━━━━━━━━━━━━━━━━━━━━━━━\u001b[0m \u001b[32m7.8/7.8 MB\u001b[0m \u001b[31m54.5 MB/s\u001b[0m eta \u001b[36m0:00:00\u001b[0m\n",
            "\u001b[?25hCollecting safetensors>=0.3.1 (from transformers[sentencepiece]>=4.18.0->flair)\n",
            "  Downloading safetensors-0.3.1-cp310-cp310-manylinux_2_17_x86_64.manylinux2014_x86_64.whl (1.3 MB)\n",
            "\u001b[2K     \u001b[90m━━━━━━━━━━━━━━━━━━━━━━━━━━━━━━━━━━━━━━━━\u001b[0m \u001b[32m1.3/1.3 MB\u001b[0m \u001b[31m69.8 MB/s\u001b[0m eta \u001b[36m0:00:00\u001b[0m\n",
            "\u001b[?25hRequirement already satisfied: protobuf<=3.20.3 in /usr/local/lib/python3.10/dist-packages (from transformers[sentencepiece]>=4.18.0->flair) (3.20.3)\n",
            "Collecting botocore<1.30.0,>=1.29.149 (from boto3->flair)\n",
            "  Downloading botocore-1.29.149-py3-none-any.whl (10.8 MB)\n",
            "\u001b[2K     \u001b[90m━━━━━━━━━━━━━━━━━━━━━━━━━━━━━━━━━━━━━━━━\u001b[0m \u001b[32m10.8/10.8 MB\u001b[0m \u001b[31m85.0 MB/s\u001b[0m eta \u001b[36m0:00:00\u001b[0m\n",
            "\u001b[?25h\u001b[33mWARNING: Retrying (Retry(total=4, connect=None, read=None, redirect=None, status=None)) after connection broken by 'ProtocolError('Connection aborted.', RemoteDisconnected('Remote end closed connection without response'))': /simple/jmespath/\u001b[0m\u001b[33m\n",
            "\u001b[0mCollecting jmespath<2.0.0,>=0.7.1 (from boto3->flair)\n",
            "  Downloading jmespath-1.0.1-py3-none-any.whl (20 kB)\n",
            "Collecting s3transfer<0.7.0,>=0.6.0 (from boto3->flair)\n",
            "  Downloading s3transfer-0.6.1-py3-none-any.whl (79 kB)\n",
            "\u001b[2K     \u001b[90m━━━━━━━━━━━━━━━━━━━━━━━━━━━━━━━━━━━━━━━━\u001b[0m \u001b[32m79.8/79.8 kB\u001b[0m \u001b[31m10.2 MB/s\u001b[0m eta \u001b[36m0:00:00\u001b[0m\n",
            "\u001b[?25hRequirement already satisfied: wcwidth>=0.2.5 in /usr/local/lib/python3.10/dist-packages (from ftfy->flair) (0.2.6)\n",
            "Requirement already satisfied: urllib3<1.27,>=1.25.4 in /usr/local/lib/python3.10/dist-packages (from botocore<1.30.0,>=1.29.149->boto3->flair) (1.26.15)\n",
            "Requirement already satisfied: pyarrow>=8.0.0 in /usr/local/lib/python3.10/dist-packages (from datasets<3.0.0,>=2.0.0->transformer-smaller-training-vocab>=0.2.1->flair) (9.0.0)\n",
            "Collecting dill<0.3.7,>=0.3.0 (from datasets<3.0.0,>=2.0.0->transformer-smaller-training-vocab>=0.2.1->flair)\n",
            "  Downloading dill-0.3.6-py3-none-any.whl (110 kB)\n",
            "\u001b[2K     \u001b[90m━━━━━━━━━━━━━━━━━━━━━━━━━━━━━━━━━━━━━━\u001b[0m \u001b[32m110.5/110.5 kB\u001b[0m \u001b[31m12.2 MB/s\u001b[0m eta \u001b[36m0:00:00\u001b[0m\n",
            "\u001b[?25hRequirement already satisfied: pandas in /usr/local/lib/python3.10/dist-packages (from datasets<3.0.0,>=2.0.0->transformer-smaller-training-vocab>=0.2.1->flair) (1.5.3)\n",
            "Collecting xxhash (from datasets<3.0.0,>=2.0.0->transformer-smaller-training-vocab>=0.2.1->flair)\n",
            "  Downloading xxhash-3.2.0-cp310-cp310-manylinux_2_17_x86_64.manylinux2014_x86_64.whl (212 kB)\n",
            "\u001b[2K     \u001b[90m━━━━━━━━━━━━━━━━━━━━━━━━━━━━━━━━━━━━━━\u001b[0m \u001b[32m212.5/212.5 kB\u001b[0m \u001b[31m24.9 MB/s\u001b[0m eta \u001b[36m0:00:00\u001b[0m\n",
            "\u001b[?25hCollecting multiprocess (from datasets<3.0.0,>=2.0.0->transformer-smaller-training-vocab>=0.2.1->flair)\n",
            "  Downloading multiprocess-0.70.14-py310-none-any.whl (134 kB)\n",
            "\u001b[2K     \u001b[90m━━━━━━━━━━━━━━━━━━━━━━━━━━━━━━━━━━━━━━\u001b[0m \u001b[32m134.3/134.3 kB\u001b[0m \u001b[31m16.4 MB/s\u001b[0m eta \u001b[36m0:00:00\u001b[0m\n",
            "\u001b[?25hCollecting aiohttp (from datasets<3.0.0,>=2.0.0->transformer-smaller-training-vocab>=0.2.1->flair)\n",
            "  Downloading aiohttp-3.8.4-cp310-cp310-manylinux_2_17_x86_64.manylinux2014_x86_64.whl (1.0 MB)\n",
            "\u001b[2K     \u001b[90m━━━━━━━━━━━━━━━━━━━━━━━━━━━━━━━━━━━━━━━━\u001b[0m \u001b[32m1.0/1.0 MB\u001b[0m \u001b[31m42.4 MB/s\u001b[0m eta \u001b[36m0:00:00\u001b[0m\n",
            "\u001b[?25hCollecting responses<0.19 (from datasets<3.0.0,>=2.0.0->transformer-smaller-training-vocab>=0.2.1->flair)\n",
            "  Downloading responses-0.18.0-py3-none-any.whl (38 kB)\n",
            "Requirement already satisfied: certifi>=2017.4.17 in /usr/local/lib/python3.10/dist-packages (from requests[socks]->gdown==4.4.0->flair) (2022.12.7)\n",
            "Requirement already satisfied: charset-normalizer~=2.0.0 in /usr/local/lib/python3.10/dist-packages (from requests[socks]->gdown==4.4.0->flair) (2.0.12)\n",
            "Requirement already satisfied: idna<4,>=2.5 in /usr/local/lib/python3.10/dist-packages (from requests[socks]->gdown==4.4.0->flair) (3.4)\n",
            "Collecting accelerate>=0.20.2 (from transformers[sentencepiece]>=4.18.0->flair)\n",
            "  Downloading accelerate-0.20.2-py3-none-any.whl (227 kB)\n",
            "\u001b[2K     \u001b[90m━━━━━━━━━━━━━━━━━━━━━━━━━━━━━━━━━━━━━━\u001b[0m \u001b[32m227.5/227.5 kB\u001b[0m \u001b[31m20.9 MB/s\u001b[0m eta \u001b[36m0:00:00\u001b[0m\n",
            "\u001b[?25hRequirement already satisfied: soupsieve>1.2 in /usr/local/lib/python3.10/dist-packages (from beautifulsoup4->gdown==4.4.0->flair) (2.4.1)\n",
            "Requirement already satisfied: MarkupSafe>=2.0 in /usr/local/lib/python3.10/dist-packages (from jinja2->torch!=1.8,>=1.5.0->flair) (2.1.2)\n",
            "Requirement already satisfied: PySocks!=1.5.7,>=1.5.6 in /usr/local/lib/python3.10/dist-packages (from requests[socks]->gdown==4.4.0->flair) (1.7.1)\n",
            "Requirement already satisfied: mpmath>=0.19 in /usr/local/lib/python3.10/dist-packages (from sympy->torch!=1.8,>=1.5.0->flair) (1.3.0)\n",
            "Requirement already satisfied: psutil in /usr/local/lib/python3.10/dist-packages (from accelerate>=0.20.2->transformers[sentencepiece]>=4.18.0->flair) (5.9.5)\n",
            "Requirement already satisfied: attrs>=17.3.0 in /usr/local/lib/python3.10/dist-packages (from aiohttp->datasets<3.0.0,>=2.0.0->transformer-smaller-training-vocab>=0.2.1->flair) (23.1.0)\n",
            "Collecting multidict<7.0,>=4.5 (from aiohttp->datasets<3.0.0,>=2.0.0->transformer-smaller-training-vocab>=0.2.1->flair)\n",
            "  Downloading multidict-6.0.4-cp310-cp310-manylinux_2_17_x86_64.manylinux2014_x86_64.whl (114 kB)\n",
            "\u001b[2K     \u001b[90m━━━━━━━━━━━━━━━━━━━━━━━━━━━━━━━━━━━━━━━\u001b[0m \u001b[32m114.5/114.5 kB\u001b[0m \u001b[31m4.5 MB/s\u001b[0m eta \u001b[36m0:00:00\u001b[0m\n",
            "\u001b[?25hCollecting async-timeout<5.0,>=4.0.0a3 (from aiohttp->datasets<3.0.0,>=2.0.0->transformer-smaller-training-vocab>=0.2.1->flair)\n",
            "  Downloading async_timeout-4.0.2-py3-none-any.whl (5.8 kB)\n",
            "Collecting yarl<2.0,>=1.0 (from aiohttp->datasets<3.0.0,>=2.0.0->transformer-smaller-training-vocab>=0.2.1->flair)\n",
            "  Downloading yarl-1.9.2-cp310-cp310-manylinux_2_17_x86_64.manylinux2014_x86_64.whl (268 kB)\n",
            "\u001b[2K     \u001b[90m━━━━━━━━━━━━━━━━━━━━━━━━━━━━━━━━━━━━━━\u001b[0m \u001b[32m268.8/268.8 kB\u001b[0m \u001b[31m18.5 MB/s\u001b[0m eta \u001b[36m0:00:00\u001b[0m\n",
            "\u001b[?25hCollecting frozenlist>=1.1.1 (from aiohttp->datasets<3.0.0,>=2.0.0->transformer-smaller-training-vocab>=0.2.1->flair)\n",
            "  Downloading frozenlist-1.3.3-cp310-cp310-manylinux_2_5_x86_64.manylinux1_x86_64.manylinux_2_17_x86_64.manylinux2014_x86_64.whl (149 kB)\n",
            "\u001b[2K     \u001b[90m━━━━━━━━━━━━━━━━━━━━━━━━━━━━━━━━━━━━━━\u001b[0m \u001b[32m149.6/149.6 kB\u001b[0m \u001b[31m16.2 MB/s\u001b[0m eta \u001b[36m0:00:00\u001b[0m\n",
            "\u001b[?25hCollecting aiosignal>=1.1.2 (from aiohttp->datasets<3.0.0,>=2.0.0->transformer-smaller-training-vocab>=0.2.1->flair)\n",
            "  Downloading aiosignal-1.3.1-py3-none-any.whl (7.6 kB)\n",
            "Requirement already satisfied: pytz>=2020.1 in /usr/local/lib/python3.10/dist-packages (from pandas->datasets<3.0.0,>=2.0.0->transformer-smaller-training-vocab>=0.2.1->flair) (2022.7.1)\n",
            "Building wheels for collected packages: gdown, mpld3, sqlitedict, langdetect, pptree\n",
            "  Building wheel for gdown (pyproject.toml) ... \u001b[?25l\u001b[?25hdone\n",
            "  Created wheel for gdown: filename=gdown-4.4.0-py3-none-any.whl size=14759 sha256=0bc5c9f33b5a7e02125a13df121628e35d9c731aacb79714f6ff521de631612f\n",
            "  Stored in directory: /root/.cache/pip/wheels/03/0b/3f/6ddf67a417a5b400b213b0bb772a50276c199a386b12c06bfc\n",
            "  Building wheel for mpld3 (setup.py) ... \u001b[?25l\u001b[?25hdone\n",
            "  Created wheel for mpld3: filename=mpld3-0.3-py3-none-any.whl size=116685 sha256=26d406e4752ea6b9793df7b3e60582374136852836aea67d79460258afdc66d6\n",
            "  Stored in directory: /root/.cache/pip/wheels/9c/92/f7/45d9aac5dcfb1c2a1761a272365599cc7ba1050ce211a3fd9a\n",
            "  Building wheel for sqlitedict (setup.py) ... \u001b[?25l\u001b[?25hdone\n",
            "  Created wheel for sqlitedict: filename=sqlitedict-2.1.0-py3-none-any.whl size=16863 sha256=b39edd6daaeb7e08c541c3621a1c079545cc1914bcd22ad19683d8c2fe1c32ce\n",
            "  Stored in directory: /root/.cache/pip/wheels/79/d6/e7/304e0e6cb2221022c26d8161f7c23cd4f259a9e41e8bbcfabd\n",
            "  Building wheel for langdetect (setup.py) ... \u001b[?25l\u001b[?25hdone\n",
            "  Created wheel for langdetect: filename=langdetect-1.0.9-py3-none-any.whl size=993224 sha256=a7b6feba244b34ddf17599082578538ab4d9a877befbe1ab9cfe4808b0d63451\n",
            "  Stored in directory: /root/.cache/pip/wheels/95/03/7d/59ea870c70ce4e5a370638b5462a7711ab78fba2f655d05106\n",
            "  Building wheel for pptree (setup.py) ... \u001b[?25l\u001b[?25hdone\n",
            "  Created wheel for pptree: filename=pptree-3.1-py3-none-any.whl size=4609 sha256=1eb9fe6b059e1970b15ea1afae0de399f908dde195a9be00ad927f83be6f37bd\n",
            "  Stored in directory: /root/.cache/pip/wheels/9f/b6/0e/6f26eb9e6eb53ff2107a7888d72b5a6a597593956113037828\n",
            "Successfully built gdown mpld3 sqlitedict langdetect pptree\n",
            "Installing collected packages: tokenizers, sqlitedict, sentencepiece, safetensors, pptree, mpld3, janome, xxhash, segtok, multidict, langdetect, jmespath, ftfy, frozenlist, dill, deprecated, conllu, async-timeout, yarl, wikipedia-api, responses, multiprocess, huggingface-hub, botocore, aiosignal, transformers, s3transfer, gdown, bpemb, aiohttp, boto3, datasets, accelerate, transformer-smaller-training-vocab, pytorch-revgrad, flair\n",
            "  Attempting uninstall: gdown\n",
            "    Found existing installation: gdown 4.6.6\n",
            "    Uninstalling gdown-4.6.6:\n",
            "      Successfully uninstalled gdown-4.6.6\n",
            "Successfully installed accelerate-0.20.2 aiohttp-3.8.4 aiosignal-1.3.1 async-timeout-4.0.2 boto3-1.26.149 botocore-1.29.149 bpemb-0.3.4 conllu-4.5.2 datasets-2.12.0 deprecated-1.2.14 dill-0.3.6 flair-0.12.2 frozenlist-1.3.3 ftfy-6.1.1 gdown-4.4.0 huggingface-hub-0.15.1 janome-0.4.2 jmespath-1.0.1 langdetect-1.0.9 mpld3-0.3 multidict-6.0.4 multiprocess-0.70.14 pptree-3.1 pytorch-revgrad-0.2.0 responses-0.18.0 s3transfer-0.6.1 safetensors-0.3.1 segtok-1.5.11 sentencepiece-0.1.99 sqlitedict-2.1.0 tokenizers-0.13.3 transformer-smaller-training-vocab-0.2.4 transformers-4.30.0 wikipedia-api-0.5.8 xxhash-3.2.0 yarl-1.9.2\n"
          ]
        }
      ],
      "source": [
        "!pip install flair"
      ]
    },
    {
      "cell_type": "code",
      "execution_count": 2,
      "metadata": {
        "id": "14MXCT5NqpRl"
      },
      "outputs": [],
      "source": [
        "import pandas as pd\n",
        "import nltk\n",
        "from nltk.corpus import stopwords\n",
        "from nltk.tokenize import word_tokenize\n",
        "from sklearn.model_selection import train_test_split\n",
        "import tensorflow_hub as hub\n",
        "\n",
        "from keras.utils import to_categorical\n",
        "from keras.layers import Conv1D, MaxPooling1D, GlobalMaxPooling1D, Flatten, Dense, Dropout\n",
        "from keras.models import Sequential\n",
        "\n",
        "from sklearn.decomposition import PCA\n",
        "\n",
        "from sklearn.neural_network import MLPRegressor\n",
        "\n",
        "import numpy as np\n",
        "\n",
        "import xgboost as xgb"
      ]
    },
    {
      "cell_type": "code",
      "execution_count": 3,
      "metadata": {
        "id": "f9792bef"
      },
      "outputs": [],
      "source": [
        "url = \"https://raw.githubusercontent.com/Tejanikhil/Shared-ASAG/main\"\n",
        "df = pd.read_csv(url + \"/SemEvalData.csv\")"
      ]
    },
    {
      "cell_type": "code",
      "execution_count": 4,
      "metadata": {
        "colab": {
          "base_uri": "https://localhost:8080/"
        },
        "id": "f5cjS38-rXRi",
        "outputId": "6668af93-73a4-42f9-a3c4-f6bb58cc8d75"
      },
      "outputs": [
        {
          "output_type": "stream",
          "name": "stderr",
          "text": [
            "[nltk_data] Downloading package stopwords to /root/nltk_data...\n",
            "[nltk_data]   Unzipping corpora/stopwords.zip.\n",
            "[nltk_data] Downloading package averaged_perceptron_tagger to\n",
            "[nltk_data]     /root/nltk_data...\n",
            "[nltk_data]   Unzipping taggers/averaged_perceptron_tagger.zip.\n",
            "[nltk_data] Downloading package punkt to /root/nltk_data...\n",
            "[nltk_data]   Unzipping tokenizers/punkt.zip.\n"
          ]
        }
      ],
      "source": [
        "import pandas as pd\n",
        "import nltk\n",
        "import numpy as np\n",
        "from nltk.tokenize import word_tokenize, sent_tokenize\n",
        "from sklearn.metrics.pairwise import cosine_similarity\n",
        "import nltk\n",
        "from nltk.corpus import stopwords\n",
        "\n",
        "# Download the stopwords corpus if not already downloaded\n",
        "nltk.download('stopwords')\n",
        "nltk.download('averaged_perceptron_tagger')\n",
        "nltk.download('punkt')\n",
        "stop_words = set(stopwords.words('english'))"
      ]
    },
    {
      "cell_type": "code",
      "execution_count": 5,
      "metadata": {
        "id": "EkUiTEeKtwEv"
      },
      "outputs": [],
      "source": [
        "def extract_pos(text):\n",
        "    tokens = word_tokenize(text)\n",
        "    pos_tags = nltk.pos_tag(tokens)\n",
        "    pos_words = [word for word, pos in pos_tags if pos.startswith('VB') or pos.startswith('JJ') or pos.startswith('NN')]\n",
        "    return ' '.join(pos_words)\n",
        "\n",
        "def process_dataset(text):\n",
        "    lower_cased = text.lower()\n",
        "    tokens = nltk.word_tokenize(lower_cased)\n",
        "    filtered_tokens = [token for token in tokens if token not in stop_words]\n",
        "    preprocessed = ' '.join(filtered_tokens)\n",
        "    return preprocessed"
      ]
    },
    {
      "cell_type": "code",
      "execution_count": 6,
      "metadata": {
        "id": "kZ_9h5d8w1nA"
      },
      "outputs": [],
      "source": [
        "df[\"concatenated\"] = df['Question'] + \" \" + df['Student Answer']"
      ]
    },
    {
      "cell_type": "code",
      "execution_count": 7,
      "metadata": {
        "id": "yao7b8gow1nB"
      },
      "outputs": [],
      "source": [
        "from sklearn.model_selection import train_test_split\n",
        "train_X, test_X, train_y, test_y = train_test_split(df.loc[:,[\"concatenated\"]], df[\"Grade\"], test_size=0.1, random_state=42)"
      ]
    },
    {
      "cell_type": "code",
      "execution_count": 8,
      "metadata": {
        "id": "Bc4HGbperGXo"
      },
      "outputs": [],
      "source": [
        "TRAIN = train_X\n",
        "TRAIN[\"LABELS\"] = train_y\n",
        "TEST = test_X\n",
        "TEST[\"LABELS\"] = test_y"
      ]
    },
    {
      "cell_type": "code",
      "execution_count": 9,
      "metadata": {
        "id": "vfwWEnJ3tzIL"
      },
      "outputs": [],
      "source": [
        "train_X[\"concatenated\"] = train_X[\"concatenated\"].apply(extract_pos).apply(process_dataset)\n",
        "\n",
        "test_X[\"concatenated\"] = test_X[\"concatenated\"].apply(extract_pos).apply(process_dataset)"
      ]
    },
    {
      "cell_type": "code",
      "execution_count": 10,
      "metadata": {
        "colab": {
          "base_uri": "https://localhost:8080/"
        },
        "id": "4MO1bOj-hTyt",
        "outputId": "e1d5d2ac-419f-4e25-8a83-73406c07c670"
      },
      "outputs": [
        {
          "output_type": "stream",
          "name": "stdout",
          "text": [
            "(2197, 2)\n",
            "(2197, 2)\n"
          ]
        }
      ],
      "source": [
        "print(TRAIN.shape)\n",
        "TRAIN = TRAIN.replace(\"\", pd.NA).dropna()\n",
        "print(TRAIN.shape)\n",
        "TEST = TEST.replace(\"\", pd.NA).dropna()"
      ]
    },
    {
      "cell_type": "code",
      "execution_count": 11,
      "metadata": {
        "id": "BuEOYVNBtc36"
      },
      "outputs": [],
      "source": [
        "train_X = TRAIN.drop(\"LABELS\", axis = 1)\n",
        "train_y = TRAIN.iloc[:,-1]"
      ]
    },
    {
      "cell_type": "code",
      "execution_count": 12,
      "metadata": {
        "id": "X3Fk-CaUt0Ba"
      },
      "outputs": [],
      "source": [
        "sentences = list(train_X[\"concatenated\"])"
      ]
    },
    {
      "cell_type": "code",
      "execution_count": 13,
      "metadata": {
        "id": "YDRz91HXm5AW"
      },
      "outputs": [],
      "source": [
        "rm -rf ~/.cache/huggingface/transformers/bert-base-uncased"
      ]
    },
    {
      "cell_type": "code",
      "execution_count": 14,
      "metadata": {
        "id": "bB_tDKjpuAzu"
      },
      "outputs": [],
      "source": [
        "from flair.embeddings import FlairEmbeddings\n",
        "from flair.data import Sentence\n",
        "import flair"
      ]
    },
    {
      "cell_type": "code",
      "execution_count": 15,
      "metadata": {
        "colab": {
          "base_uri": "https://localhost:8080/"
        },
        "id": "doFABH9jnCO8",
        "outputId": "3e024e20-e273-40e3-945c-69b18eb1fa58"
      },
      "outputs": [
        {
          "output_type": "stream",
          "name": "stdout",
          "text": [
            "2023-06-08 16:02:25,071 https://flair.informatik.hu-berlin.de/resources/embeddings/flair/lm-jw300-forward-v0.1.pt not found in cache, downloading to /tmp/tmphvgcmig1\n"
          ]
        },
        {
          "output_type": "stream",
          "name": "stderr",
          "text": [
            "100%|██████████| 165M/165M [00:08<00:00, 20.6MB/s]"
          ]
        },
        {
          "output_type": "stream",
          "name": "stdout",
          "text": [
            "2023-06-08 16:02:33,901 copying /tmp/tmphvgcmig1 to cache at /root/.flair/embeddings/lm-jw300-forward-v0.1.pt\n"
          ]
        },
        {
          "output_type": "stream",
          "name": "stderr",
          "text": [
            "\n"
          ]
        },
        {
          "output_type": "stream",
          "name": "stdout",
          "text": [
            "2023-06-08 16:02:34,414 removing temp file /tmp/tmphvgcmig1\n",
            "2023-06-08 16:02:46,792 https://flair.informatik.hu-berlin.de/resources/embeddings/flair/lm-jw300-backward-v0.1.pt not found in cache, downloading to /tmp/tmp8p0v6i4i\n"
          ]
        },
        {
          "output_type": "stream",
          "name": "stderr",
          "text": [
            "100%|██████████| 165M/165M [00:08<00:00, 20.5MB/s]"
          ]
        },
        {
          "output_type": "stream",
          "name": "stdout",
          "text": [
            "2023-06-08 16:02:55,585 copying /tmp/tmp8p0v6i4i to cache at /root/.flair/embeddings/lm-jw300-backward-v0.1.pt\n"
          ]
        },
        {
          "output_type": "stream",
          "name": "stderr",
          "text": [
            "\n"
          ]
        },
        {
          "output_type": "stream",
          "name": "stdout",
          "text": [
            "2023-06-08 16:02:55,790 removing temp file /tmp/tmp8p0v6i4i\n",
            "2023-06-08 16:02:56,695 https://flair.informatik.hu-berlin.de/resources/embeddings/flair/news-forward-0.4.1.pt not found in cache, downloading to /tmp/tmporl_amaw\n"
          ]
        },
        {
          "output_type": "stream",
          "name": "stderr",
          "text": [
            "100%|██████████| 69.7M/69.7M [00:04<00:00, 18.1MB/s]"
          ]
        },
        {
          "output_type": "stream",
          "name": "stdout",
          "text": [
            "2023-06-08 16:03:01,141 copying /tmp/tmporl_amaw to cache at /root/.flair/embeddings/news-forward-0.4.1.pt\n"
          ]
        },
        {
          "output_type": "stream",
          "name": "stderr",
          "text": [
            "\n"
          ]
        },
        {
          "output_type": "stream",
          "name": "stdout",
          "text": [
            "2023-06-08 16:03:01,221 removing temp file /tmp/tmporl_amaw\n"
          ]
        }
      ],
      "source": [
        "flair_forward = flair.embeddings.FlairEmbeddings('multi-forward')\n",
        "flair_backward = flair.embeddings.FlairEmbeddings('multi-backward')\n",
        "flair_en_forward = flair.embeddings.FlairEmbeddings('en-forward')"
      ]
    },
    {
      "cell_type": "code",
      "execution_count": 16,
      "metadata": {
        "colab": {
          "base_uri": "https://localhost:8080/"
        },
        "id": "Uk1_t5F-cpoA",
        "outputId": "3bb69693-1529-4f27-dcb4-53125c80b1ed"
      },
      "outputs": [
        {
          "output_type": "stream",
          "name": "stdout",
          "text": [
            "2023-06-08 16:03:02,080 https://flair.informatik.hu-berlin.de/resources/embeddings/flair/news-backward-0.4.1.pt not found in cache, downloading to /tmp/tmposetc2aj\n"
          ]
        },
        {
          "output_type": "stream",
          "name": "stderr",
          "text": [
            "100%|██████████| 69.7M/69.7M [00:04<00:00, 18.2MB/s]"
          ]
        },
        {
          "output_type": "stream",
          "name": "stdout",
          "text": [
            "2023-06-08 16:03:06,493 copying /tmp/tmposetc2aj to cache at /root/.flair/embeddings/news-backward-0.4.1.pt\n"
          ]
        },
        {
          "output_type": "stream",
          "name": "stderr",
          "text": [
            "\n"
          ]
        },
        {
          "output_type": "stream",
          "name": "stdout",
          "text": [
            "2023-06-08 16:03:06,611 removing temp file /tmp/tmposetc2aj\n"
          ]
        }
      ],
      "source": [
        "flair_news_forward = flair.embeddings.FlairEmbeddings('news-forward')\n",
        "flair_news_backward = flair.embeddings.FlairEmbeddings('news-backward')"
      ]
    },
    {
      "cell_type": "code",
      "execution_count": 96,
      "metadata": {
        "id": "NPht_JBiuB6D"
      },
      "outputs": [],
      "source": [
        "train_Embeddings_df = pd.DataFrame({\"Q_Student_Answer_Embeddings\":train_X[\"concatenated\"]})\n",
        "test_Embeddings_df = pd.DataFrame({\"Q_Student_Answer_Embeddings\":test_X[\"concatenated\"]})"
      ]
    },
    {
      "cell_type": "code",
      "execution_count": 97,
      "metadata": {
        "id": "ydiugjaUeNEh"
      },
      "outputs": [],
      "source": [
        "def get_flair_multi_forward_embeddings(text):\n",
        "  sentence = Sentence(text)\n",
        "  flair_forward.embed(sentence)\n",
        "  embeds = [np.array(i.embedding.cpu()) for i in sentence]\n",
        "  return np.mean(np.array(embeds),axis = 0)"
      ]
    },
    {
      "cell_type": "code",
      "execution_count": 98,
      "metadata": {
        "id": "WEZlioR4eNJ6"
      },
      "outputs": [],
      "source": [
        "def get_flair_multi_backward_embeddings(text):\n",
        "  sentence = Sentence(text)\n",
        "  flair_backward.embed(sentence)\n",
        "  embeds = [np.array(i.embedding.cpu()) for i in sentence]\n",
        "  return np.mean(np.array(embeds),axis = 0)"
      ]
    },
    {
      "cell_type": "code",
      "execution_count": 99,
      "metadata": {
        "id": "A98hQLaluDvA"
      },
      "outputs": [],
      "source": [
        "def get_flair_news_forward_embeddings(text):\n",
        "  sentence = Sentence(text)\n",
        "  flair_news_forward.embed(sentence)\n",
        "  embeds = [np.array(i.embedding.cpu()) for i in sentence]\n",
        "  return np.mean(np.array(embeds),axis = 0)"
      ]
    },
    {
      "cell_type": "code",
      "execution_count": 100,
      "metadata": {
        "id": "tji0wvvzZmLm"
      },
      "outputs": [],
      "source": [
        "def get_flair_news_backward_embeddings(text):\n",
        "  sentence = Sentence(text)\n",
        "  flair_news_backward.embed(sentence)\n",
        "  embeds = [np.array(i.embedding.cpu()) for i in sentence]\n",
        "  return np.mean(np.array(embeds),axis = 0)"
      ]
    },
    {
      "cell_type": "code",
      "execution_count": 101,
      "metadata": {
        "id": "Mzun5rk-awoV"
      },
      "outputs": [],
      "source": [
        "def get_flair_en_forward_embeddings(text):\n",
        "  sentence = Sentence(text)\n",
        "  flair_en_forward.embed(sentence)\n",
        "  embeds = [np.array(i.embedding.cpu()) for i in sentence]\n",
        "  return np.mean(np.array(embeds),axis = 0)"
      ]
    },
    {
      "cell_type": "code",
      "execution_count": 102,
      "metadata": {
        "id": "fkiR8qiiuE32"
      },
      "outputs": [],
      "source": [
        "train_Embeddings_df[\"Q_Student_Answer_Embeddings\"] = train_Embeddings_df[\"Q_Student_Answer_Embeddings\"].apply(get_flair_multi_backward_embeddings)\n",
        "\n",
        "test_Embeddings_df[\"Q_Student_Answer_Embeddings\"] = test_Embeddings_df[\"Q_Student_Answer_Embeddings\"].apply(get_flair_multi_backward_embeddings)"
      ]
    },
    {
      "cell_type": "code",
      "execution_count": 103,
      "metadata": {
        "colab": {
          "base_uri": "https://localhost:8080/",
          "height": 423
        },
        "id": "ni_jiGmD_IBP",
        "outputId": "c0598b2f-c00b-48b7-b7a8-b9657005a48e"
      },
      "outputs": [
        {
          "output_type": "execute_result",
          "data": {
            "text/plain": [
              "                            Q_Student_Answer_Embeddings\n",
              "199   [-0.005689676, 9.5152514e-05, -0.007687468, -0...\n",
              "229   [0.024751464, 0.002177488, -0.0116156265, -0.0...\n",
              "521   [0.011926344, -7.440133e-06, -0.014075156, -0....\n",
              "651   [0.006801787, 0.0011593327, -0.019843832, -0.0...\n",
              "450   [0.0016229724, 0.00028979598, -0.01107227, -0....\n",
              "...                                                 ...\n",
              "1638  [0.003310446, 0.0002718546, -0.031109465, 4.30...\n",
              "1095  [0.012538168, 0.00048947515, -0.007584193, -0....\n",
              "1130  [0.0127403205, 0.00027708797, -0.02227142, -0....\n",
              "1294  [0.002830763, 0.001259419, -0.011745819, -0.00...\n",
              "860   [0.006403552, 0.000682786, -0.010686452, -0.00...\n",
              "\n",
              "[2197 rows x 1 columns]"
            ],
            "text/html": [
              "\n",
              "  <div id=\"df-56a600e8-f8f4-48ba-b8a9-bea5094689f0\">\n",
              "    <div class=\"colab-df-container\">\n",
              "      <div>\n",
              "<style scoped>\n",
              "    .dataframe tbody tr th:only-of-type {\n",
              "        vertical-align: middle;\n",
              "    }\n",
              "\n",
              "    .dataframe tbody tr th {\n",
              "        vertical-align: top;\n",
              "    }\n",
              "\n",
              "    .dataframe thead th {\n",
              "        text-align: right;\n",
              "    }\n",
              "</style>\n",
              "<table border=\"1\" class=\"dataframe\">\n",
              "  <thead>\n",
              "    <tr style=\"text-align: right;\">\n",
              "      <th></th>\n",
              "      <th>Q_Student_Answer_Embeddings</th>\n",
              "    </tr>\n",
              "  </thead>\n",
              "  <tbody>\n",
              "    <tr>\n",
              "      <th>199</th>\n",
              "      <td>[-0.005689676, 9.5152514e-05, -0.007687468, -0...</td>\n",
              "    </tr>\n",
              "    <tr>\n",
              "      <th>229</th>\n",
              "      <td>[0.024751464, 0.002177488, -0.0116156265, -0.0...</td>\n",
              "    </tr>\n",
              "    <tr>\n",
              "      <th>521</th>\n",
              "      <td>[0.011926344, -7.440133e-06, -0.014075156, -0....</td>\n",
              "    </tr>\n",
              "    <tr>\n",
              "      <th>651</th>\n",
              "      <td>[0.006801787, 0.0011593327, -0.019843832, -0.0...</td>\n",
              "    </tr>\n",
              "    <tr>\n",
              "      <th>450</th>\n",
              "      <td>[0.0016229724, 0.00028979598, -0.01107227, -0....</td>\n",
              "    </tr>\n",
              "    <tr>\n",
              "      <th>...</th>\n",
              "      <td>...</td>\n",
              "    </tr>\n",
              "    <tr>\n",
              "      <th>1638</th>\n",
              "      <td>[0.003310446, 0.0002718546, -0.031109465, 4.30...</td>\n",
              "    </tr>\n",
              "    <tr>\n",
              "      <th>1095</th>\n",
              "      <td>[0.012538168, 0.00048947515, -0.007584193, -0....</td>\n",
              "    </tr>\n",
              "    <tr>\n",
              "      <th>1130</th>\n",
              "      <td>[0.0127403205, 0.00027708797, -0.02227142, -0....</td>\n",
              "    </tr>\n",
              "    <tr>\n",
              "      <th>1294</th>\n",
              "      <td>[0.002830763, 0.001259419, -0.011745819, -0.00...</td>\n",
              "    </tr>\n",
              "    <tr>\n",
              "      <th>860</th>\n",
              "      <td>[0.006403552, 0.000682786, -0.010686452, -0.00...</td>\n",
              "    </tr>\n",
              "  </tbody>\n",
              "</table>\n",
              "<p>2197 rows × 1 columns</p>\n",
              "</div>\n",
              "      <button class=\"colab-df-convert\" onclick=\"convertToInteractive('df-56a600e8-f8f4-48ba-b8a9-bea5094689f0')\"\n",
              "              title=\"Convert this dataframe to an interactive table.\"\n",
              "              style=\"display:none;\">\n",
              "        \n",
              "  <svg xmlns=\"http://www.w3.org/2000/svg\" height=\"24px\"viewBox=\"0 0 24 24\"\n",
              "       width=\"24px\">\n",
              "    <path d=\"M0 0h24v24H0V0z\" fill=\"none\"/>\n",
              "    <path d=\"M18.56 5.44l.94 2.06.94-2.06 2.06-.94-2.06-.94-.94-2.06-.94 2.06-2.06.94zm-11 1L8.5 8.5l.94-2.06 2.06-.94-2.06-.94L8.5 2.5l-.94 2.06-2.06.94zm10 10l.94 2.06.94-2.06 2.06-.94-2.06-.94-.94-2.06-.94 2.06-2.06.94z\"/><path d=\"M17.41 7.96l-1.37-1.37c-.4-.4-.92-.59-1.43-.59-.52 0-1.04.2-1.43.59L10.3 9.45l-7.72 7.72c-.78.78-.78 2.05 0 2.83L4 21.41c.39.39.9.59 1.41.59.51 0 1.02-.2 1.41-.59l7.78-7.78 2.81-2.81c.8-.78.8-2.07 0-2.86zM5.41 20L4 18.59l7.72-7.72 1.47 1.35L5.41 20z\"/>\n",
              "  </svg>\n",
              "      </button>\n",
              "      \n",
              "  <style>\n",
              "    .colab-df-container {\n",
              "      display:flex;\n",
              "      flex-wrap:wrap;\n",
              "      gap: 12px;\n",
              "    }\n",
              "\n",
              "    .colab-df-convert {\n",
              "      background-color: #E8F0FE;\n",
              "      border: none;\n",
              "      border-radius: 50%;\n",
              "      cursor: pointer;\n",
              "      display: none;\n",
              "      fill: #1967D2;\n",
              "      height: 32px;\n",
              "      padding: 0 0 0 0;\n",
              "      width: 32px;\n",
              "    }\n",
              "\n",
              "    .colab-df-convert:hover {\n",
              "      background-color: #E2EBFA;\n",
              "      box-shadow: 0px 1px 2px rgba(60, 64, 67, 0.3), 0px 1px 3px 1px rgba(60, 64, 67, 0.15);\n",
              "      fill: #174EA6;\n",
              "    }\n",
              "\n",
              "    [theme=dark] .colab-df-convert {\n",
              "      background-color: #3B4455;\n",
              "      fill: #D2E3FC;\n",
              "    }\n",
              "\n",
              "    [theme=dark] .colab-df-convert:hover {\n",
              "      background-color: #434B5C;\n",
              "      box-shadow: 0px 1px 3px 1px rgba(0, 0, 0, 0.15);\n",
              "      filter: drop-shadow(0px 1px 2px rgba(0, 0, 0, 0.3));\n",
              "      fill: #FFFFFF;\n",
              "    }\n",
              "  </style>\n",
              "\n",
              "      <script>\n",
              "        const buttonEl =\n",
              "          document.querySelector('#df-56a600e8-f8f4-48ba-b8a9-bea5094689f0 button.colab-df-convert');\n",
              "        buttonEl.style.display =\n",
              "          google.colab.kernel.accessAllowed ? 'block' : 'none';\n",
              "\n",
              "        async function convertToInteractive(key) {\n",
              "          const element = document.querySelector('#df-56a600e8-f8f4-48ba-b8a9-bea5094689f0');\n",
              "          const dataTable =\n",
              "            await google.colab.kernel.invokeFunction('convertToInteractive',\n",
              "                                                     [key], {});\n",
              "          if (!dataTable) return;\n",
              "\n",
              "          const docLinkHtml = 'Like what you see? Visit the ' +\n",
              "            '<a target=\"_blank\" href=https://colab.research.google.com/notebooks/data_table.ipynb>data table notebook</a>'\n",
              "            + ' to learn more about interactive tables.';\n",
              "          element.innerHTML = '';\n",
              "          dataTable['output_type'] = 'display_data';\n",
              "          await google.colab.output.renderOutput(dataTable, element);\n",
              "          const docLink = document.createElement('div');\n",
              "          docLink.innerHTML = docLinkHtml;\n",
              "          element.appendChild(docLink);\n",
              "        }\n",
              "      </script>\n",
              "    </div>\n",
              "  </div>\n",
              "  "
            ]
          },
          "metadata": {},
          "execution_count": 103
        }
      ],
      "source": [
        "train_Embeddings_df"
      ]
    },
    {
      "cell_type": "code",
      "execution_count": 104,
      "metadata": {
        "id": "rpfDjmoNuFxP"
      },
      "outputs": [],
      "source": [
        "train_X[\"QSA_Embeddings\"] = train_Embeddings_df.apply(lambda x:x[\"Q_Student_Answer_Embeddings\"], axis = 1)\n",
        "test_X[\"QSA_Embeddings\"] = test_Embeddings_df.apply(lambda x:x[\"Q_Student_Answer_Embeddings\"], axis = 1)"
      ]
    },
    {
      "cell_type": "code",
      "execution_count": 105,
      "metadata": {
        "id": "6u7EtaR6uJ55"
      },
      "outputs": [],
      "source": [
        "train_df = pd.DataFrame(list(train_X[\"QSA_Embeddings\"]))\n",
        "test_df = pd.DataFrame(list(test_X[\"QSA_Embeddings\"]))"
      ]
    },
    {
      "cell_type": "code",
      "execution_count": 106,
      "metadata": {
        "id": "HwaVqf0S-5y4"
      },
      "outputs": [],
      "source": [
        "train_df.to_csv(\"flair_train_embeddings_QSA.csv\")\n",
        "test_df.to_csv(\"flair_test_embeddings_QSA.csv\")"
      ]
    },
    {
      "cell_type": "code",
      "source": [],
      "metadata": {
        "id": "j9BZ2MV1vKXP"
      },
      "execution_count": 106,
      "outputs": []
    },
    {
      "cell_type": "code",
      "source": [
        "pca = PCA(n_components=100)  # Specify the number of components you want to keep\n",
        "train_df_pca = pca.fit_transform(train_df)"
      ],
      "metadata": {
        "id": "AMnVDi5GvKht"
      },
      "execution_count": 107,
      "outputs": []
    },
    {
      "cell_type": "code",
      "source": [
        "test_df_pca = pca.transform(test_df)"
      ],
      "metadata": {
        "id": "rPpMUEXrvKhu"
      },
      "execution_count": 108,
      "outputs": []
    },
    {
      "cell_type": "code",
      "source": [
        "ncols = train_df_pca.shape[1]"
      ],
      "metadata": {
        "id": "vM-jH3LZvKhv"
      },
      "execution_count": 109,
      "outputs": []
    },
    {
      "cell_type": "code",
      "source": [
        "model = Sequential()\n",
        "model.add(Conv1D(filters=32, kernel_size=3, activation='relu', input_shape=(ncols,1)))\n",
        "model.add(MaxPooling1D(pool_size=2))\n",
        "model.add(Dropout(0.5))\n",
        "model.add(Flatten())\n",
        "model.add(Dense(64, activation='relu'))\n",
        "model.add(Dense(1))\n",
        "\n",
        "# Compile the model\n",
        "model.compile(optimizer='adam', loss='mean_squared_error')\n",
        "\n",
        "# Train the model\n",
        "model.fit(train_df_pca, train_y, epochs=10, batch_size=32, verbose=1)\n",
        "\n",
        "y_true = test_y\n",
        "y_preds = model.predict(test_df_pca)\n",
        "\n",
        "from sklearn.metrics import mean_absolute_error, mean_squared_error, r2_score, mean_absolute_percentage_error\n",
        "cnn_mae = mean_absolute_error(y_true, np.round(y_preds, 1))\n",
        "cnn_mse = mean_squared_error(y_true, np.round(y_preds, 1))\n",
        "cnn_rmse = mean_squared_error(y_true, np.round(y_preds, 1), squared=False)\n",
        "cnn_mape = mean_absolute_percentage_error(y_true, y_preds, multioutput = \"uniform_average\")\n",
        "cnn_r2 = r2_score(y_true, y_preds)\n",
        "\n",
        "print(\"Mean Absolute Error (MAE): \", np.round(cnn_mae, 2))\n",
        "print(\"Mean Squared Error (MSE): \", np.round(cnn_mse, 2))\n",
        "print(\"Root Mean Squared Error (RMSE): \", np.round(cnn_rmse, 2))\n",
        "print(\"Mean Absolute Percentage Error (MAPE): \", np.round(cnn_mape, 2))\n",
        "print(\"R2 Score: \", np.round(cnn_r2, 2))"
      ],
      "metadata": {
        "colab": {
          "base_uri": "https://localhost:8080/"
        },
        "outputId": "4a39aef9-6e4c-4edd-d444-1525d26344f2",
        "id": "XjiKF1j_vKhv"
      },
      "execution_count": 110,
      "outputs": [
        {
          "output_type": "stream",
          "name": "stdout",
          "text": [
            "Epoch 1/10\n",
            "69/69 [==============================] - 1s 3ms/step - loss: 4.2214\n",
            "Epoch 2/10\n",
            "69/69 [==============================] - 0s 3ms/step - loss: 2.7302\n",
            "Epoch 3/10\n",
            "69/69 [==============================] - 0s 3ms/step - loss: 2.6272\n",
            "Epoch 4/10\n",
            "69/69 [==============================] - 0s 3ms/step - loss: 2.5832\n",
            "Epoch 5/10\n",
            "69/69 [==============================] - 0s 3ms/step - loss: 2.5941\n",
            "Epoch 6/10\n",
            "69/69 [==============================] - 0s 4ms/step - loss: 2.5445\n",
            "Epoch 7/10\n",
            "69/69 [==============================] - 0s 5ms/step - loss: 2.5464\n",
            "Epoch 8/10\n",
            "69/69 [==============================] - 0s 5ms/step - loss: 2.5693\n",
            "Epoch 9/10\n",
            "69/69 [==============================] - 0s 4ms/step - loss: 2.6115\n",
            "Epoch 10/10\n",
            "69/69 [==============================] - 0s 4ms/step - loss: 2.5291\n",
            "8/8 [==============================] - 0s 3ms/step\n",
            "Mean Absolute Error (MAE):  1.23\n",
            "Mean Squared Error (MSE):  2.04\n",
            "Root Mean Squared Error (RMSE):  1.43\n",
            "Mean Absolute Percentage Error (MAPE):  524100887339309.2\n",
            "R2 Score:  -0.03\n"
          ]
        }
      ]
    },
    {
      "cell_type": "code",
      "source": [
        "# Create an MLP regressor with a single linear output layer\n",
        "mlp = MLPRegressor(hidden_layer_sizes=(100,50,25,1), activation='identity', solver='lbfgs')\n",
        "\n",
        "# Train the MLP regressor\n",
        "mlp.fit(train_df_pca, train_y)\n",
        "\n",
        "y_preds = mlp.predict(test_df_pca)\n",
        "\n",
        "y_true = test_y\n",
        "\n",
        "from sklearn.metrics import mean_absolute_error, mean_squared_error, r2_score, mean_absolute_percentage_error\n",
        "mlp_mae = mean_absolute_error(y_true, np.round(y_preds, 1))\n",
        "mlp_mse = mean_squared_error(y_true, np.round(y_preds, 1))\n",
        "mlp_rmse = mean_squared_error(y_true, np.round(y_preds, 1), squared=False)\n",
        "mlp_mape = mean_absolute_percentage_error(y_true, y_preds, multioutput = \"uniform_average\")\n",
        "mlp_r2 = r2_score(y_true, y_preds)\n",
        "\n",
        "print(\"Mean Absolute Error (MAE): \", np.round(mlp_mae, 2))\n",
        "print(\"Mean Squared Error (MSE): \", np.round(mlp_mse, 2))\n",
        "print(\"Root Mean Squared Error (RMSE): \", np.round(mlp_rmse, 2))\n",
        "print(\"Mean Absolute Percentage Error (MAPE): \", np.round(mlp_mape, 2))\n",
        "print(\"R2 Score: \", np.round(mlp_r2, 2))"
      ],
      "metadata": {
        "colab": {
          "base_uri": "https://localhost:8080/"
        },
        "outputId": "8ebc6021-3694-43ef-a1d2-6a66d437c74d",
        "id": "qs2kbiFGvKhv"
      },
      "execution_count": 111,
      "outputs": [
        {
          "output_type": "stream",
          "name": "stdout",
          "text": [
            "Mean Absolute Error (MAE):  1.13\n",
            "Mean Squared Error (MSE):  1.91\n",
            "Root Mean Squared Error (RMSE):  1.38\n",
            "Mean Absolute Percentage Error (MAPE):  554597421688499.6\n",
            "R2 Score:  0.04\n"
          ]
        }
      ]
    },
    {
      "cell_type": "code",
      "source": [
        "from sklearn.linear_model import LinearRegression\n",
        "LR_model = LinearRegression()\n",
        "LR_model.fit(train_df_pca, train_y)\n",
        "\n",
        "preds = LR_model.predict(test_df_pca)\n",
        "y_preds = [round(y_val, 1) for y_val in preds]\n",
        "actuals = test_y\n",
        "y_true = [round(y_val, 1) for y_val in actuals]\n",
        "\n",
        "from sklearn.metrics import mean_absolute_error, mean_squared_error, r2_score, mean_absolute_percentage_error\n",
        "LR_mae = mean_absolute_error(y_true, np.round(y_preds, 1))\n",
        "LR_mse = mean_squared_error(y_true, np.round(y_preds, 1))\n",
        "LR_rmse = mean_squared_error(y_true, np.round(y_preds, 1), squared=False)\n",
        "LR_mape = mean_absolute_percentage_error(y_true, y_preds, multioutput = \"uniform_average\")\n",
        "LR_r2 = r2_score(y_true, y_preds)\n",
        "\n",
        "print(\"Mean Absolute Error (MAE): \", np.round(LR_mae, 2))\n",
        "print(\"Mean Squared Error (MSE): \", np.round(LR_mse, 2))\n",
        "print(\"Root Mean Squared Error (RMSE): \", np.round(LR_rmse, 2))\n",
        "print(\"Mean Absolute Percentage Error (MAPE): \", np.round(LR_mape, 2))\n",
        "print(\"R2 Score: \", np.round(LR_r2, 2))"
      ],
      "metadata": {
        "colab": {
          "base_uri": "https://localhost:8080/"
        },
        "outputId": "15177a8c-de44-4f47-f846-80e48f803a43",
        "id": "C90bZaNUvKhw"
      },
      "execution_count": 112,
      "outputs": [
        {
          "output_type": "stream",
          "name": "stdout",
          "text": [
            "Mean Absolute Error (MAE):  1.15\n",
            "Mean Squared Error (MSE):  1.94\n",
            "Root Mean Squared Error (RMSE):  1.39\n",
            "Mean Absolute Percentage Error (MAPE):  556975791965096.56\n",
            "R2 Score:  0.03\n"
          ]
        }
      ]
    },
    {
      "cell_type": "code",
      "source": [],
      "metadata": {
        "id": "Mp8ihE9ovKhw"
      },
      "execution_count": 112,
      "outputs": []
    },
    {
      "cell_type": "code",
      "source": [
        "from sklearn import neighbors\n",
        "rmse_val = []\n",
        "mae_val = []\n",
        "mse_val = []\n",
        "r2_val = []\n",
        "for K in range(2,20):\n",
        "    knn_model = neighbors.KNeighborsRegressor(n_neighbors = K)\n",
        "    knn_model.fit(train_df_pca, train_y)  #fit the model\n",
        "    pred=knn_model.predict(test_df_pca) #make prediction on test set\n",
        "    \n",
        "    mae = mean_absolute_error(y_true, np.round(pred, 1))\n",
        "    mae_val.append(mae)\n",
        "    \n",
        "    mse = mean_squared_error(y_true, np.round(pred, 1))\n",
        "    mse_val.append(mse)\n",
        "    \n",
        "    rmse = mean_squared_error(y_true, np.round(pred, 1), squared=False)\n",
        "    rmse_val.append(rmse)\n",
        "    \n",
        "    r2 = r2_score(y_true, pred)\n",
        "    r2_val.append(r2)\n",
        "\n",
        "y_true = test_y\n",
        "knn_preds = knn_model.predict(test_df_pca)\n",
        "\n",
        "min_val = min(r2_val)\n",
        "index = r2_val.index(min_val)\n",
        "knn_r2 = min_val\n",
        "knn_rmse = rmse_val[index]\n",
        "knn_mae = mae_val[index]\n",
        "knn_mse = mse_val[index]\n",
        "\n",
        "print(\"Mean Absolute Error (MAE): \", np.round(knn_mae, 2))\n",
        "print(\"Mean Squared Error (MSE): \", np.round(knn_mse, 2))\n",
        "print(\"Root Mean Squared Error (RMSE): \", np.round(knn_rmse, 2))\n",
        "print(\"R2 Score: \", np.round(knn_r2, 2))"
      ],
      "metadata": {
        "colab": {
          "base_uri": "https://localhost:8080/"
        },
        "outputId": "62179ee8-8d7d-4ff4-870c-c73d61963306",
        "id": "LHBDTJ4GvKhw"
      },
      "execution_count": 113,
      "outputs": [
        {
          "output_type": "stream",
          "name": "stdout",
          "text": [
            "Mean Absolute Error (MAE):  1.16\n",
            "Mean Squared Error (MSE):  2.63\n",
            "Root Mean Squared Error (RMSE):  1.62\n",
            "R2 Score:  -0.31\n"
          ]
        }
      ]
    },
    {
      "cell_type": "code",
      "source": [
        "from sklearn.ensemble import RandomForestRegressor, GradientBoostingRegressor, AdaBoostRegressor\n",
        "ada_reg = AdaBoostRegressor(n_estimators = 100, learning_rate=0.5)\n",
        "\n",
        "ada_reg.fit(train_df, train_y)\n",
        "\n",
        "ada_reg_pred = ada_reg.predict(pd.DataFrame(test_df))\n",
        "ada_reg_mae = mean_absolute_error(test_y, np.round(ada_reg_pred, 1))\n",
        "ada_reg_mse = mean_squared_error(test_y, np.round(ada_reg_pred, 1))\n",
        "ada_reg_mape = mean_absolute_percentage_error(test_y, np.round(ada_reg_pred,1), multioutput = \"uniform_average\")\n",
        "ada_reg_rmse = mean_squared_error(test_y, np.round(ada_reg_pred, 1), squared=False)\n",
        "ada_reg_r2 = r2_score(test_y, ada_reg_pred)\n",
        "\n",
        "print(\"Mean Absolute Error (MAE): \", np.round(ada_reg_mae, 2))\n",
        "print(\"Mean Squared Error (MSE): \", np.round(ada_reg_mse, 2))\n",
        "print(\"Root Mean Squared Error (RMSE): \", np.round(ada_reg_rmse, 2))\n",
        "print(\"Mean Absolute Percentage Error (MAPE): \", np.round(ada_reg_mape, 2))\n",
        "print(\"R2 Score: \", np.round(ada_reg_r2, 2))"
      ],
      "metadata": {
        "colab": {
          "base_uri": "https://localhost:8080/"
        },
        "outputId": "e09a6a53-34ee-4792-8b04-953013049cf1",
        "id": "Hbe7DavjvKhx"
      },
      "execution_count": 114,
      "outputs": [
        {
          "output_type": "stream",
          "name": "stdout",
          "text": [
            "Mean Absolute Error (MAE):  1.36\n",
            "Mean Squared Error (MSE):  2.37\n",
            "Root Mean Squared Error (RMSE):  1.54\n",
            "Mean Absolute Percentage Error (MAPE):  501829672764141.25\n",
            "R2 Score:  -0.19\n"
          ]
        }
      ]
    },
    {
      "cell_type": "code",
      "source": [
        "gb_reg = GradientBoostingRegressor(n_estimators = 50, max_depth=5)\n",
        "\n",
        "gb_reg.fit(train_df_pca, train_y)\n",
        "\n",
        "gb_reg_pred = gb_reg.predict(pd.DataFrame(test_df_pca))\n",
        "gb_reg_mae = mean_absolute_error(test_y, np.round(gb_reg_pred, 1))\n",
        "gb_reg_mse = mean_squared_error(test_y, np.round(gb_reg_pred, 1))\n",
        "gb_reg_mape = mean_absolute_percentage_error(test_y, np.round(gb_reg_pred,1), multioutput = \"uniform_average\")\n",
        "gb_reg_rmse = mean_squared_error(test_y, np.round(gb_reg_pred, 1), squared=False)\n",
        "gb_reg_r2 = r2_score(test_y, gb_reg_pred)\n",
        "\n",
        "print(\"Mean Absolute Error (MAE): \", np.round(gb_reg_mae, 2))\n",
        "print(\"Mean Squared Error (MSE): \", np.round(gb_reg_mse, 2))\n",
        "print(\"Root Mean Squared Error (RMSE): \", np.round(gb_reg_rmse, 2))\n",
        "print(\"Mean Absolute Percentage Error (MAPE): \", np.round(gb_reg_mape, 2))\n",
        "print(\"R2 Score: \", np.round(gb_reg_r2, 2))"
      ],
      "metadata": {
        "colab": {
          "base_uri": "https://localhost:8080/"
        },
        "outputId": "4cfbfed8-a490-4eee-ded6-e09408484198",
        "id": "MxCm9RIevKhx"
      },
      "execution_count": 115,
      "outputs": [
        {
          "output_type": "stream",
          "name": "stdout",
          "text": [
            "Mean Absolute Error (MAE):  1.13\n",
            "Mean Squared Error (MSE):  1.9\n",
            "Root Mean Squared Error (RMSE):  1.38\n",
            "Mean Absolute Percentage Error (MAPE):  534917343495842.9\n",
            "R2 Score:  0.04\n"
          ]
        }
      ]
    },
    {
      "cell_type": "code",
      "source": [
        "xg_reg = xgb.XGBRegressor(objective ='reg:squarederror', seed = 123)\n",
        "\n",
        "xg_reg.fit(train_df_pca, train_y)\n",
        "\n",
        "# print(\"Best parameters: \", xg_boost_grid_search.best_params_)\n",
        "# print(\"Best score: \", xg_boost_grid_search.best_score_)\n",
        "xg_reg_pred = xg_reg.predict(pd.DataFrame(test_df_pca))\n",
        "xg_reg_mae = mean_absolute_error(test_y, np.round(xg_reg_pred, 1))\n",
        "xg_reg_mse = mean_squared_error(test_y, np.round(xg_reg_pred, 1))\n",
        "xg_reg_mape = mean_absolute_percentage_error(test_y, np.round(xg_reg_pred,1), multioutput = \"uniform_average\")\n",
        "xg_reg_rmse = mean_squared_error(test_y, np.round(xg_reg_pred, 1), squared=False)\n",
        "xg_reg_r2 = r2_score(test_y, xg_reg_pred)\n",
        "\n",
        "print(\"Mean Absolute Error (MAE): \", np.round(xg_reg_mae, 2))\n",
        "print(\"Mean Squared Error (MSE): \", np.round(xg_reg_mse, 2))\n",
        "print(\"Root Mean Squared Error (RMSE): \", np.round(xg_reg_rmse, 2))\n",
        "print(\"Mean Absolute Percentage Error (MAPE): \", np.round(xg_reg_mape, 2))\n",
        "print(\"R2 Score: \", np.round(xg_reg_r2, 2))"
      ],
      "metadata": {
        "colab": {
          "base_uri": "https://localhost:8080/"
        },
        "outputId": "cc7dfc92-dd0a-496d-c815-eef73202b86f",
        "id": "_zJab553vKhx"
      },
      "execution_count": 116,
      "outputs": [
        {
          "output_type": "stream",
          "name": "stdout",
          "text": [
            "Mean Absolute Error (MAE):  1.18\n",
            "Mean Squared Error (MSE):  2.35\n",
            "Root Mean Squared Error (RMSE):  1.53\n",
            "Mean Absolute Percentage Error (MAPE):  527564515506351.8\n",
            "R2 Score:  -0.18\n"
          ]
        }
      ]
    },
    {
      "cell_type": "code",
      "source": [],
      "metadata": {
        "id": "vYpw6YWJvKhx"
      },
      "execution_count": 116,
      "outputs": []
    }
  ],
  "metadata": {
    "accelerator": "GPU",
    "colab": {
      "gpuType": "T4",
      "provenance": []
    },
    "kernelspec": {
      "display_name": "Python 3",
      "name": "python3"
    },
    "language_info": {
      "codemirror_mode": {
        "name": "ipython",
        "version": 3
      },
      "file_extension": ".py",
      "mimetype": "text/x-python",
      "name": "python",
      "nbconvert_exporter": "python",
      "pygments_lexer": "ipython3",
      "version": "3.8.8"
    }
  },
  "nbformat": 4,
  "nbformat_minor": 0
}