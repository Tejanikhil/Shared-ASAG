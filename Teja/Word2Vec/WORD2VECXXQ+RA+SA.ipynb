{
  "cells": [
    {
      "cell_type": "code",
      "execution_count": 1,
      "metadata": {
        "id": "14MXCT5NqpRl"
      },
      "outputs": [],
      "source": [
        "import pandas as pd\n",
        "import nltk\n",
        "from nltk.corpus import stopwords\n",
        "from nltk.tokenize import word_tokenize\n",
        "from sklearn.model_selection import train_test_split\n",
        "\n",
        "from keras.utils import to_categorical\n",
        "from keras.layers import Conv1D, MaxPooling1D, GlobalMaxPooling1D, Flatten, Dense, Dropout\n",
        "from keras.models import Sequential\n",
        "\n",
        "from sklearn.decomposition import PCA\n",
        "\n",
        "from sklearn.neural_network import MLPRegressor\n",
        "\n",
        "import numpy as np\n",
        "\n",
        "import xgboost as xgb"
      ]
    },
    {
      "cell_type": "code",
      "execution_count": 2,
      "metadata": {
        "id": "f9792bef"
      },
      "outputs": [],
      "source": [
        "url = \"https://raw.githubusercontent.com/Tejanikhil/Shared-ASAG/main\"\n",
        "df = pd.read_csv(url + \"/SemEvalData.csv\")"
      ]
    },
    {
      "cell_type": "code",
      "execution_count": 3,
      "metadata": {
        "colab": {
          "base_uri": "https://localhost:8080/"
        },
        "id": "f5cjS38-rXRi",
        "outputId": "b792907d-88e8-4d47-e925-c016baecb808"
      },
      "outputs": [
        {
          "output_type": "stream",
          "name": "stderr",
          "text": [
            "[nltk_data] Downloading package stopwords to /root/nltk_data...\n",
            "[nltk_data]   Unzipping corpora/stopwords.zip.\n",
            "[nltk_data] Downloading package averaged_perceptron_tagger to\n",
            "[nltk_data]     /root/nltk_data...\n",
            "[nltk_data]   Unzipping taggers/averaged_perceptron_tagger.zip.\n",
            "[nltk_data] Downloading package punkt to /root/nltk_data...\n",
            "[nltk_data]   Unzipping tokenizers/punkt.zip.\n"
          ]
        }
      ],
      "source": [
        "import pandas as pd\n",
        "import nltk\n",
        "import numpy as np\n",
        "from nltk.tokenize import word_tokenize, sent_tokenize\n",
        "from sklearn.metrics.pairwise import cosine_similarity\n",
        "import nltk\n",
        "from nltk.corpus import stopwords\n",
        "\n",
        "# Download the stopwords corpus if not already downloaded\n",
        "nltk.download('stopwords')\n",
        "nltk.download('averaged_perceptron_tagger')\n",
        "nltk.download('punkt')\n",
        "stop_words = set(stopwords.words('english'))"
      ]
    },
    {
      "cell_type": "code",
      "execution_count": 4,
      "metadata": {
        "id": "EkUiTEeKtwEv"
      },
      "outputs": [],
      "source": [
        "def extract_pos(text):\n",
        "    tokens = word_tokenize(text)\n",
        "    pos_tags = nltk.pos_tag(tokens)\n",
        "    pos_words = [word for word, pos in pos_tags if pos.startswith('VB') or pos.startswith('JJ') or pos.startswith('NN')]\n",
        "    return ' '.join(pos_words)\n",
        "\n",
        "def process_dataset(text):\n",
        "    lower_cased = text.lower()\n",
        "    tokens = nltk.word_tokenize(lower_cased)\n",
        "    filtered_tokens = [token for token in tokens if token not in stop_words]\n",
        "    preprocessed = ' '.join(filtered_tokens)\n",
        "    return preprocessed"
      ]
    },
    {
      "cell_type": "code",
      "execution_count": 5,
      "metadata": {
        "id": "3B3Z2aN9tx40"
      },
      "outputs": [],
      "source": [
        "from sklearn.model_selection import train_test_split\n",
        "train_X, test_X, train_y, test_y = train_test_split(df.loc[:,[\"Actual Answer\",\"Student Answer\"]], df[\"Grade\"], test_size=0.1, random_state=42)"
      ]
    },
    {
      "cell_type": "code",
      "source": [
        "TRAIN = train_X\n",
        "TRAIN[\"LABELS\"] = train_y\n",
        "TEST = test_X\n",
        "TEST[\"LABELS\"] = test_y"
      ],
      "metadata": {
        "id": "yGy40WjePejn"
      },
      "execution_count": 6,
      "outputs": []
    },
    {
      "cell_type": "code",
      "execution_count": 7,
      "metadata": {
        "id": "vfwWEnJ3tzIL"
      },
      "outputs": [],
      "source": [
        "train_X[\"Actual Answer\"] = train_X[\"Actual Answer\"].apply(extract_pos).apply(process_dataset)\n",
        "train_X[\"Student Answer\"] = train_X[\"Student Answer\"].apply(extract_pos).apply(process_dataset)\n",
        "\n",
        "test_X[\"Actual Answer\"] = test_X[\"Actual Answer\"].apply(extract_pos).apply(process_dataset)\n",
        "test_X[\"Student Answer\"] = test_X[\"Student Answer\"].apply(extract_pos).apply(process_dataset)"
      ]
    },
    {
      "cell_type": "code",
      "source": [
        "print(TRAIN.shape)\n",
        "TRAIN = TRAIN.replace(\"\", pd.NA).dropna()\n",
        "print(TRAIN.shape)\n",
        "TEST = TEST.replace(\"\", pd.NA).dropna()"
      ],
      "metadata": {
        "colab": {
          "base_uri": "https://localhost:8080/"
        },
        "id": "Wnxt8yYqPgvR",
        "outputId": "3149f12e-0c99-4838-f89f-d7ab87c7240c"
      },
      "execution_count": 8,
      "outputs": [
        {
          "output_type": "stream",
          "name": "stdout",
          "text": [
            "(2197, 3)\n",
            "(2184, 3)\n"
          ]
        }
      ]
    },
    {
      "cell_type": "code",
      "source": [
        "train_X = TRAIN.drop(\"LABELS\", axis = 1)\n",
        "train_y = TRAIN.iloc[:,-1]\n",
        "test_X = TEST.drop(\"LABELS\", axis = 1)\n",
        "test_y = TEST.iloc[:,-1]"
      ],
      "metadata": {
        "id": "CR2ErzpbPiwW"
      },
      "execution_count": 9,
      "outputs": []
    },
    {
      "cell_type": "code",
      "execution_count": 10,
      "metadata": {
        "id": "X3Fk-CaUt0Ba"
      },
      "outputs": [],
      "source": [
        "sentences = list(train_X[\"Actual Answer\"]) + list(train_X[\"Student Answer\"])\n",
        "sentences = [i.split() for i in sentences]"
      ]
    },
    {
      "cell_type": "code",
      "execution_count": 11,
      "metadata": {
        "id": "bB_tDKjpuAzu"
      },
      "outputs": [],
      "source": [
        "from gensim.models import Word2Vec\n",
        "from gensim.utils import simple_preprocess"
      ]
    },
    {
      "cell_type": "code",
      "execution_count": 12,
      "metadata": {
        "id": "NPht_JBiuB6D"
      },
      "outputs": [],
      "source": [
        "train_Embeddings_df = pd.DataFrame({\"Student_Answer_Embeddings\":train_X[\"Student Answer\"], \"Reference_Answer_Embeddings\":train_X[\"Actual Answer\"]})\n",
        "test_Embeddings_df = pd.DataFrame({\"Student_Answer_Embeddings\":test_X[\"Student Answer\"], \"Reference_Answer_Embeddings\":test_X[\"Actual Answer\"]})"
      ]
    },
    {
      "cell_type": "code",
      "source": [
        "vocab = []\n",
        "for words_list in sentences:\n",
        "  vocab.extend(words_list)"
      ],
      "metadata": {
        "id": "7Q046bkmG2XX"
      },
      "execution_count": null,
      "outputs": []
    },
    {
      "cell_type": "code",
      "execution_count": 13,
      "metadata": {
        "id": "njcbmbcAuCzk"
      },
      "outputs": [],
      "source": [
        "model = Word2Vec(sentences, min_count=1)"
      ]
    },
    {
      "cell_type": "code",
      "execution_count": 14,
      "metadata": {
        "id": "A98hQLaluDvA"
      },
      "outputs": [],
      "source": [
        "def get_wordvec_embeddings(data, default_embedding=np.zeros(100)):\n",
        "\n",
        "  words = data.split()\n",
        "  embedding = []\n",
        "  for word in words:\n",
        "      if word in vocab:\n",
        "          embedding.append(model.wv[word])\n",
        "      else:\n",
        "          embedding.append(default_embedding)\n",
        "\n",
        "  return np.mean(np.array(embedding),axis = 0)"
      ]
    },
    {
      "cell_type": "code",
      "execution_count": 15,
      "metadata": {
        "id": "fkiR8qiiuE32"
      },
      "outputs": [],
      "source": [
        "train_Embeddings_df[\"Student_Answer_Embeddings\"] = train_Embeddings_df[\"Student_Answer_Embeddings\"].apply(get_wordvec_embeddings)\n",
        "train_Embeddings_df[\"Reference_Answer_Embeddings\"] = train_Embeddings_df[\"Reference_Answer_Embeddings\"].apply(get_wordvec_embeddings)\n",
        "\n",
        "test_Embeddings_df[\"Student_Answer_Embeddings\"] = test_Embeddings_df[\"Student_Answer_Embeddings\"].apply(get_wordvec_embeddings)\n",
        "test_Embeddings_df[\"Reference_Answer_Embeddings\"] = test_Embeddings_df[\"Reference_Answer_Embeddings\"].apply(get_wordvec_embeddings)"
      ]
    },
    {
      "cell_type": "code",
      "execution_count": 16,
      "metadata": {
        "id": "rpfDjmoNuFxP"
      },
      "outputs": [],
      "source": [
        "train_X[\"Subtracted_Embeddings\"] = train_Embeddings_df.apply(lambda x:x[\"Student_Answer_Embeddings\"]-x[\"Reference_Answer_Embeddings\"], axis = 1)\n",
        "test_X[\"Subtracted_Embeddings\"] = test_Embeddings_df.apply(lambda x:x[\"Student_Answer_Embeddings\"]-x[\"Reference_Answer_Embeddings\"], axis = 1)"
      ]
    },
    {
      "cell_type": "code",
      "execution_count": 17,
      "metadata": {
        "id": "6u7EtaR6uJ55"
      },
      "outputs": [],
      "source": [
        "train_df = pd.DataFrame(list(train_X[\"Subtracted_Embeddings\"]))\n",
        "test_df = pd.DataFrame(list(test_X[\"Subtracted_Embeddings\"]))"
      ]
    },
    {
      "cell_type": "code",
      "source": [],
      "metadata": {
        "id": "AksXhoo38U3T"
      },
      "execution_count": 17,
      "outputs": []
    },
    {
      "cell_type": "code",
      "source": [
        "pca = PCA(n_components=100)  # Specify the number of components you want to keep\n",
        "train_df_pca = pca.fit_transform(train_df)"
      ],
      "metadata": {
        "id": "SUemBOzKnksw"
      },
      "execution_count": 18,
      "outputs": []
    },
    {
      "cell_type": "code",
      "source": [
        "test_df_pca = pca.transform(test_df)"
      ],
      "metadata": {
        "id": "Ju6QZpiZnrSP"
      },
      "execution_count": 19,
      "outputs": []
    },
    {
      "cell_type": "code",
      "source": [
        "ncols = train_df_pca.shape[1]"
      ],
      "metadata": {
        "id": "1pTAqkuecz9i"
      },
      "execution_count": 20,
      "outputs": []
    },
    {
      "cell_type": "code",
      "source": [
        "model = Sequential()\n",
        "model.add(Conv1D(filters=32, kernel_size=3, activation='relu', input_shape=(ncols,1)))\n",
        "model.add(MaxPooling1D(pool_size=2))\n",
        "model.add(Dropout(0.5))\n",
        "model.add(Flatten())\n",
        "model.add(Dense(64, activation='relu'))\n",
        "model.add(Dense(1))\n",
        "\n",
        "# Compile the model\n",
        "model.compile(optimizer='adam', loss='mean_squared_error')\n",
        "\n",
        "# Train the model\n",
        "model.fit(train_df_pca, train_y, epochs=10, batch_size=32, verbose=1)\n",
        "\n",
        "y_true = test_y\n",
        "y_preds = model.predict(test_df_pca)\n",
        "\n",
        "from sklearn.metrics import mean_absolute_error, mean_squared_error, r2_score, mean_absolute_percentage_error\n",
        "cnn_mae = mean_absolute_error(y_true, np.round(y_preds, 1))\n",
        "cnn_mse = mean_squared_error(y_true, np.round(y_preds, 1))\n",
        "cnn_rmse = mean_squared_error(y_true, np.round(y_preds, 1), squared=False)\n",
        "cnn_mape = mean_absolute_percentage_error(y_true, y_preds, multioutput = \"uniform_average\")\n",
        "cnn_r2 = r2_score(y_true, y_preds)\n",
        "\n",
        "print(\"Mean Absolute Error (MAE): \", np.round(cnn_mae, 2))\n",
        "print(\"Mean Squared Error (MSE): \", np.round(cnn_mse, 2))\n",
        "print(\"Root Mean Squared Error (RMSE): \", np.round(cnn_rmse, 2))\n",
        "print(\"Mean Absolute Percentage Error (MAPE): \", np.round(cnn_mape, 2))\n",
        "print(\"R2 Score: \", np.round(cnn_r2, 2))"
      ],
      "metadata": {
        "colab": {
          "base_uri": "https://localhost:8080/"
        },
        "id": "817WVQ-Yn1wF",
        "outputId": "95870f08-a8ed-4e2b-a432-c9a2cd1c1e32"
      },
      "execution_count": 21,
      "outputs": [
        {
          "output_type": "stream",
          "name": "stdout",
          "text": [
            "Epoch 1/10\n",
            "69/69 [==============================] - 14s 4ms/step - loss: 5.1213\n",
            "Epoch 2/10\n",
            "69/69 [==============================] - 0s 3ms/step - loss: 2.7166\n",
            "Epoch 3/10\n",
            "69/69 [==============================] - 0s 3ms/step - loss: 2.6383\n",
            "Epoch 4/10\n",
            "69/69 [==============================] - 0s 3ms/step - loss: 2.6225\n",
            "Epoch 5/10\n",
            "69/69 [==============================] - 0s 3ms/step - loss: 2.6271\n",
            "Epoch 6/10\n",
            "69/69 [==============================] - 0s 3ms/step - loss: 2.6135\n",
            "Epoch 7/10\n",
            "69/69 [==============================] - 0s 3ms/step - loss: 2.5863\n",
            "Epoch 8/10\n",
            "69/69 [==============================] - 0s 3ms/step - loss: 2.6057\n",
            "Epoch 9/10\n",
            "69/69 [==============================] - 0s 3ms/step - loss: 2.5821\n",
            "Epoch 10/10\n",
            "69/69 [==============================] - 0s 3ms/step - loss: 2.5576\n",
            "8/8 [==============================] - 0s 5ms/step\n",
            "Mean Absolute Error (MAE):  1.21\n",
            "Mean Squared Error (MSE):  1.96\n",
            "Root Mean Squared Error (RMSE):  1.4\n",
            "Mean Absolute Percentage Error (MAPE):  540054709899849.6\n",
            "R2 Score:  0.01\n"
          ]
        }
      ]
    },
    {
      "cell_type": "code",
      "source": [
        "mlp = MLPRegressor(hidden_layer_sizes=(100,50,25,1), activation='identity', solver=\"\")\n",
        "\n",
        "# Train the MLP regressor\n",
        "mlp.fit(train_df_pca, train_y)\n",
        "\n",
        "y_preds = mlp.predict(test_df_pca)\n",
        "\n",
        "y_true = test_y\n",
        "\n",
        "from sklearn.metrics import mean_absolute_error, mean_squared_error, r2_score, mean_absolute_percentage_error\n",
        "mlp_mae = mean_absolute_error(y_true, np.round(y_preds, 1))\n",
        "mlp_mse = mean_squared_error(y_true, np.round(y_preds, 1))\n",
        "mlp_rmse = mean_squared_error(y_true, np.round(y_preds, 1), squared=False)\n",
        "mlp_mape = mean_absolute_percentage_error(y_true, y_preds, multioutput = \"uniform_average\")\n",
        "mlp_r2 = r2_score(y_true, y_preds)\n",
        "\n",
        "print(\"Mean Absolute Error (MAE): \", np.round(mlp_mae, 2))\n",
        "print(\"Mean Squared Error (MSE): \", np.round(mlp_mse, 2))\n",
        "print(\"Root Mean Squared Error (RMSE): \", np.round(mlp_rmse, 2))\n",
        "print(\"Mean Absolute Percentage Error (MAPE): \", np.round(mlp_mape, 2))\n",
        "print(\"R2 Score: \", np.round(mlp_r2, 2))"
      ],
      "metadata": {
        "colab": {
          "base_uri": "https://localhost:8080/"
        },
        "id": "G-dAurLQoJG-",
        "outputId": "ab1c4e07-d68f-4d23-8868-94e84eedb8d4"
      },
      "execution_count": 22,
      "outputs": [
        {
          "output_type": "stream",
          "name": "stdout",
          "text": [
            "Mean Absolute Error (MAE):  1.09\n",
            "Mean Squared Error (MSE):  1.76\n",
            "Root Mean Squared Error (RMSE):  1.33\n",
            "Mean Absolute Percentage Error (MAPE):  479137527743748.94\n",
            "R2 Score:  0.11\n"
          ]
        },
        {
          "output_type": "stream",
          "name": "stderr",
          "text": [
            "/usr/local/lib/python3.10/dist-packages/sklearn/neural_network/_multilayer_perceptron.py:541: ConvergenceWarning: lbfgs failed to converge (status=1):\n",
            "STOP: TOTAL NO. of ITERATIONS REACHED LIMIT.\n",
            "\n",
            "Increase the number of iterations (max_iter) or scale the data as shown in:\n",
            "    https://scikit-learn.org/stable/modules/preprocessing.html\n",
            "  self.n_iter_ = _check_optimize_result(\"lbfgs\", opt_res, self.max_iter)\n"
          ]
        }
      ]
    },
    {
      "cell_type": "code",
      "source": [
        "from sklearn.linear_model import LinearRegression\n",
        "LR_model = LinearRegression()\n",
        "LR_model.fit(train_df_pca, train_y)\n",
        "\n",
        "preds = LR_model.predict(test_df_pca)\n",
        "y_preds = [round(y_val, 1) for y_val in preds]\n",
        "actuals = test_y\n",
        "y_true = [round(y_val, 1) for y_val in actuals]\n",
        "\n",
        "from sklearn.metrics import mean_absolute_error, mean_squared_error, r2_score, mean_absolute_percentage_error\n",
        "LR_mae = mean_absolute_error(y_true, np.round(y_preds, 1))\n",
        "LR_mse = mean_squared_error(y_true, np.round(y_preds, 1))\n",
        "LR_rmse = mean_squared_error(y_true, np.round(y_preds, 1), squared=False)\n",
        "LR_mape = mean_absolute_percentage_error(y_true, y_preds, multioutput = \"uniform_average\")\n",
        "LR_r2 = r2_score(y_true, y_preds)\n",
        "\n",
        "print(\"Mean Absolute Error (MAE): \", np.round(LR_mae, 2))\n",
        "print(\"Mean Squared Error (MSE): \", np.round(LR_mse, 2))\n",
        "print(\"Root Mean Squared Error (RMSE): \", np.round(LR_rmse, 2))\n",
        "print(\"Mean Absolute Percentage Error (MAPE): \", np.round(LR_mape, 2))\n",
        "print(\"R2 Score: \", np.round(LR_r2, 2))"
      ],
      "metadata": {
        "colab": {
          "base_uri": "https://localhost:8080/"
        },
        "id": "iQmHvzUMoRTP",
        "outputId": "6179e754-1cf3-4fa6-8f93-81cce654bf03"
      },
      "execution_count": 23,
      "outputs": [
        {
          "output_type": "stream",
          "name": "stdout",
          "text": [
            "Mean Absolute Error (MAE):  1.09\n",
            "Mean Squared Error (MSE):  1.77\n",
            "Root Mean Squared Error (RMSE):  1.33\n",
            "Mean Absolute Percentage Error (MAPE):  468741998197647.5\n",
            "R2 Score:  0.12\n"
          ]
        }
      ]
    },
    {
      "cell_type": "code",
      "source": [],
      "metadata": {
        "id": "S3JqEc_0oZCJ"
      },
      "execution_count": 23,
      "outputs": []
    },
    {
      "cell_type": "code",
      "source": [
        "from sklearn import neighbors\n",
        "rmse_val = []\n",
        "mae_val = []\n",
        "mse_val = []\n",
        "r2_val = []\n",
        "for K in range(2,20):\n",
        "    knn_model = neighbors.KNeighborsRegressor(n_neighbors = K)\n",
        "    knn_model.fit(train_df_pca, train_y)  #fit the model\n",
        "    pred=knn_model.predict(test_df_pca) #make prediction on test set\n",
        "    \n",
        "    mae = mean_absolute_error(y_true, np.round(pred, 1))\n",
        "    mae_val.append(mae)\n",
        "    \n",
        "    mse = mean_squared_error(y_true, np.round(pred, 1))\n",
        "    mse_val.append(mse)\n",
        "    \n",
        "    rmse = mean_squared_error(y_true, np.round(pred, 1), squared=False)\n",
        "    rmse_val.append(rmse)\n",
        "    \n",
        "    r2 = r2_score(y_true, pred)\n",
        "    r2_val.append(r2)\n",
        "\n",
        "y_true = test_y\n",
        "knn_preds = knn_model.predict(test_df_pca)\n",
        "\n",
        "min_val = min(r2_val)\n",
        "index = r2_val.index(min_val)\n",
        "knn_r2 = min_val\n",
        "knn_rmse = rmse_val[index]\n",
        "knn_mae = mae_val[index]\n",
        "knn_mse = mse_val[index]\n",
        "\n",
        "print(\"Mean Absolute Error (MAE): \", np.round(knn_mae, 2))\n",
        "print(\"Mean Squared Error (MSE): \", np.round(knn_mse, 2))\n",
        "print(\"Root Mean Squared Error (RMSE): \", np.round(knn_rmse, 2))\n",
        "print(\"R2 Score: \", np.round(knn_r2, 2))"
      ],
      "metadata": {
        "id": "VZUfaC8TO6Lr",
        "colab": {
          "base_uri": "https://localhost:8080/"
        },
        "outputId": "e31f90f4-21ff-4966-cc49-919fa1fe3698"
      },
      "execution_count": 24,
      "outputs": [
        {
          "output_type": "stream",
          "name": "stdout",
          "text": [
            "Mean Absolute Error (MAE):  1.21\n",
            "Mean Squared Error (MSE):  2.77\n",
            "Root Mean Squared Error (RMSE):  1.66\n",
            "R2 Score:  -0.37\n"
          ]
        }
      ]
    },
    {
      "cell_type": "code",
      "source": [
        "from sklearn.ensemble import RandomForestRegressor, GradientBoostingRegressor, AdaBoostRegressor\n",
        "ada_reg = AdaBoostRegressor(n_estimators = 100, learning_rate=0.5)\n",
        "\n",
        "ada_reg.fit(train_df, train_y)\n",
        "\n",
        "ada_reg_pred = ada_reg.predict(pd.DataFrame(test_df))\n",
        "ada_reg_mae = mean_absolute_error(test_y, np.round(ada_reg_pred, 1))\n",
        "ada_reg_mse = mean_squared_error(test_y, np.round(ada_reg_pred, 1))\n",
        "ada_reg_mape = mean_absolute_percentage_error(test_y, np.round(ada_reg_pred,1), multioutput = \"uniform_average\")\n",
        "ada_reg_rmse = mean_squared_error(test_y, np.round(ada_reg_pred, 1), squared=False)\n",
        "ada_reg_r2 = r2_score(test_y, ada_reg_pred)\n",
        "\n",
        "print(\"Mean Absolute Error (MAE): \", np.round(ada_reg_mae, 2))\n",
        "print(\"Mean Squared Error (MSE): \", np.round(ada_reg_mse, 2))\n",
        "print(\"Root Mean Squared Error (RMSE): \", np.round(ada_reg_rmse, 2))\n",
        "print(\"Mean Absolute Percentage Error (MAPE): \", np.round(ada_reg_mape, 2))\n",
        "print(\"R2 Score: \", np.round(ada_reg_r2, 2))"
      ],
      "metadata": {
        "id": "WKxpmf1WPrnr",
        "colab": {
          "base_uri": "https://localhost:8080/"
        },
        "outputId": "461a9390-6ed7-4a80-f377-e541ace9bfd4"
      },
      "execution_count": 25,
      "outputs": [
        {
          "output_type": "stream",
          "name": "stdout",
          "text": [
            "Mean Absolute Error (MAE):  1.35\n",
            "Mean Squared Error (MSE):  2.3\n",
            "Root Mean Squared Error (RMSE):  1.52\n",
            "Mean Absolute Percentage Error (MAPE):  485285837398290.5\n",
            "R2 Score:  -0.17\n"
          ]
        }
      ]
    },
    {
      "cell_type": "code",
      "source": [
        "gb_reg = GradientBoostingRegressor(n_estimators = 50, max_depth=5)\n",
        "\n",
        "gb_reg.fit(train_df_pca, train_y)\n",
        "\n",
        "gb_reg_pred = gb_reg.predict(pd.DataFrame(test_df_pca))\n",
        "gb_reg_mae = mean_absolute_error(test_y, np.round(gb_reg_pred, 1))\n",
        "gb_reg_mse = mean_squared_error(test_y, np.round(gb_reg_pred, 1))\n",
        "gb_reg_mape = mean_absolute_percentage_error(test_y, np.round(gb_reg_pred,1), multioutput = \"uniform_average\")\n",
        "gb_reg_rmse = mean_squared_error(test_y, np.round(gb_reg_pred, 1), squared=False)\n",
        "gb_reg_r2 = r2_score(test_y, gb_reg_pred)\n",
        "\n",
        "print(\"Mean Absolute Error (MAE): \", np.round(gb_reg_mae, 2))\n",
        "print(\"Mean Squared Error (MSE): \", np.round(gb_reg_mse, 2))\n",
        "print(\"Root Mean Squared Error (RMSE): \", np.round(gb_reg_rmse, 2))\n",
        "print(\"Mean Absolute Percentage Error (MAPE): \", np.round(gb_reg_mape, 2))\n",
        "print(\"R2 Score: \", np.round(gb_reg_r2, 2))"
      ],
      "metadata": {
        "id": "6HDdNMgZPtLL",
        "colab": {
          "base_uri": "https://localhost:8080/"
        },
        "outputId": "da32c185-849f-4b17-8eae-f6199e4d5f84"
      },
      "execution_count": 26,
      "outputs": [
        {
          "output_type": "stream",
          "name": "stdout",
          "text": [
            "Mean Absolute Error (MAE):  1.08\n",
            "Mean Squared Error (MSE):  1.76\n",
            "Root Mean Squared Error (RMSE):  1.33\n",
            "Mean Absolute Percentage Error (MAPE):  457712778455205.8\n",
            "R2 Score:  0.11\n"
          ]
        }
      ]
    },
    {
      "cell_type": "code",
      "source": [
        "xg_reg = xgb.XGBRegressor(objective ='reg:squarederror', seed = 123)\n",
        "\n",
        "xg_reg.fit(train_df_pca, train_y)\n",
        "\n",
        "# print(\"Best parameters: \", xg_boost_grid_search.best_params_)\n",
        "# print(\"Best score: \", xg_boost_grid_search.best_score_)\n",
        "xg_reg_pred = xg_reg.predict(pd.DataFrame(test_df_pca))\n",
        "xg_reg_mae = mean_absolute_error(test_y, np.round(xg_reg_pred, 1))\n",
        "xg_reg_mse = mean_squared_error(test_y, np.round(xg_reg_pred, 1))\n",
        "xg_reg_mape = mean_absolute_percentage_error(test_y, np.round(xg_reg_pred,1), multioutput = \"uniform_average\")\n",
        "xg_reg_rmse = mean_squared_error(test_y, np.round(xg_reg_pred, 1), squared=False)\n",
        "xg_reg_r2 = r2_score(test_y, xg_reg_pred)\n",
        "\n",
        "print(\"Mean Absolute Error (MAE): \", np.round(xg_reg_mae, 2))\n",
        "print(\"Mean Squared Error (MSE): \", np.round(xg_reg_mse, 2))\n",
        "print(\"Root Mean Squared Error (RMSE): \", np.round(xg_reg_rmse, 2))\n",
        "print(\"Mean Absolute Percentage Error (MAPE): \", np.round(xg_reg_mape, 2))\n",
        "print(\"R2 Score: \", np.round(xg_reg_r2, 2))"
      ],
      "metadata": {
        "colab": {
          "base_uri": "https://localhost:8080/"
        },
        "id": "mSLeTmvQPuwM",
        "outputId": "482845f8-332b-4b97-bd33-5f182e8d9f27"
      },
      "execution_count": 27,
      "outputs": [
        {
          "output_type": "stream",
          "name": "stdout",
          "text": [
            "Mean Absolute Error (MAE):  1.11\n",
            "Mean Squared Error (MSE):  2.11\n",
            "Root Mean Squared Error (RMSE):  1.45\n",
            "Mean Absolute Percentage Error (MAPE):  437492532162443.25\n",
            "R2 Score:  -0.06\n"
          ]
        }
      ]
    },
    {
      "cell_type": "code",
      "source": [],
      "metadata": {
        "id": "y2uYTxlf6pjy"
      },
      "execution_count": 27,
      "outputs": []
    }
  ],
  "metadata": {
    "colab": {
      "provenance": [],
      "gpuType": "T4"
    },
    "kernelspec": {
      "display_name": "Python 3",
      "name": "python3"
    },
    "language_info": {
      "codemirror_mode": {
        "name": "ipython",
        "version": 3
      },
      "file_extension": ".py",
      "mimetype": "text/x-python",
      "name": "python",
      "nbconvert_exporter": "python",
      "pygments_lexer": "ipython3",
      "version": "3.8.8"
    },
    "accelerator": "GPU"
  },
  "nbformat": 4,
  "nbformat_minor": 0
}