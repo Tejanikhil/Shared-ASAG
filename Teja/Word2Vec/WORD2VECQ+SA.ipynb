{
  "cells": [
    {
      "cell_type": "code",
      "execution_count": 1,
      "metadata": {
        "id": "14MXCT5NqpRl"
      },
      "outputs": [],
      "source": [
        "import pandas as pd\n",
        "import nltk\n",
        "from nltk.corpus import stopwords\n",
        "from nltk.tokenize import word_tokenize\n",
        "from sklearn.model_selection import train_test_split\n",
        "\n",
        "from keras.utils import to_categorical\n",
        "from keras.layers import Conv1D, MaxPooling1D, GlobalMaxPooling1D, Flatten, Dense, Dropout\n",
        "from keras.models import Sequential\n",
        "\n",
        "from sklearn.decomposition import PCA\n",
        "\n",
        "from sklearn.neural_network import MLPRegressor\n",
        "\n",
        "import numpy as np\n",
        "\n",
        "import xgboost as xgb"
      ]
    },
    {
      "cell_type": "code",
      "execution_count": 2,
      "metadata": {
        "id": "f9792bef"
      },
      "outputs": [],
      "source": [
        "url = \"https://raw.githubusercontent.com/Tejanikhil/Shared-ASAG/main\"\n",
        "df = pd.read_csv(url + \"/SemEvalData.csv\")"
      ]
    },
    {
      "cell_type": "code",
      "execution_count": 3,
      "metadata": {
        "colab": {
          "base_uri": "https://localhost:8080/"
        },
        "id": "f5cjS38-rXRi",
        "outputId": "76580407-5ba2-40ec-f3d4-189f1c1a361a"
      },
      "outputs": [
        {
          "output_type": "stream",
          "name": "stderr",
          "text": [
            "[nltk_data] Downloading package stopwords to /root/nltk_data...\n",
            "[nltk_data]   Unzipping corpora/stopwords.zip.\n",
            "[nltk_data] Downloading package averaged_perceptron_tagger to\n",
            "[nltk_data]     /root/nltk_data...\n",
            "[nltk_data]   Unzipping taggers/averaged_perceptron_tagger.zip.\n",
            "[nltk_data] Downloading package punkt to /root/nltk_data...\n",
            "[nltk_data]   Unzipping tokenizers/punkt.zip.\n"
          ]
        }
      ],
      "source": [
        "import pandas as pd\n",
        "import nltk\n",
        "import numpy as np\n",
        "from nltk.tokenize import word_tokenize, sent_tokenize\n",
        "from sklearn.metrics.pairwise import cosine_similarity\n",
        "import nltk\n",
        "from nltk.corpus import stopwords\n",
        "\n",
        "# Download the stopwords corpus if not already downloaded\n",
        "nltk.download('stopwords')\n",
        "nltk.download('averaged_perceptron_tagger')\n",
        "nltk.download('punkt')\n",
        "stop_words = set(stopwords.words('english'))"
      ]
    },
    {
      "cell_type": "code",
      "execution_count": 4,
      "metadata": {
        "id": "EkUiTEeKtwEv"
      },
      "outputs": [],
      "source": [
        "def extract_pos(text):\n",
        "    tokens = word_tokenize(text)\n",
        "    pos_tags = nltk.pos_tag(tokens)\n",
        "    pos_words = [word for word, pos in pos_tags if pos.startswith('VB') or pos.startswith('JJ') or pos.startswith('NN')]\n",
        "    return ' '.join(pos_words)\n",
        "\n",
        "def process_dataset(text):\n",
        "    lower_cased = text.lower()\n",
        "    tokens = nltk.word_tokenize(lower_cased)\n",
        "    filtered_tokens = [token for token in tokens if token not in stop_words]\n",
        "    preprocessed = ' '.join(filtered_tokens)\n",
        "    return preprocessed"
      ]
    },
    {
      "cell_type": "code",
      "execution_count": 5,
      "metadata": {
        "id": "s812KGHkkiUC"
      },
      "outputs": [],
      "source": [
        "df[\"concatenated\"] = df['Question'] + \" \" + df['Student Answer']"
      ]
    },
    {
      "cell_type": "code",
      "execution_count": 6,
      "metadata": {
        "id": "1blI7_irkiUD"
      },
      "outputs": [],
      "source": [
        "from sklearn.model_selection import train_test_split\n",
        "train_X, test_X, train_y, test_y = train_test_split(df.loc[:,[\"concatenated\"]], df[\"Grade\"], test_size=0.1, random_state=42)"
      ]
    },
    {
      "cell_type": "code",
      "source": [
        "TRAIN = train_X\n",
        "TRAIN[\"LABELS\"] = train_y\n",
        "TEST = test_X\n",
        "TEST[\"LABELS\"] = test_y"
      ],
      "metadata": {
        "id": "BYZFhTfPknfO"
      },
      "execution_count": 7,
      "outputs": []
    },
    {
      "cell_type": "code",
      "execution_count": 8,
      "metadata": {
        "id": "iMfASybekiUD"
      },
      "outputs": [],
      "source": [
        "train_X[\"concatenated\"] = train_X[\"concatenated\"].apply(extract_pos).apply(process_dataset)\n",
        "\n",
        "test_X[\"concatenated\"] = test_X[\"concatenated\"].apply(extract_pos).apply(process_dataset)"
      ]
    },
    {
      "cell_type": "code",
      "source": [
        "print(TRAIN.shape)\n",
        "TRAIN = TRAIN.replace(\"\", pd.NA).dropna()\n",
        "print(TRAIN.shape)\n",
        "TEST = TEST.replace(\"\", pd.NA).dropna()"
      ],
      "metadata": {
        "colab": {
          "base_uri": "https://localhost:8080/"
        },
        "id": "rBhZroCwk2mF",
        "outputId": "5b74272a-01d7-476b-b148-797573de4aef"
      },
      "execution_count": 9,
      "outputs": [
        {
          "output_type": "stream",
          "name": "stdout",
          "text": [
            "(2197, 2)\n",
            "(2197, 2)\n"
          ]
        }
      ]
    },
    {
      "cell_type": "code",
      "source": [
        "train_X = TRAIN.drop(\"LABELS\", axis = 1)\n",
        "train_y = TRAIN.iloc[:,-1]"
      ],
      "metadata": {
        "id": "YKgNy30rk50r"
      },
      "execution_count": 64,
      "outputs": []
    },
    {
      "cell_type": "code",
      "execution_count": 65,
      "metadata": {
        "id": "X3Fk-CaUt0Ba"
      },
      "outputs": [],
      "source": [
        "sentences = list(train_X[\"concatenated\"])\n",
        "sentences = [i.split() for i in sentences]"
      ]
    },
    {
      "cell_type": "code",
      "source": [
        "vocab = []\n",
        "for words_list in sentences:\n",
        "  vocab.extend(words_list)\n"
      ],
      "metadata": {
        "id": "wvBynlpjGKiF"
      },
      "execution_count": 118,
      "outputs": []
    },
    {
      "cell_type": "code",
      "execution_count": 66,
      "metadata": {
        "id": "bB_tDKjpuAzu"
      },
      "outputs": [],
      "source": [
        "from gensim.models import Word2Vec\n",
        "from gensim.utils import simple_preprocess"
      ]
    },
    {
      "cell_type": "code",
      "execution_count": 67,
      "metadata": {
        "id": "njcbmbcAuCzk"
      },
      "outputs": [],
      "source": [
        "model = Word2Vec(sentences, min_count=1)"
      ]
    },
    {
      "cell_type": "code",
      "source": [
        "def get_wordvec_embeddings(data, default_embedding=np.zeros(100)):\n",
        "\n",
        "  words = data.split()\n",
        "  embedding = []\n",
        "  for word in words:\n",
        "      if word in vocab:\n",
        "          embedding.append(model.wv[word])\n",
        "      else:\n",
        "          embedding.append(default_embedding)\n",
        "\n",
        "  return np.mean(np.array(embedding),axis = 0)"
      ],
      "metadata": {
        "id": "5SsBSBV4FgX_"
      },
      "execution_count": 121,
      "outputs": []
    },
    {
      "cell_type": "code",
      "execution_count": 122,
      "metadata": {
        "id": "-L4m7tAYkiUF"
      },
      "outputs": [],
      "source": [
        "train_Embeddings_df = pd.DataFrame({\"Q_Student_Answer_Embeddings\":train_X[\"concatenated\"]})\n",
        "test_Embeddings_df = pd.DataFrame({\"Q_Student_Answer_Embeddings\":test_X[\"concatenated\"]})"
      ]
    },
    {
      "cell_type": "code",
      "execution_count": 123,
      "metadata": {
        "id": "LFe79hYykiUF"
      },
      "outputs": [],
      "source": [
        "train_Embeddings_df[\"Q_Student_Answer_Embeddings\"] = train_Embeddings_df[\"Q_Student_Answer_Embeddings\"].apply(get_wordvec_embeddings)\n",
        "\n",
        "test_Embeddings_df[\"Q_Student_Answer_Embeddings\"] = test_Embeddings_df[\"Q_Student_Answer_Embeddings\"].apply(get_wordvec_embeddings)"
      ]
    },
    {
      "cell_type": "code",
      "execution_count": 126,
      "metadata": {
        "id": "6u7EtaR6uJ55"
      },
      "outputs": [],
      "source": [
        "train_df = pd.DataFrame(list(train_Embeddings_df[\"Q_Student_Answer_Embeddings\"]))\n",
        "test_df = pd.DataFrame(list(test_Embeddings_df[\"Q_Student_Answer_Embeddings\"]))"
      ]
    },
    {
      "cell_type": "code",
      "source": [
        "train_df"
      ],
      "metadata": {
        "colab": {
          "base_uri": "https://localhost:8080/",
          "height": 487
        },
        "id": "M__moyBu8e8H",
        "outputId": "1914d77e-6f63-43f9-b54d-f09bddaaae6e"
      },
      "execution_count": 127,
      "outputs": [
        {
          "output_type": "execute_result",
          "data": {
            "text/plain": [
              "            0         1         2         3         4         5         6   \\\n",
              "0    -0.090506  0.184706  0.075666  0.026179  0.147399 -0.445735  0.107368   \n",
              "1    -0.178085  0.255821  0.152500  0.047127  0.200049 -0.637159  0.146649   \n",
              "2    -0.113006  0.212421  0.063330  0.041309  0.151697 -0.481584  0.076797   \n",
              "3    -0.113879  0.226316  0.082405  0.028110  0.177055 -0.502064  0.096778   \n",
              "4    -0.110679  0.186999  0.066150  0.037564  0.135441 -0.415815  0.068074   \n",
              "...        ...       ...       ...       ...       ...       ...       ...   \n",
              "2192 -0.125194  0.276603  0.048344  0.047084  0.219304 -0.544069  0.105629   \n",
              "2193 -0.148883  0.260394  0.116377  0.024307  0.215250 -0.559174  0.084303   \n",
              "2194 -0.128669  0.264821  0.070469  0.047707  0.226657 -0.626120  0.100708   \n",
              "2195 -0.067546  0.214511  0.033717  0.031647  0.202887 -0.483220  0.096772   \n",
              "2196 -0.091697  0.278139  0.096393  0.020634  0.274651 -0.571076  0.122301   \n",
              "\n",
              "            7         8         9   ...        90        91        92  \\\n",
              "0     0.612309 -0.158350 -0.133800  ...  0.407920  0.168075 -0.039234   \n",
              "1     0.839343 -0.184886 -0.181625  ...  0.519592  0.189374 -0.055452   \n",
              "2     0.646748 -0.122861 -0.135109  ...  0.398147  0.166007 -0.066887   \n",
              "3     0.674035 -0.142565 -0.141574  ...  0.425510  0.178514 -0.069910   \n",
              "4     0.570278 -0.109102 -0.115339  ...  0.351447  0.155064 -0.059108   \n",
              "...        ...       ...       ...  ...       ...       ...       ...   \n",
              "2192  0.739338 -0.198107 -0.137244  ...  0.438747  0.278034 -0.077180   \n",
              "2193  0.784445 -0.154858 -0.160219  ...  0.469402  0.213584 -0.109269   \n",
              "2194  0.815830 -0.216452 -0.162019  ...  0.522847  0.265900 -0.095708   \n",
              "2195  0.646043 -0.205852 -0.114938  ...  0.431720  0.247153 -0.048876   \n",
              "2196  0.724584 -0.178719 -0.100359  ...  0.568781  0.312983 -0.090860   \n",
              "\n",
              "            93        94        95        96        97        98        99  \n",
              "0     0.080622  0.519608  0.305581  0.148112 -0.240994  0.136609 -0.096575  \n",
              "1     0.115243  0.702580  0.417600  0.171190 -0.302176  0.184134 -0.147428  \n",
              "2     0.059343  0.523129  0.313610  0.143620 -0.232231  0.130939 -0.102449  \n",
              "3     0.065443  0.539205  0.331014  0.173127 -0.240637  0.139536 -0.100930  \n",
              "4     0.053890  0.467535  0.278454  0.119369 -0.206029  0.124549 -0.085475  \n",
              "...        ...       ...       ...       ...       ...       ...       ...  \n",
              "2192  0.035942  0.627906  0.356671  0.227511 -0.266871  0.190081 -0.095751  \n",
              "2193  0.084580  0.602026  0.372968  0.205244 -0.277361  0.170467 -0.133185  \n",
              "2194  0.081721  0.703074  0.375545  0.259051 -0.329146  0.215779 -0.160806  \n",
              "2195  0.064055  0.598616  0.305046  0.229022 -0.298785  0.182692 -0.118746  \n",
              "2196 -0.024535  0.628201  0.393857  0.187771 -0.291519  0.199631 -0.065997  \n",
              "\n",
              "[2197 rows x 100 columns]"
            ],
            "text/html": [
              "\n",
              "  <div id=\"df-e4f11bf2-7726-477b-9cf0-33ada76dac8b\">\n",
              "    <div class=\"colab-df-container\">\n",
              "      <div>\n",
              "<style scoped>\n",
              "    .dataframe tbody tr th:only-of-type {\n",
              "        vertical-align: middle;\n",
              "    }\n",
              "\n",
              "    .dataframe tbody tr th {\n",
              "        vertical-align: top;\n",
              "    }\n",
              "\n",
              "    .dataframe thead th {\n",
              "        text-align: right;\n",
              "    }\n",
              "</style>\n",
              "<table border=\"1\" class=\"dataframe\">\n",
              "  <thead>\n",
              "    <tr style=\"text-align: right;\">\n",
              "      <th></th>\n",
              "      <th>0</th>\n",
              "      <th>1</th>\n",
              "      <th>2</th>\n",
              "      <th>3</th>\n",
              "      <th>4</th>\n",
              "      <th>5</th>\n",
              "      <th>6</th>\n",
              "      <th>7</th>\n",
              "      <th>8</th>\n",
              "      <th>9</th>\n",
              "      <th>...</th>\n",
              "      <th>90</th>\n",
              "      <th>91</th>\n",
              "      <th>92</th>\n",
              "      <th>93</th>\n",
              "      <th>94</th>\n",
              "      <th>95</th>\n",
              "      <th>96</th>\n",
              "      <th>97</th>\n",
              "      <th>98</th>\n",
              "      <th>99</th>\n",
              "    </tr>\n",
              "  </thead>\n",
              "  <tbody>\n",
              "    <tr>\n",
              "      <th>0</th>\n",
              "      <td>-0.090506</td>\n",
              "      <td>0.184706</td>\n",
              "      <td>0.075666</td>\n",
              "      <td>0.026179</td>\n",
              "      <td>0.147399</td>\n",
              "      <td>-0.445735</td>\n",
              "      <td>0.107368</td>\n",
              "      <td>0.612309</td>\n",
              "      <td>-0.158350</td>\n",
              "      <td>-0.133800</td>\n",
              "      <td>...</td>\n",
              "      <td>0.407920</td>\n",
              "      <td>0.168075</td>\n",
              "      <td>-0.039234</td>\n",
              "      <td>0.080622</td>\n",
              "      <td>0.519608</td>\n",
              "      <td>0.305581</td>\n",
              "      <td>0.148112</td>\n",
              "      <td>-0.240994</td>\n",
              "      <td>0.136609</td>\n",
              "      <td>-0.096575</td>\n",
              "    </tr>\n",
              "    <tr>\n",
              "      <th>1</th>\n",
              "      <td>-0.178085</td>\n",
              "      <td>0.255821</td>\n",
              "      <td>0.152500</td>\n",
              "      <td>0.047127</td>\n",
              "      <td>0.200049</td>\n",
              "      <td>-0.637159</td>\n",
              "      <td>0.146649</td>\n",
              "      <td>0.839343</td>\n",
              "      <td>-0.184886</td>\n",
              "      <td>-0.181625</td>\n",
              "      <td>...</td>\n",
              "      <td>0.519592</td>\n",
              "      <td>0.189374</td>\n",
              "      <td>-0.055452</td>\n",
              "      <td>0.115243</td>\n",
              "      <td>0.702580</td>\n",
              "      <td>0.417600</td>\n",
              "      <td>0.171190</td>\n",
              "      <td>-0.302176</td>\n",
              "      <td>0.184134</td>\n",
              "      <td>-0.147428</td>\n",
              "    </tr>\n",
              "    <tr>\n",
              "      <th>2</th>\n",
              "      <td>-0.113006</td>\n",
              "      <td>0.212421</td>\n",
              "      <td>0.063330</td>\n",
              "      <td>0.041309</td>\n",
              "      <td>0.151697</td>\n",
              "      <td>-0.481584</td>\n",
              "      <td>0.076797</td>\n",
              "      <td>0.646748</td>\n",
              "      <td>-0.122861</td>\n",
              "      <td>-0.135109</td>\n",
              "      <td>...</td>\n",
              "      <td>0.398147</td>\n",
              "      <td>0.166007</td>\n",
              "      <td>-0.066887</td>\n",
              "      <td>0.059343</td>\n",
              "      <td>0.523129</td>\n",
              "      <td>0.313610</td>\n",
              "      <td>0.143620</td>\n",
              "      <td>-0.232231</td>\n",
              "      <td>0.130939</td>\n",
              "      <td>-0.102449</td>\n",
              "    </tr>\n",
              "    <tr>\n",
              "      <th>3</th>\n",
              "      <td>-0.113879</td>\n",
              "      <td>0.226316</td>\n",
              "      <td>0.082405</td>\n",
              "      <td>0.028110</td>\n",
              "      <td>0.177055</td>\n",
              "      <td>-0.502064</td>\n",
              "      <td>0.096778</td>\n",
              "      <td>0.674035</td>\n",
              "      <td>-0.142565</td>\n",
              "      <td>-0.141574</td>\n",
              "      <td>...</td>\n",
              "      <td>0.425510</td>\n",
              "      <td>0.178514</td>\n",
              "      <td>-0.069910</td>\n",
              "      <td>0.065443</td>\n",
              "      <td>0.539205</td>\n",
              "      <td>0.331014</td>\n",
              "      <td>0.173127</td>\n",
              "      <td>-0.240637</td>\n",
              "      <td>0.139536</td>\n",
              "      <td>-0.100930</td>\n",
              "    </tr>\n",
              "    <tr>\n",
              "      <th>4</th>\n",
              "      <td>-0.110679</td>\n",
              "      <td>0.186999</td>\n",
              "      <td>0.066150</td>\n",
              "      <td>0.037564</td>\n",
              "      <td>0.135441</td>\n",
              "      <td>-0.415815</td>\n",
              "      <td>0.068074</td>\n",
              "      <td>0.570278</td>\n",
              "      <td>-0.109102</td>\n",
              "      <td>-0.115339</td>\n",
              "      <td>...</td>\n",
              "      <td>0.351447</td>\n",
              "      <td>0.155064</td>\n",
              "      <td>-0.059108</td>\n",
              "      <td>0.053890</td>\n",
              "      <td>0.467535</td>\n",
              "      <td>0.278454</td>\n",
              "      <td>0.119369</td>\n",
              "      <td>-0.206029</td>\n",
              "      <td>0.124549</td>\n",
              "      <td>-0.085475</td>\n",
              "    </tr>\n",
              "    <tr>\n",
              "      <th>...</th>\n",
              "      <td>...</td>\n",
              "      <td>...</td>\n",
              "      <td>...</td>\n",
              "      <td>...</td>\n",
              "      <td>...</td>\n",
              "      <td>...</td>\n",
              "      <td>...</td>\n",
              "      <td>...</td>\n",
              "      <td>...</td>\n",
              "      <td>...</td>\n",
              "      <td>...</td>\n",
              "      <td>...</td>\n",
              "      <td>...</td>\n",
              "      <td>...</td>\n",
              "      <td>...</td>\n",
              "      <td>...</td>\n",
              "      <td>...</td>\n",
              "      <td>...</td>\n",
              "      <td>...</td>\n",
              "      <td>...</td>\n",
              "      <td>...</td>\n",
              "    </tr>\n",
              "    <tr>\n",
              "      <th>2192</th>\n",
              "      <td>-0.125194</td>\n",
              "      <td>0.276603</td>\n",
              "      <td>0.048344</td>\n",
              "      <td>0.047084</td>\n",
              "      <td>0.219304</td>\n",
              "      <td>-0.544069</td>\n",
              "      <td>0.105629</td>\n",
              "      <td>0.739338</td>\n",
              "      <td>-0.198107</td>\n",
              "      <td>-0.137244</td>\n",
              "      <td>...</td>\n",
              "      <td>0.438747</td>\n",
              "      <td>0.278034</td>\n",
              "      <td>-0.077180</td>\n",
              "      <td>0.035942</td>\n",
              "      <td>0.627906</td>\n",
              "      <td>0.356671</td>\n",
              "      <td>0.227511</td>\n",
              "      <td>-0.266871</td>\n",
              "      <td>0.190081</td>\n",
              "      <td>-0.095751</td>\n",
              "    </tr>\n",
              "    <tr>\n",
              "      <th>2193</th>\n",
              "      <td>-0.148883</td>\n",
              "      <td>0.260394</td>\n",
              "      <td>0.116377</td>\n",
              "      <td>0.024307</td>\n",
              "      <td>0.215250</td>\n",
              "      <td>-0.559174</td>\n",
              "      <td>0.084303</td>\n",
              "      <td>0.784445</td>\n",
              "      <td>-0.154858</td>\n",
              "      <td>-0.160219</td>\n",
              "      <td>...</td>\n",
              "      <td>0.469402</td>\n",
              "      <td>0.213584</td>\n",
              "      <td>-0.109269</td>\n",
              "      <td>0.084580</td>\n",
              "      <td>0.602026</td>\n",
              "      <td>0.372968</td>\n",
              "      <td>0.205244</td>\n",
              "      <td>-0.277361</td>\n",
              "      <td>0.170467</td>\n",
              "      <td>-0.133185</td>\n",
              "    </tr>\n",
              "    <tr>\n",
              "      <th>2194</th>\n",
              "      <td>-0.128669</td>\n",
              "      <td>0.264821</td>\n",
              "      <td>0.070469</td>\n",
              "      <td>0.047707</td>\n",
              "      <td>0.226657</td>\n",
              "      <td>-0.626120</td>\n",
              "      <td>0.100708</td>\n",
              "      <td>0.815830</td>\n",
              "      <td>-0.216452</td>\n",
              "      <td>-0.162019</td>\n",
              "      <td>...</td>\n",
              "      <td>0.522847</td>\n",
              "      <td>0.265900</td>\n",
              "      <td>-0.095708</td>\n",
              "      <td>0.081721</td>\n",
              "      <td>0.703074</td>\n",
              "      <td>0.375545</td>\n",
              "      <td>0.259051</td>\n",
              "      <td>-0.329146</td>\n",
              "      <td>0.215779</td>\n",
              "      <td>-0.160806</td>\n",
              "    </tr>\n",
              "    <tr>\n",
              "      <th>2195</th>\n",
              "      <td>-0.067546</td>\n",
              "      <td>0.214511</td>\n",
              "      <td>0.033717</td>\n",
              "      <td>0.031647</td>\n",
              "      <td>0.202887</td>\n",
              "      <td>-0.483220</td>\n",
              "      <td>0.096772</td>\n",
              "      <td>0.646043</td>\n",
              "      <td>-0.205852</td>\n",
              "      <td>-0.114938</td>\n",
              "      <td>...</td>\n",
              "      <td>0.431720</td>\n",
              "      <td>0.247153</td>\n",
              "      <td>-0.048876</td>\n",
              "      <td>0.064055</td>\n",
              "      <td>0.598616</td>\n",
              "      <td>0.305046</td>\n",
              "      <td>0.229022</td>\n",
              "      <td>-0.298785</td>\n",
              "      <td>0.182692</td>\n",
              "      <td>-0.118746</td>\n",
              "    </tr>\n",
              "    <tr>\n",
              "      <th>2196</th>\n",
              "      <td>-0.091697</td>\n",
              "      <td>0.278139</td>\n",
              "      <td>0.096393</td>\n",
              "      <td>0.020634</td>\n",
              "      <td>0.274651</td>\n",
              "      <td>-0.571076</td>\n",
              "      <td>0.122301</td>\n",
              "      <td>0.724584</td>\n",
              "      <td>-0.178719</td>\n",
              "      <td>-0.100359</td>\n",
              "      <td>...</td>\n",
              "      <td>0.568781</td>\n",
              "      <td>0.312983</td>\n",
              "      <td>-0.090860</td>\n",
              "      <td>-0.024535</td>\n",
              "      <td>0.628201</td>\n",
              "      <td>0.393857</td>\n",
              "      <td>0.187771</td>\n",
              "      <td>-0.291519</td>\n",
              "      <td>0.199631</td>\n",
              "      <td>-0.065997</td>\n",
              "    </tr>\n",
              "  </tbody>\n",
              "</table>\n",
              "<p>2197 rows × 100 columns</p>\n",
              "</div>\n",
              "      <button class=\"colab-df-convert\" onclick=\"convertToInteractive('df-e4f11bf2-7726-477b-9cf0-33ada76dac8b')\"\n",
              "              title=\"Convert this dataframe to an interactive table.\"\n",
              "              style=\"display:none;\">\n",
              "        \n",
              "  <svg xmlns=\"http://www.w3.org/2000/svg\" height=\"24px\"viewBox=\"0 0 24 24\"\n",
              "       width=\"24px\">\n",
              "    <path d=\"M0 0h24v24H0V0z\" fill=\"none\"/>\n",
              "    <path d=\"M18.56 5.44l.94 2.06.94-2.06 2.06-.94-2.06-.94-.94-2.06-.94 2.06-2.06.94zm-11 1L8.5 8.5l.94-2.06 2.06-.94-2.06-.94L8.5 2.5l-.94 2.06-2.06.94zm10 10l.94 2.06.94-2.06 2.06-.94-2.06-.94-.94-2.06-.94 2.06-2.06.94z\"/><path d=\"M17.41 7.96l-1.37-1.37c-.4-.4-.92-.59-1.43-.59-.52 0-1.04.2-1.43.59L10.3 9.45l-7.72 7.72c-.78.78-.78 2.05 0 2.83L4 21.41c.39.39.9.59 1.41.59.51 0 1.02-.2 1.41-.59l7.78-7.78 2.81-2.81c.8-.78.8-2.07 0-2.86zM5.41 20L4 18.59l7.72-7.72 1.47 1.35L5.41 20z\"/>\n",
              "  </svg>\n",
              "      </button>\n",
              "      \n",
              "  <style>\n",
              "    .colab-df-container {\n",
              "      display:flex;\n",
              "      flex-wrap:wrap;\n",
              "      gap: 12px;\n",
              "    }\n",
              "\n",
              "    .colab-df-convert {\n",
              "      background-color: #E8F0FE;\n",
              "      border: none;\n",
              "      border-radius: 50%;\n",
              "      cursor: pointer;\n",
              "      display: none;\n",
              "      fill: #1967D2;\n",
              "      height: 32px;\n",
              "      padding: 0 0 0 0;\n",
              "      width: 32px;\n",
              "    }\n",
              "\n",
              "    .colab-df-convert:hover {\n",
              "      background-color: #E2EBFA;\n",
              "      box-shadow: 0px 1px 2px rgba(60, 64, 67, 0.3), 0px 1px 3px 1px rgba(60, 64, 67, 0.15);\n",
              "      fill: #174EA6;\n",
              "    }\n",
              "\n",
              "    [theme=dark] .colab-df-convert {\n",
              "      background-color: #3B4455;\n",
              "      fill: #D2E3FC;\n",
              "    }\n",
              "\n",
              "    [theme=dark] .colab-df-convert:hover {\n",
              "      background-color: #434B5C;\n",
              "      box-shadow: 0px 1px 3px 1px rgba(0, 0, 0, 0.15);\n",
              "      filter: drop-shadow(0px 1px 2px rgba(0, 0, 0, 0.3));\n",
              "      fill: #FFFFFF;\n",
              "    }\n",
              "  </style>\n",
              "\n",
              "      <script>\n",
              "        const buttonEl =\n",
              "          document.querySelector('#df-e4f11bf2-7726-477b-9cf0-33ada76dac8b button.colab-df-convert');\n",
              "        buttonEl.style.display =\n",
              "          google.colab.kernel.accessAllowed ? 'block' : 'none';\n",
              "\n",
              "        async function convertToInteractive(key) {\n",
              "          const element = document.querySelector('#df-e4f11bf2-7726-477b-9cf0-33ada76dac8b');\n",
              "          const dataTable =\n",
              "            await google.colab.kernel.invokeFunction('convertToInteractive',\n",
              "                                                     [key], {});\n",
              "          if (!dataTable) return;\n",
              "\n",
              "          const docLinkHtml = 'Like what you see? Visit the ' +\n",
              "            '<a target=\"_blank\" href=https://colab.research.google.com/notebooks/data_table.ipynb>data table notebook</a>'\n",
              "            + ' to learn more about interactive tables.';\n",
              "          element.innerHTML = '';\n",
              "          dataTable['output_type'] = 'display_data';\n",
              "          await google.colab.output.renderOutput(dataTable, element);\n",
              "          const docLink = document.createElement('div');\n",
              "          docLink.innerHTML = docLinkHtml;\n",
              "          element.appendChild(docLink);\n",
              "        }\n",
              "      </script>\n",
              "    </div>\n",
              "  </div>\n",
              "  "
            ]
          },
          "metadata": {},
          "execution_count": 127
        }
      ]
    },
    {
      "cell_type": "code",
      "source": [
        "pca = PCA(n_components=100)  # Specify the number of components you want to keep\n",
        "train_df_pca = pca.fit_transform(train_df)"
      ],
      "metadata": {
        "id": "SUemBOzKnksw"
      },
      "execution_count": 128,
      "outputs": []
    },
    {
      "cell_type": "code",
      "source": [
        "test_df_pca = pca.transform(test_df)"
      ],
      "metadata": {
        "id": "Ju6QZpiZnrSP"
      },
      "execution_count": 129,
      "outputs": []
    },
    {
      "cell_type": "code",
      "source": [
        "ncols = train_df_pca.shape[1]"
      ],
      "metadata": {
        "id": "1pTAqkuecz9i"
      },
      "execution_count": 130,
      "outputs": []
    },
    {
      "cell_type": "code",
      "source": [
        "model = Sequential()\n",
        "model.add(Conv1D(filters=32, kernel_size=3, activation='relu', input_shape=(ncols,1)))\n",
        "model.add(MaxPooling1D(pool_size=2))\n",
        "model.add(Dropout(0.5))\n",
        "model.add(Flatten())\n",
        "model.add(Dense(64, activation='relu'))\n",
        "model.add(Dense(1))\n",
        "\n",
        "# Compile the model\n",
        "model.compile(optimizer='adam', loss='mean_squared_error')\n",
        "\n",
        "# Train the model\n",
        "model.fit(train_df_pca, train_y, epochs=10, batch_size=32, verbose=1)\n",
        "\n",
        "y_true = test_y\n",
        "y_preds = model.predict(test_df_pca)\n",
        "\n",
        "from sklearn.metrics import mean_absolute_error, mean_squared_error, r2_score, mean_absolute_percentage_error\n",
        "cnn_mae = mean_absolute_error(y_true, np.round(y_preds, 1))\n",
        "cnn_mse = mean_squared_error(y_true, np.round(y_preds, 1))\n",
        "cnn_rmse = mean_squared_error(y_true, np.round(y_preds, 1), squared=False)\n",
        "cnn_mape = mean_absolute_percentage_error(y_true, y_preds, multioutput = \"uniform_average\")\n",
        "cnn_r2 = r2_score(y_true, y_preds)\n",
        "\n",
        "print(\"Mean Absolute Error (MAE): \", np.round(cnn_mae, 2))\n",
        "print(\"Mean Squared Error (MSE): \", np.round(cnn_mse, 2))\n",
        "print(\"Root Mean Squared Error (RMSE): \", np.round(cnn_rmse, 2))\n",
        "print(\"Mean Absolute Percentage Error (MAPE): \", np.round(cnn_mape, 2))\n",
        "print(\"R2 Score: \", np.round(cnn_r2, 2))"
      ],
      "metadata": {
        "colab": {
          "base_uri": "https://localhost:8080/"
        },
        "id": "817WVQ-Yn1wF",
        "outputId": "673f2051-a068-48f6-a9b5-5d9df50591dd"
      },
      "execution_count": 131,
      "outputs": [
        {
          "output_type": "stream",
          "name": "stdout",
          "text": [
            "Epoch 1/10\n",
            "69/69 [==============================] - 10s 4ms/step - loss: 5.5420\n",
            "Epoch 2/10\n",
            "69/69 [==============================] - 0s 3ms/step - loss: 2.6345\n",
            "Epoch 3/10\n",
            "69/69 [==============================] - 0s 3ms/step - loss: 2.6063\n",
            "Epoch 4/10\n",
            "69/69 [==============================] - 0s 3ms/step - loss: 2.6293\n",
            "Epoch 5/10\n",
            "69/69 [==============================] - 0s 3ms/step - loss: 2.6122\n",
            "Epoch 6/10\n",
            "69/69 [==============================] - 0s 3ms/step - loss: 2.5901\n",
            "Epoch 7/10\n",
            "69/69 [==============================] - 0s 3ms/step - loss: 2.6139\n",
            "Epoch 8/10\n",
            "69/69 [==============================] - 0s 3ms/step - loss: 2.5940\n",
            "Epoch 9/10\n",
            "69/69 [==============================] - 0s 3ms/step - loss: 2.6099\n",
            "Epoch 10/10\n",
            "69/69 [==============================] - 0s 3ms/step - loss: 2.6315\n",
            "8/8 [==============================] - 0s 2ms/step\n",
            "Mean Absolute Error (MAE):  1.16\n",
            "Mean Squared Error (MSE):  1.95\n",
            "Root Mean Squared Error (RMSE):  1.39\n",
            "Mean Absolute Percentage Error (MAPE):  623913416057267.1\n",
            "R2 Score:  0.02\n"
          ]
        }
      ]
    },
    {
      "cell_type": "code",
      "source": [
        "# Create an MLP regressor with a single linear output layer\n",
        "mlp = MLPRegressor(hidden_layer_sizes=(100,50,25,1), activation='identity', solver='lbfgs')\n",
        "\n",
        "# Train the MLP regressor\n",
        "mlp.fit(train_df_pca, train_y)\n",
        "\n",
        "y_preds = mlp.predict(test_df_pca)\n",
        "\n",
        "y_true = test_y\n",
        "\n",
        "from sklearn.metrics import mean_absolute_error, mean_squared_error, r2_score, mean_absolute_percentage_error\n",
        "mlp_mae = mean_absolute_error(y_true, np.round(y_preds, 1))\n",
        "mlp_mse = mean_squared_error(y_true, np.round(y_preds, 1))\n",
        "mlp_rmse = mean_squared_error(y_true, np.round(y_preds, 1), squared=False)\n",
        "mlp_mape = mean_absolute_percentage_error(y_true, y_preds, multioutput = \"uniform_average\")\n",
        "mlp_r2 = r2_score(y_true, y_preds)\n",
        "\n",
        "print(\"Mean Absolute Error (MAE): \", np.round(mlp_mae, 2))\n",
        "print(\"Mean Squared Error (MSE): \", np.round(mlp_mse, 2))\n",
        "print(\"Root Mean Squared Error (RMSE): \", np.round(mlp_rmse, 2))\n",
        "print(\"Mean Absolute Percentage Error (MAPE): \", np.round(mlp_mape, 2))\n",
        "print(\"R2 Score: \", np.round(mlp_r2, 2))"
      ],
      "metadata": {
        "colab": {
          "base_uri": "https://localhost:8080/"
        },
        "id": "G-dAurLQoJG-",
        "outputId": "b8eb3e8c-0ef6-4b0a-cd46-b276067e4f7d"
      },
      "execution_count": 132,
      "outputs": [
        {
          "output_type": "stream",
          "name": "stdout",
          "text": [
            "Mean Absolute Error (MAE):  1.11\n",
            "Mean Squared Error (MSE):  1.78\n",
            "Root Mean Squared Error (RMSE):  1.34\n",
            "Mean Absolute Percentage Error (MAPE):  545584170051801.7\n",
            "R2 Score:  0.1\n"
          ]
        },
        {
          "output_type": "stream",
          "name": "stderr",
          "text": [
            "/usr/local/lib/python3.10/dist-packages/sklearn/neural_network/_multilayer_perceptron.py:541: ConvergenceWarning: lbfgs failed to converge (status=1):\n",
            "STOP: TOTAL NO. of ITERATIONS REACHED LIMIT.\n",
            "\n",
            "Increase the number of iterations (max_iter) or scale the data as shown in:\n",
            "    https://scikit-learn.org/stable/modules/preprocessing.html\n",
            "  self.n_iter_ = _check_optimize_result(\"lbfgs\", opt_res, self.max_iter)\n"
          ]
        }
      ]
    },
    {
      "cell_type": "code",
      "source": [
        "from sklearn.linear_model import LinearRegression\n",
        "LR_model = LinearRegression()\n",
        "LR_model.fit(train_df_pca, train_y)\n",
        "\n",
        "preds = LR_model.predict(test_df_pca)\n",
        "y_preds = [round(y_val, 1) for y_val in preds]\n",
        "actuals = test_y\n",
        "y_true = [round(y_val, 1) for y_val in actuals]\n",
        "\n",
        "from sklearn.metrics import mean_absolute_error, mean_squared_error, r2_score, mean_absolute_percentage_error\n",
        "LR_mae = mean_absolute_error(y_true, np.round(y_preds, 1))\n",
        "LR_mse = mean_squared_error(y_true, np.round(y_preds, 1))\n",
        "LR_rmse = mean_squared_error(y_true, np.round(y_preds, 1), squared=False)\n",
        "LR_mape = mean_absolute_percentage_error(y_true, y_preds, multioutput = \"uniform_average\")\n",
        "LR_r2 = r2_score(y_true, y_preds)\n",
        "\n",
        "print(\"Mean Absolute Error (MAE): \", np.round(LR_mae, 2))\n",
        "print(\"Mean Squared Error (MSE): \", np.round(LR_mse, 2))\n",
        "print(\"Root Mean Squared Error (RMSE): \", np.round(LR_rmse, 2))\n",
        "print(\"Mean Absolute Percentage Error (MAPE): \", np.round(LR_mape, 2))\n",
        "print(\"R2 Score: \", np.round(LR_r2, 2))"
      ],
      "metadata": {
        "colab": {
          "base_uri": "https://localhost:8080/"
        },
        "id": "iQmHvzUMoRTP",
        "outputId": "339788fe-a154-451e-822b-71f0581a1054"
      },
      "execution_count": 133,
      "outputs": [
        {
          "output_type": "stream",
          "name": "stdout",
          "text": [
            "Mean Absolute Error (MAE):  1.11\n",
            "Mean Squared Error (MSE):  1.82\n",
            "Root Mean Squared Error (RMSE):  1.35\n",
            "Mean Absolute Percentage Error (MAPE):  531240935636764.9\n",
            "R2 Score:  0.09\n"
          ]
        }
      ]
    },
    {
      "cell_type": "code",
      "source": [],
      "metadata": {
        "id": "S3JqEc_0oZCJ"
      },
      "execution_count": 133,
      "outputs": []
    },
    {
      "cell_type": "code",
      "source": [
        "from sklearn import neighbors\n",
        "rmse_val = []\n",
        "mae_val = []\n",
        "mse_val = []\n",
        "r2_val = []\n",
        "for K in range(2,20):\n",
        "    knn_model = neighbors.KNeighborsRegressor(n_neighbors = K)\n",
        "    knn_model.fit(train_df_pca, train_y)  #fit the model\n",
        "    pred=knn_model.predict(test_df_pca) #make prediction on test set\n",
        "    \n",
        "    mae = mean_absolute_error(y_true, np.round(pred, 1))\n",
        "    mae_val.append(mae)\n",
        "    \n",
        "    mse = mean_squared_error(y_true, np.round(pred, 1))\n",
        "    mse_val.append(mse)\n",
        "    \n",
        "    rmse = mean_squared_error(y_true, np.round(pred, 1), squared=False)\n",
        "    rmse_val.append(rmse)\n",
        "    \n",
        "    r2 = r2_score(y_true, pred)\n",
        "    r2_val.append(r2)\n",
        "\n",
        "y_true = test_y\n",
        "knn_preds = knn_model.predict(test_df_pca)\n",
        "\n",
        "min_val = min(r2_val)\n",
        "index = r2_val.index(min_val)\n",
        "knn_r2 = min_val\n",
        "knn_rmse = rmse_val[index]\n",
        "knn_mae = mae_val[index]\n",
        "knn_mse = mse_val[index]\n",
        "\n",
        "print(\"Mean Absolute Error (MAE): \", np.round(knn_mae, 2))\n",
        "print(\"Mean Squared Error (MSE): \", np.round(knn_mse, 2))\n",
        "print(\"Root Mean Squared Error (RMSE): \", np.round(knn_rmse, 2))\n",
        "print(\"R2 Score: \", np.round(knn_r2, 2))"
      ],
      "metadata": {
        "id": "VZUfaC8TO6Lr",
        "colab": {
          "base_uri": "https://localhost:8080/"
        },
        "outputId": "fb92cc88-f142-4ef7-ea44-c92c90415378"
      },
      "execution_count": 134,
      "outputs": [
        {
          "output_type": "stream",
          "name": "stdout",
          "text": [
            "Mean Absolute Error (MAE):  1.23\n",
            "Mean Squared Error (MSE):  2.8\n",
            "Root Mean Squared Error (RMSE):  1.67\n",
            "R2 Score:  -0.39\n"
          ]
        }
      ]
    },
    {
      "cell_type": "code",
      "source": [
        "from sklearn.ensemble import RandomForestRegressor, GradientBoostingRegressor, AdaBoostRegressor\n",
        "ada_reg = AdaBoostRegressor(n_estimators = 100, learning_rate=0.5)\n",
        "\n",
        "ada_reg.fit(train_df, train_y)\n",
        "\n",
        "ada_reg_pred = ada_reg.predict(pd.DataFrame(test_df))\n",
        "ada_reg_mae = mean_absolute_error(test_y, np.round(ada_reg_pred, 1))\n",
        "ada_reg_mse = mean_squared_error(test_y, np.round(ada_reg_pred, 1))\n",
        "ada_reg_mape = mean_absolute_percentage_error(test_y, np.round(ada_reg_pred,1), multioutput = \"uniform_average\")\n",
        "ada_reg_rmse = mean_squared_error(test_y, np.round(ada_reg_pred, 1), squared=False)\n",
        "ada_reg_r2 = r2_score(test_y, ada_reg_pred)\n",
        "\n",
        "print(\"Mean Absolute Error (MAE): \", np.round(ada_reg_mae, 2))\n",
        "print(\"Mean Squared Error (MSE): \", np.round(ada_reg_mse, 2))\n",
        "print(\"Root Mean Squared Error (RMSE): \", np.round(ada_reg_rmse, 2))\n",
        "print(\"Mean Absolute Percentage Error (MAPE): \", np.round(ada_reg_mape, 2))\n",
        "print(\"R2 Score: \", np.round(ada_reg_r2, 2))"
      ],
      "metadata": {
        "id": "WKxpmf1WPrnr",
        "colab": {
          "base_uri": "https://localhost:8080/"
        },
        "outputId": "96b04e88-f9bf-4082-a26e-1d6063e10c4e"
      },
      "execution_count": 135,
      "outputs": [
        {
          "output_type": "stream",
          "name": "stdout",
          "text": [
            "Mean Absolute Error (MAE):  1.31\n",
            "Mean Squared Error (MSE):  2.23\n",
            "Root Mean Squared Error (RMSE):  1.49\n",
            "Mean Absolute Percentage Error (MAPE):  479771225609673.6\n",
            "R2 Score:  -0.13\n"
          ]
        }
      ]
    },
    {
      "cell_type": "code",
      "source": [
        "gb_reg = GradientBoostingRegressor(n_estimators = 50, max_depth=5)\n",
        "\n",
        "gb_reg.fit(train_df_pca, train_y)\n",
        "\n",
        "gb_reg_pred = gb_reg.predict(pd.DataFrame(test_df_pca))\n",
        "gb_reg_mae = mean_absolute_error(test_y, np.round(gb_reg_pred, 1))\n",
        "gb_reg_mse = mean_squared_error(test_y, np.round(gb_reg_pred, 1))\n",
        "gb_reg_mape = mean_absolute_percentage_error(test_y, np.round(gb_reg_pred,1), multioutput = \"uniform_average\")\n",
        "gb_reg_rmse = mean_squared_error(test_y, np.round(gb_reg_pred, 1), squared=False)\n",
        "gb_reg_r2 = r2_score(test_y, gb_reg_pred)\n",
        "\n",
        "print(\"Mean Absolute Error (MAE): \", np.round(gb_reg_mae, 2))\n",
        "print(\"Mean Squared Error (MSE): \", np.round(gb_reg_mse, 2))\n",
        "print(\"Root Mean Squared Error (RMSE): \", np.round(gb_reg_rmse, 2))\n",
        "print(\"Mean Absolute Percentage Error (MAPE): \", np.round(gb_reg_mape, 2))\n",
        "print(\"R2 Score: \", np.round(gb_reg_r2, 2))"
      ],
      "metadata": {
        "id": "6HDdNMgZPtLL",
        "colab": {
          "base_uri": "https://localhost:8080/"
        },
        "outputId": "f63dabac-1a1b-42e0-b8be-ba5f259fc26a"
      },
      "execution_count": 136,
      "outputs": [
        {
          "output_type": "stream",
          "name": "stdout",
          "text": [
            "Mean Absolute Error (MAE):  1.1\n",
            "Mean Squared Error (MSE):  1.85\n",
            "Root Mean Squared Error (RMSE):  1.36\n",
            "Mean Absolute Percentage Error (MAPE):  492638653116446.4\n",
            "R2 Score:  0.07\n"
          ]
        }
      ]
    },
    {
      "cell_type": "code",
      "source": [
        "xg_reg = xgb.XGBRegressor(objective ='reg:squarederror', seed = 123)\n",
        "\n",
        "xg_reg.fit(train_df_pca, train_y)\n",
        "\n",
        "# print(\"Best parameters: \", xg_boost_grid_search.best_params_)\n",
        "# print(\"Best score: \", xg_boost_grid_search.best_score_)\n",
        "xg_reg_pred = xg_reg.predict(pd.DataFrame(test_df_pca))\n",
        "xg_reg_mae = mean_absolute_error(test_y, np.round(xg_reg_pred, 1))\n",
        "xg_reg_mse = mean_squared_error(test_y, np.round(xg_reg_pred, 1))\n",
        "xg_reg_mape = mean_absolute_percentage_error(test_y, np.round(xg_reg_pred,1), multioutput = \"uniform_average\")\n",
        "xg_reg_rmse = mean_squared_error(test_y, np.round(xg_reg_pred, 1), squared=False)\n",
        "xg_reg_r2 = r2_score(test_y, xg_reg_pred)\n",
        "\n",
        "print(\"Mean Absolute Error (MAE): \", np.round(xg_reg_mae, 2))\n",
        "print(\"Mean Squared Error (MSE): \", np.round(xg_reg_mse, 2))\n",
        "print(\"Root Mean Squared Error (RMSE): \", np.round(xg_reg_rmse, 2))\n",
        "print(\"Mean Absolute Percentage Error (MAPE): \", np.round(xg_reg_mape, 2))\n",
        "print(\"R2 Score: \", np.round(xg_reg_r2, 2))"
      ],
      "metadata": {
        "colab": {
          "base_uri": "https://localhost:8080/"
        },
        "id": "mSLeTmvQPuwM",
        "outputId": "8e9e39b5-9fd5-4464-ffbf-ce0968632eea"
      },
      "execution_count": 137,
      "outputs": [
        {
          "output_type": "stream",
          "name": "stdout",
          "text": [
            "Mean Absolute Error (MAE):  1.14\n",
            "Mean Squared Error (MSE):  2.17\n",
            "Root Mean Squared Error (RMSE):  1.47\n",
            "Mean Absolute Percentage Error (MAPE):  466903789584183.6\n",
            "R2 Score:  -0.09\n"
          ]
        }
      ]
    },
    {
      "cell_type": "code",
      "source": [],
      "metadata": {
        "id": "y2uYTxlf6pjy"
      },
      "execution_count": 137,
      "outputs": []
    }
  ],
  "metadata": {
    "colab": {
      "provenance": [],
      "gpuType": "T4"
    },
    "kernelspec": {
      "display_name": "Python 3",
      "name": "python3"
    },
    "language_info": {
      "codemirror_mode": {
        "name": "ipython",
        "version": 3
      },
      "file_extension": ".py",
      "mimetype": "text/x-python",
      "name": "python",
      "nbconvert_exporter": "python",
      "pygments_lexer": "ipython3",
      "version": "3.8.8"
    },
    "accelerator": "GPU"
  },
  "nbformat": 4,
  "nbformat_minor": 0
}