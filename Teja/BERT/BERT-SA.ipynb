{
  "cells": [
    {
      "cell_type": "code",
      "execution_count": 1,
      "metadata": {
        "colab": {
          "base_uri": "https://localhost:8080/"
        },
        "id": "-HQvBhH2lxER",
        "outputId": "1b60ec33-48c0-4dfb-d1a9-8fd4d71bddc1"
      },
      "outputs": [
        {
          "output_type": "stream",
          "name": "stdout",
          "text": [
            "Looking in indexes: https://pypi.org/simple, https://us-python.pkg.dev/colab-wheels/public/simple/\n",
            "Collecting transformers\n",
            "  Downloading transformers-4.29.2-py3-none-any.whl (7.1 MB)\n",
            "\u001b[2K     \u001b[90m━━━━━━━━━━━━━━━━━━━━━━━━━━━━━━━━━━━━━━━━\u001b[0m \u001b[32m7.1/7.1 MB\u001b[0m \u001b[31m61.6 MB/s\u001b[0m eta \u001b[36m0:00:00\u001b[0m\n",
            "\u001b[?25hRequirement already satisfied: filelock in /usr/local/lib/python3.10/dist-packages (from transformers) (3.12.0)\n",
            "Collecting huggingface-hub<1.0,>=0.14.1 (from transformers)\n",
            "  Downloading huggingface_hub-0.15.1-py3-none-any.whl (236 kB)\n",
            "\u001b[2K     \u001b[90m━━━━━━━━━━━━━━━━━━━━━━━━━━━━━━━━━━━━━━\u001b[0m \u001b[32m236.8/236.8 kB\u001b[0m \u001b[31m27.1 MB/s\u001b[0m eta \u001b[36m0:00:00\u001b[0m\n",
            "\u001b[?25hRequirement already satisfied: numpy>=1.17 in /usr/local/lib/python3.10/dist-packages (from transformers) (1.22.4)\n",
            "Requirement already satisfied: packaging>=20.0 in /usr/local/lib/python3.10/dist-packages (from transformers) (23.1)\n",
            "Requirement already satisfied: pyyaml>=5.1 in /usr/local/lib/python3.10/dist-packages (from transformers) (6.0)\n",
            "Requirement already satisfied: regex!=2019.12.17 in /usr/local/lib/python3.10/dist-packages (from transformers) (2022.10.31)\n",
            "Requirement already satisfied: requests in /usr/local/lib/python3.10/dist-packages (from transformers) (2.27.1)\n",
            "Collecting tokenizers!=0.11.3,<0.14,>=0.11.1 (from transformers)\n",
            "  Downloading tokenizers-0.13.3-cp310-cp310-manylinux_2_17_x86_64.manylinux2014_x86_64.whl (7.8 MB)\n",
            "\u001b[2K     \u001b[90m━━━━━━━━━━━━━━━━━━━━━━━━━━━━━━━━━━━━━━━━\u001b[0m \u001b[32m7.8/7.8 MB\u001b[0m \u001b[31m107.6 MB/s\u001b[0m eta \u001b[36m0:00:00\u001b[0m\n",
            "\u001b[?25hRequirement already satisfied: tqdm>=4.27 in /usr/local/lib/python3.10/dist-packages (from transformers) (4.65.0)\n",
            "Requirement already satisfied: fsspec in /usr/local/lib/python3.10/dist-packages (from huggingface-hub<1.0,>=0.14.1->transformers) (2023.4.0)\n",
            "Requirement already satisfied: typing-extensions>=3.7.4.3 in /usr/local/lib/python3.10/dist-packages (from huggingface-hub<1.0,>=0.14.1->transformers) (4.5.0)\n",
            "Requirement already satisfied: urllib3<1.27,>=1.21.1 in /usr/local/lib/python3.10/dist-packages (from requests->transformers) (1.26.15)\n",
            "Requirement already satisfied: certifi>=2017.4.17 in /usr/local/lib/python3.10/dist-packages (from requests->transformers) (2022.12.7)\n",
            "Requirement already satisfied: charset-normalizer~=2.0.0 in /usr/local/lib/python3.10/dist-packages (from requests->transformers) (2.0.12)\n",
            "Requirement already satisfied: idna<4,>=2.5 in /usr/local/lib/python3.10/dist-packages (from requests->transformers) (3.4)\n",
            "Installing collected packages: tokenizers, huggingface-hub, transformers\n",
            "Successfully installed huggingface-hub-0.15.1 tokenizers-0.13.3 transformers-4.29.2\n"
          ]
        }
      ],
      "source": [
        "!pip install transformers"
      ]
    },
    {
      "cell_type": "code",
      "execution_count": 2,
      "metadata": {
        "id": "14MXCT5NqpRl"
      },
      "outputs": [],
      "source": [
        "import pandas as pd\n",
        "import nltk\n",
        "from nltk.corpus import stopwords\n",
        "from nltk.tokenize import word_tokenize\n",
        "from sklearn.model_selection import train_test_split\n",
        "import tensorflow_hub as hub\n",
        "\n",
        "from keras.utils import to_categorical\n",
        "from keras.layers import Conv1D, MaxPooling1D, GlobalMaxPooling1D, Flatten, Dense, Dropout\n",
        "from keras.models import Sequential\n",
        "\n",
        "from sklearn.decomposition import PCA\n",
        "\n",
        "from sklearn.neural_network import MLPRegressor\n",
        "\n",
        "import numpy as np\n",
        "\n",
        "import xgboost as xgb"
      ]
    },
    {
      "cell_type": "code",
      "execution_count": 3,
      "metadata": {
        "id": "f9792bef"
      },
      "outputs": [],
      "source": [
        "url = \"https://raw.githubusercontent.com/Tejanikhil/Shared-ASAG/main\"\n",
        "df = pd.read_csv(url + \"/SemEvalData.csv\")"
      ]
    },
    {
      "cell_type": "code",
      "execution_count": 4,
      "metadata": {
        "colab": {
          "base_uri": "https://localhost:8080/"
        },
        "id": "f5cjS38-rXRi",
        "outputId": "4e97e711-151d-4caa-9703-525c0cbc87bd"
      },
      "outputs": [
        {
          "output_type": "stream",
          "name": "stderr",
          "text": [
            "[nltk_data] Downloading package stopwords to /root/nltk_data...\n",
            "[nltk_data]   Unzipping corpora/stopwords.zip.\n",
            "[nltk_data] Downloading package averaged_perceptron_tagger to\n",
            "[nltk_data]     /root/nltk_data...\n",
            "[nltk_data]   Unzipping taggers/averaged_perceptron_tagger.zip.\n",
            "[nltk_data] Downloading package punkt to /root/nltk_data...\n",
            "[nltk_data]   Unzipping tokenizers/punkt.zip.\n"
          ]
        }
      ],
      "source": [
        "import pandas as pd\n",
        "import nltk\n",
        "import numpy as np\n",
        "from nltk.tokenize import word_tokenize, sent_tokenize\n",
        "from sklearn.metrics.pairwise import cosine_similarity\n",
        "import nltk\n",
        "from nltk.corpus import stopwords\n",
        "\n",
        "# Download the stopwords corpus if not already downloaded\n",
        "nltk.download('stopwords')\n",
        "nltk.download('averaged_perceptron_tagger')\n",
        "nltk.download('punkt')\n",
        "stop_words = set(stopwords.words('english'))"
      ]
    },
    {
      "cell_type": "code",
      "execution_count": 5,
      "metadata": {
        "id": "EkUiTEeKtwEv"
      },
      "outputs": [],
      "source": [
        "def extract_pos(text):\n",
        "    tokens = word_tokenize(text)\n",
        "    pos_tags = nltk.pos_tag(tokens)\n",
        "    pos_words = [word for word, pos in pos_tags if pos.startswith('VB') or pos.startswith('JJ') or pos.startswith('NN')]\n",
        "    return ' '.join(pos_words)\n",
        "\n",
        "def process_dataset(text):\n",
        "    lower_cased = text.lower()\n",
        "    tokens = nltk.word_tokenize(lower_cased)\n",
        "    filtered_tokens = [token for token in tokens if token not in stop_words]\n",
        "    preprocessed = ' '.join(filtered_tokens)\n",
        "    return preprocessed"
      ]
    },
    {
      "cell_type": "code",
      "execution_count": 6,
      "metadata": {
        "id": "_QmTEoda3I5m"
      },
      "outputs": [],
      "source": [
        "df[\"SAonly\"] = df['Student Answer']"
      ]
    },
    {
      "cell_type": "code",
      "execution_count": 7,
      "metadata": {
        "id": "3B3Z2aN9tx40"
      },
      "outputs": [],
      "source": [
        "from sklearn.model_selection import train_test_split\n",
        "train_X, test_X, train_y, test_y = train_test_split(df.loc[:,['SAonly']], df[\"Grade\"], test_size=0.1, random_state=42)"
      ]
    },
    {
      "cell_type": "code",
      "execution_count": 8,
      "metadata": {
        "id": "vfwWEnJ3tzIL"
      },
      "outputs": [],
      "source": [
        "train_X[\"SAonly\"] = train_X[\"SAonly\"].apply(extract_pos).apply(process_dataset)\n",
        "\n",
        "test_X[\"SAonly\"] = test_X[\"SAonly\"].apply(extract_pos).apply(process_dataset)"
      ]
    },
    {
      "cell_type": "code",
      "execution_count": 9,
      "metadata": {
        "id": "X3Fk-CaUt0Ba"
      },
      "outputs": [],
      "source": [
        "sentences = list(train_X[\"SAonly\"])"
      ]
    },
    {
      "cell_type": "code",
      "execution_count": 10,
      "metadata": {
        "id": "YDRz91HXm5AW"
      },
      "outputs": [],
      "source": [
        "rm -rf ~/.cache/huggingface/transformers/bert-base-uncased"
      ]
    },
    {
      "cell_type": "code",
      "execution_count": 11,
      "metadata": {
        "colab": {
          "base_uri": "https://localhost:8080/",
          "height": 217,
          "referenced_widgets": [
            "71bbe05cbcac4857b9fc260b2dec7efe",
            "9566ef85b6de42e48d8614f11f7ae3ae",
            "95a9b1d5bb9c473483601db8f3ae14eb",
            "10a6a6db6dff409998b2146c04b35f58",
            "035faf2c1835455cba6676b965705fb6",
            "f863f40d358d4049bea772bb6755f630",
            "9bd6949753da4ccfa38481acc9cfbba4",
            "ecca8e2ac3a1457a9348164a066c13a4",
            "c240cf026cd546ffb67fe82d498af864",
            "9ee8c90e5aec43ef947e4972da82379d",
            "d15a3184b52f4c58920b2ebe99fac7e9",
            "6ad75da134cf4e87b891434064e8afd9",
            "8678e1f5b3134938821bbf3f47b316ec",
            "231fc74628344fb2b8b63a4cbb82a9aa",
            "4043b78a84414af5bed393af86b20519",
            "374c6557d2634df38317954e7d71d00f",
            "666fc5bc6f9a4a5b835d1316cdaa5976",
            "e20603b8a2694d81a9c0851d74fcfc65",
            "67d8c6f65d8542b8a18b043d89f5053a",
            "d962e33d7be64f9391ec11e73dde3253",
            "5e83103b2ce043ef85a0347b7bc54941",
            "d504e1e144d348e4a46690b407b8f4e7",
            "9b88436190344f939f9d4e5dbd30be72",
            "39506446dff0479298e345391ceb0738",
            "cae061ff7f264067a9611e900d5fc5e6",
            "7b27827a405048beb4865499c090c8fa",
            "fe8045ace7b547138dce60eedfffabeb",
            "fe1c7367ad4242e8bb5caf814a6a19e2",
            "3fee772fc1fc44f398b4473af6e9f883",
            "c557b24542bb414fa90f3f500c4b0bef",
            "00a285f165e84584a1a478e121cc9ece",
            "ac6b726836f846208d4ed320037be5a6",
            "cafed5371534426284f60b38f3f75fd0",
            "e940634a410a49f8b5baefabaa5f65ae",
            "b7cd58f1f1c5412cbdca2623e908c03c",
            "843f9e0b1beb44028a53279904496b3d",
            "8b9d558a217449c4b9d6ff3b2d801266",
            "8a3711fa10c14e16868e486761e2272e",
            "925d348ac02348f78bcd98ccdbbf3b8f",
            "af116eca44a24f73a3950930005e3334",
            "991d17553f73466e8a18557d88f5394e",
            "b193e830cb5a450dae7c00c6c18d3f39",
            "5f43b37a333a4fae8216803173dd6618",
            "60a8c3b48db346b098da606ff175e03f"
          ]
        },
        "id": "bB_tDKjpuAzu",
        "outputId": "3642f398-41aa-43a5-c701-543af37c0969"
      },
      "outputs": [
        {
          "output_type": "display_data",
          "data": {
            "text/plain": [
              "Downloading (…)solve/main/vocab.txt:   0%|          | 0.00/232k [00:00<?, ?B/s]"
            ],
            "application/vnd.jupyter.widget-view+json": {
              "version_major": 2,
              "version_minor": 0,
              "model_id": "71bbe05cbcac4857b9fc260b2dec7efe"
            }
          },
          "metadata": {}
        },
        {
          "output_type": "display_data",
          "data": {
            "text/plain": [
              "Downloading (…)okenizer_config.json:   0%|          | 0.00/28.0 [00:00<?, ?B/s]"
            ],
            "application/vnd.jupyter.widget-view+json": {
              "version_major": 2,
              "version_minor": 0,
              "model_id": "6ad75da134cf4e87b891434064e8afd9"
            }
          },
          "metadata": {}
        },
        {
          "output_type": "display_data",
          "data": {
            "text/plain": [
              "Downloading (…)lve/main/config.json:   0%|          | 0.00/570 [00:00<?, ?B/s]"
            ],
            "application/vnd.jupyter.widget-view+json": {
              "version_major": 2,
              "version_minor": 0,
              "model_id": "9b88436190344f939f9d4e5dbd30be72"
            }
          },
          "metadata": {}
        },
        {
          "output_type": "display_data",
          "data": {
            "text/plain": [
              "Downloading pytorch_model.bin:   0%|          | 0.00/440M [00:00<?, ?B/s]"
            ],
            "application/vnd.jupyter.widget-view+json": {
              "version_major": 2,
              "version_minor": 0,
              "model_id": "e940634a410a49f8b5baefabaa5f65ae"
            }
          },
          "metadata": {}
        },
        {
          "output_type": "stream",
          "name": "stderr",
          "text": [
            "Some weights of the model checkpoint at bert-base-uncased were not used when initializing BertModel: ['cls.predictions.transform.dense.weight', 'cls.predictions.decoder.weight', 'cls.predictions.transform.dense.bias', 'cls.predictions.bias', 'cls.seq_relationship.bias', 'cls.seq_relationship.weight', 'cls.predictions.transform.LayerNorm.weight', 'cls.predictions.transform.LayerNorm.bias']\n",
            "- This IS expected if you are initializing BertModel from the checkpoint of a model trained on another task or with another architecture (e.g. initializing a BertForSequenceClassification model from a BertForPreTraining model).\n",
            "- This IS NOT expected if you are initializing BertModel from the checkpoint of a model that you expect to be exactly identical (initializing a BertForSequenceClassification model from a BertForSequenceClassification model).\n"
          ]
        }
      ],
      "source": [
        "from transformers import BertTokenizer, BertModel\n",
        "import torch\n",
        "\n",
        "tokenizer = BertTokenizer.from_pretrained('bert-base-uncased')\n",
        "model = BertModel.from_pretrained('bert-base-uncased')"
      ]
    },
    {
      "cell_type": "code",
      "execution_count": 12,
      "metadata": {
        "id": "doFABH9jnCO8"
      },
      "outputs": [],
      "source": [
        "from transformers import BertTokenizer, BertModel\n",
        "import torch\n",
        "\n",
        "def get_bert_embeddings(sentence):\n",
        "\n",
        "    input_ids = tokenizer.encode(sentence, add_special_tokens=True)\n",
        "    input_ids = torch.tensor([input_ids])\n",
        "\n",
        "    # Obtain BERT embeddings\n",
        "    with torch.no_grad():\n",
        "        outputs = model(input_ids)\n",
        "        embeddings = outputs[0][:, 0, :]\n",
        "\n",
        "    return np.array(embeddings)[0]"
      ]
    },
    {
      "cell_type": "code",
      "execution_count": 13,
      "metadata": {
        "id": "NPht_JBiuB6D"
      },
      "outputs": [],
      "source": [
        "train_Embeddings_df = pd.DataFrame({\"SAonly_Embeddings\":train_X[\"SAonly\"]})\n",
        "test_Embeddings_df = pd.DataFrame({\"SAonly_Embeddings\":test_X[\"SAonly\"]})"
      ]
    },
    {
      "cell_type": "code",
      "execution_count": 14,
      "metadata": {
        "id": "fkiR8qiiuE32"
      },
      "outputs": [],
      "source": [
        "train_Embeddings_df[\"SAonly_Embeddings\"] = train_Embeddings_df[\"SAonly_Embeddings\"].apply(get_bert_embeddings)\n",
        "\n",
        "test_Embeddings_df[\"SAonly_Embeddings\"] = test_Embeddings_df[\"SAonly_Embeddings\"].apply(get_bert_embeddings)"
      ]
    },
    {
      "cell_type": "code",
      "execution_count": 15,
      "metadata": {
        "id": "rpfDjmoNuFxP"
      },
      "outputs": [],
      "source": [
        "train_X[\"SA_Embeddings\"] = train_Embeddings_df.apply(lambda x:x[\"SAonly_Embeddings\"], axis = 1)\n",
        "test_X[\"SA_Embeddings\"] = test_Embeddings_df.apply(lambda x:x[\"SAonly_Embeddings\"], axis = 1)"
      ]
    },
    {
      "cell_type": "code",
      "execution_count": 16,
      "metadata": {
        "id": "6u7EtaR6uJ55"
      },
      "outputs": [],
      "source": [
        "train_df = pd.DataFrame(list(train_X[\"SA_Embeddings\"]))\n",
        "test_df = pd.DataFrame(list(test_X[\"SA_Embeddings\"]))"
      ]
    },
    {
      "cell_type": "code",
      "execution_count": 17,
      "metadata": {
        "id": "HwaVqf0S-5y4"
      },
      "outputs": [],
      "source": [
        "# train_df.to_csv(\"bert_train_embeddings_SA.csv\")\n",
        "# test_df.to_csv(\"bert_test_embeddings_SA.csv\")"
      ]
    },
    {
      "cell_type": "code",
      "source": [],
      "metadata": {
        "id": "rK1o-VKO00BL"
      },
      "execution_count": 17,
      "outputs": []
    },
    {
      "cell_type": "code",
      "source": [
        "pca = PCA(n_components=100)  # Specify the number of components you want to keep\n",
        "train_df_pca = pca.fit_transform(train_df)"
      ],
      "metadata": {
        "id": "SUemBOzKnksw"
      },
      "execution_count": 18,
      "outputs": []
    },
    {
      "cell_type": "code",
      "source": [
        "test_df_pca = pca.transform(test_df)"
      ],
      "metadata": {
        "id": "Ju6QZpiZnrSP"
      },
      "execution_count": 19,
      "outputs": []
    },
    {
      "cell_type": "code",
      "source": [
        "ncols = train_df_pca.shape[1]"
      ],
      "metadata": {
        "id": "1pTAqkuecz9i"
      },
      "execution_count": 20,
      "outputs": []
    },
    {
      "cell_type": "code",
      "source": [
        "model = Sequential()\n",
        "model.add(Conv1D(filters=32, kernel_size=3, activation='relu', input_shape=(ncols,1)))\n",
        "model.add(MaxPooling1D(pool_size=2))\n",
        "model.add(Dropout(0.5))\n",
        "model.add(Flatten())\n",
        "model.add(Dense(64, activation='relu'))\n",
        "model.add(Dense(1))\n",
        "\n",
        "# Compile the model\n",
        "model.compile(optimizer='adam', loss='mean_squared_error')\n",
        "\n",
        "# Train the model\n",
        "model.fit(train_df_pca, train_y, epochs=10, batch_size=32, verbose=1)\n",
        "\n",
        "y_true = test_y\n",
        "y_preds = model.predict(test_df_pca)\n",
        "\n",
        "from sklearn.metrics import mean_absolute_error, mean_squared_error, r2_score, mean_absolute_percentage_error\n",
        "cnn_mae = mean_absolute_error(y_true, np.round(y_preds, 1))\n",
        "cnn_mse = mean_squared_error(y_true, np.round(y_preds, 1))\n",
        "cnn_rmse = mean_squared_error(y_true, np.round(y_preds, 1), squared=False)\n",
        "cnn_mape = mean_absolute_percentage_error(y_true, y_preds, multioutput = \"uniform_average\")\n",
        "cnn_r2 = r2_score(y_true, y_preds)\n",
        "\n",
        "print(\"Mean Absolute Error (MAE): \", np.round(cnn_mae, 2))\n",
        "print(\"Mean Squared Error (MSE): \", np.round(cnn_mse, 2))\n",
        "print(\"Root Mean Squared Error (RMSE): \", np.round(cnn_rmse, 2))\n",
        "print(\"Mean Absolute Percentage Error (MAPE): \", np.round(cnn_mape, 2))\n",
        "print(\"R2 Score: \", np.round(cnn_r2, 2))"
      ],
      "metadata": {
        "colab": {
          "base_uri": "https://localhost:8080/"
        },
        "id": "817WVQ-Yn1wF",
        "outputId": "47772bb9-fcb7-4bcb-b1bf-5bbd3bc62490"
      },
      "execution_count": 21,
      "outputs": [
        {
          "output_type": "stream",
          "name": "stdout",
          "text": [
            "Epoch 1/10\n",
            "69/69 [==============================] - 9s 4ms/step - loss: 3.8753\n",
            "Epoch 2/10\n",
            "69/69 [==============================] - 0s 4ms/step - loss: 2.7933\n",
            "Epoch 3/10\n",
            "69/69 [==============================] - 0s 5ms/step - loss: 2.6708\n",
            "Epoch 4/10\n",
            "69/69 [==============================] - 0s 4ms/step - loss: 2.6720\n",
            "Epoch 5/10\n",
            "69/69 [==============================] - 0s 4ms/step - loss: 2.6297\n",
            "Epoch 6/10\n",
            "69/69 [==============================] - 0s 5ms/step - loss: 2.6152\n",
            "Epoch 7/10\n",
            "69/69 [==============================] - 0s 5ms/step - loss: 2.5647\n",
            "Epoch 8/10\n",
            "69/69 [==============================] - 0s 5ms/step - loss: 2.5679\n",
            "Epoch 9/10\n",
            "69/69 [==============================] - 0s 5ms/step - loss: 2.5441\n",
            "Epoch 10/10\n",
            "69/69 [==============================] - 0s 4ms/step - loss: 2.5333\n",
            "8/8 [==============================] - 0s 2ms/step\n",
            "Mean Absolute Error (MAE):  1.16\n",
            "Mean Squared Error (MSE):  1.97\n",
            "Root Mean Squared Error (RMSE):  1.4\n",
            "Mean Absolute Percentage Error (MAPE):  590224038814398.4\n",
            "R2 Score:  0.0\n"
          ]
        }
      ]
    },
    {
      "cell_type": "code",
      "source": [
        "# Create an MLP regressor with a single linear output layer\n",
        "mlp = MLPRegressor(hidden_layer_sizes=(100,50,25,1), activation='identity', solver='lbfgs')\n",
        "\n",
        "# Train the MLP regressor\n",
        "mlp.fit(train_df_pca, train_y)\n",
        "\n",
        "y_preds = mlp.predict(test_df_pca)\n",
        "\n",
        "y_true = test_y\n",
        "\n",
        "from sklearn.metrics import mean_absolute_error, mean_squared_error, r2_score, mean_absolute_percentage_error\n",
        "mlp_mae = mean_absolute_error(y_true, np.round(y_preds, 1))\n",
        "mlp_mse = mean_squared_error(y_true, np.round(y_preds, 1))\n",
        "mlp_rmse = mean_squared_error(y_true, np.round(y_preds, 1), squared=False)\n",
        "mlp_mape = mean_absolute_percentage_error(y_true, y_preds, multioutput = \"uniform_average\")\n",
        "mlp_r2 = r2_score(y_true, y_preds)\n",
        "\n",
        "print(\"Mean Absolute Error (MAE): \", np.round(mlp_mae, 2))\n",
        "print(\"Mean Squared Error (MSE): \", np.round(mlp_mse, 2))\n",
        "print(\"Root Mean Squared Error (RMSE): \", np.round(mlp_rmse, 2))\n",
        "print(\"Mean Absolute Percentage Error (MAPE): \", np.round(mlp_mape, 2))\n",
        "print(\"R2 Score: \", np.round(mlp_r2, 2))"
      ],
      "metadata": {
        "colab": {
          "base_uri": "https://localhost:8080/"
        },
        "id": "G-dAurLQoJG-",
        "outputId": "983cdb36-5823-4c34-b146-1e5b61d2ea82"
      },
      "execution_count": 22,
      "outputs": [
        {
          "output_type": "stream",
          "name": "stdout",
          "text": [
            "Mean Absolute Error (MAE):  1.19\n",
            "Mean Squared Error (MSE):  2.03\n",
            "Root Mean Squared Error (RMSE):  1.43\n",
            "Mean Absolute Percentage Error (MAPE):  597131559877736.8\n",
            "R2 Score:  -0.02\n"
          ]
        }
      ]
    },
    {
      "cell_type": "code",
      "source": [
        "from sklearn.linear_model import LinearRegression\n",
        "LR_model = LinearRegression()\n",
        "LR_model.fit(train_df_pca, train_y)\n",
        "\n",
        "preds = LR_model.predict(test_df_pca)\n",
        "y_preds = [round(y_val, 1) for y_val in preds]\n",
        "actuals = test_y\n",
        "y_true = [round(y_val, 1) for y_val in actuals]\n",
        "\n",
        "from sklearn.metrics import mean_absolute_error, mean_squared_error, r2_score, mean_absolute_percentage_error\n",
        "LR_mae = mean_absolute_error(y_true, np.round(y_preds, 1))\n",
        "LR_mse = mean_squared_error(y_true, np.round(y_preds, 1))\n",
        "LR_rmse = mean_squared_error(y_true, np.round(y_preds, 1), squared=False)\n",
        "LR_mape = mean_absolute_percentage_error(y_true, y_preds, multioutput = \"uniform_average\")\n",
        "LR_r2 = r2_score(y_true, y_preds)\n",
        "\n",
        "print(\"Mean Absolute Error (MAE): \", np.round(LR_mae, 2))\n",
        "print(\"Mean Squared Error (MSE): \", np.round(LR_mse, 2))\n",
        "print(\"Root Mean Squared Error (RMSE): \", np.round(LR_rmse, 2))\n",
        "print(\"Mean Absolute Percentage Error (MAPE): \", np.round(LR_mape, 2))\n",
        "print(\"R2 Score: \", np.round(LR_r2, 2))"
      ],
      "metadata": {
        "colab": {
          "base_uri": "https://localhost:8080/"
        },
        "id": "iQmHvzUMoRTP",
        "outputId": "5d4b72fe-cde9-4061-cc8f-5d7b1fc3babf"
      },
      "execution_count": 23,
      "outputs": [
        {
          "output_type": "stream",
          "name": "stdout",
          "text": [
            "Mean Absolute Error (MAE):  1.2\n",
            "Mean Squared Error (MSE):  2.06\n",
            "Root Mean Squared Error (RMSE):  1.44\n",
            "Mean Absolute Percentage Error (MAPE):  597416277100168.2\n",
            "R2 Score:  -0.03\n"
          ]
        }
      ]
    },
    {
      "cell_type": "code",
      "source": [],
      "metadata": {
        "id": "S3JqEc_0oZCJ"
      },
      "execution_count": 23,
      "outputs": []
    },
    {
      "cell_type": "code",
      "source": [
        "from sklearn import neighbors\n",
        "rmse_val = []\n",
        "mae_val = []\n",
        "mse_val = []\n",
        "r2_val = []\n",
        "for K in range(2,20):\n",
        "    knn_model = neighbors.KNeighborsRegressor(n_neighbors = K)\n",
        "    knn_model.fit(train_df_pca, train_y)  #fit the model\n",
        "    pred=knn_model.predict(test_df_pca) #make prediction on test set\n",
        "    \n",
        "    mae = mean_absolute_error(y_true, np.round(pred, 1))\n",
        "    mae_val.append(mae)\n",
        "    \n",
        "    mse = mean_squared_error(y_true, np.round(pred, 1))\n",
        "    mse_val.append(mse)\n",
        "    \n",
        "    rmse = mean_squared_error(y_true, np.round(pred, 1), squared=False)\n",
        "    rmse_val.append(rmse)\n",
        "    \n",
        "    r2 = r2_score(y_true, pred)\n",
        "    r2_val.append(r2)\n",
        "\n",
        "y_true = test_y\n",
        "knn_preds = knn_model.predict(test_df_pca)\n",
        "\n",
        "min_val = min(r2_val)\n",
        "index = r2_val.index(min_val)\n",
        "knn_r2 = min_val\n",
        "knn_rmse = rmse_val[index]\n",
        "knn_mae = mae_val[index]\n",
        "knn_mse = mse_val[index]\n",
        "\n",
        "print(\"Mean Absolute Error (MAE): \", np.round(knn_mae, 2))\n",
        "print(\"Mean Squared Error (MSE): \", np.round(knn_mse, 2))\n",
        "print(\"Root Mean Squared Error (RMSE): \", np.round(knn_rmse, 2))\n",
        "print(\"R2 Score: \", np.round(knn_r2, 2))"
      ],
      "metadata": {
        "id": "VZUfaC8TO6Lr",
        "colab": {
          "base_uri": "https://localhost:8080/"
        },
        "outputId": "e97cc672-2fdc-4a80-d3f0-11ed808f5ded"
      },
      "execution_count": 28,
      "outputs": [
        {
          "output_type": "stream",
          "name": "stdout",
          "text": [
            "Mean Absolute Error (MAE):  1.25\n",
            "Mean Squared Error (MSE):  3.05\n",
            "Root Mean Squared Error (RMSE):  1.75\n",
            "R2 Score:  -0.54\n"
          ]
        }
      ]
    },
    {
      "cell_type": "code",
      "source": [
        "from sklearn.ensemble import RandomForestRegressor, GradientBoostingRegressor, AdaBoostRegressor\n",
        "ada_reg = AdaBoostRegressor(n_estimators = 100, learning_rate=0.5)\n",
        "\n",
        "ada_reg.fit(train_df, train_y)\n",
        "\n",
        "ada_reg_pred = ada_reg.predict(pd.DataFrame(test_df))\n",
        "ada_reg_mae = mean_absolute_error(test_y, np.round(ada_reg_pred, 1))\n",
        "ada_reg_mse = mean_squared_error(test_y, np.round(ada_reg_pred, 1))\n",
        "ada_reg_mape = mean_absolute_percentage_error(test_y, np.round(ada_reg_pred,1), multioutput = \"uniform_average\")\n",
        "ada_reg_rmse = mean_squared_error(test_y, np.round(ada_reg_pred, 1), squared=False)\n",
        "ada_reg_r2 = r2_score(test_y, ada_reg_pred)\n",
        "\n",
        "print(\"Mean Absolute Error (MAE): \", np.round(ada_reg_mae, 2))\n",
        "print(\"Mean Squared Error (MSE): \", np.round(ada_reg_mse, 2))\n",
        "print(\"Root Mean Squared Error (RMSE): \", np.round(ada_reg_rmse, 2))\n",
        "print(\"Mean Absolute Percentage Error (MAPE): \", np.round(ada_reg_mape, 2))\n",
        "print(\"R2 Score: \", np.round(ada_reg_r2, 2))"
      ],
      "metadata": {
        "id": "WKxpmf1WPrnr",
        "colab": {
          "base_uri": "https://localhost:8080/"
        },
        "outputId": "1c73af27-32ca-417e-8294-a6011460634e"
      },
      "execution_count": 29,
      "outputs": [
        {
          "output_type": "stream",
          "name": "stdout",
          "text": [
            "Mean Absolute Error (MAE):  1.28\n",
            "Mean Squared Error (MSE):  2.15\n",
            "Root Mean Squared Error (RMSE):  1.47\n",
            "Mean Absolute Percentage Error (MAPE):  569843218157083.5\n",
            "R2 Score:  -0.09\n"
          ]
        }
      ]
    },
    {
      "cell_type": "code",
      "source": [
        "gb_reg = GradientBoostingRegressor(n_estimators = 50, max_depth=5)\n",
        "\n",
        "gb_reg.fit(train_df_pca, train_y)\n",
        "\n",
        "gb_reg_pred = gb_reg.predict(pd.DataFrame(test_df_pca))\n",
        "gb_reg_mae = mean_absolute_error(test_y, np.round(gb_reg_pred, 1))\n",
        "gb_reg_mse = mean_squared_error(test_y, np.round(gb_reg_pred, 1))\n",
        "gb_reg_mape = mean_absolute_percentage_error(test_y, np.round(gb_reg_pred,1), multioutput = \"uniform_average\")\n",
        "gb_reg_rmse = mean_squared_error(test_y, np.round(gb_reg_pred, 1), squared=False)\n",
        "gb_reg_r2 = r2_score(test_y, gb_reg_pred)\n",
        "\n",
        "print(\"Mean Absolute Error (MAE): \", np.round(gb_reg_mae, 2))\n",
        "print(\"Mean Squared Error (MSE): \", np.round(gb_reg_mse, 2))\n",
        "print(\"Root Mean Squared Error (RMSE): \", np.round(gb_reg_rmse, 2))\n",
        "print(\"Mean Absolute Percentage Error (MAPE): \", np.round(gb_reg_mape, 2))\n",
        "print(\"R2 Score: \", np.round(gb_reg_r2, 2))"
      ],
      "metadata": {
        "id": "6HDdNMgZPtLL",
        "colab": {
          "base_uri": "https://localhost:8080/"
        },
        "outputId": "289f69c7-82cf-494d-9e12-c8848c4566e8"
      },
      "execution_count": 30,
      "outputs": [
        {
          "output_type": "stream",
          "name": "stdout",
          "text": [
            "Mean Absolute Error (MAE):  1.17\n",
            "Mean Squared Error (MSE):  1.95\n",
            "Root Mean Squared Error (RMSE):  1.4\n",
            "Mean Absolute Percentage Error (MAPE):  582710645663856.4\n",
            "R2 Score:  0.01\n"
          ]
        }
      ]
    },
    {
      "cell_type": "code",
      "source": [
        "xg_reg = xgb.XGBRegressor(objective ='reg:squarederror', seed = 123)\n",
        "\n",
        "xg_reg.fit(train_df_pca, train_y)\n",
        "\n",
        "# print(\"Best parameters: \", xg_boost_grid_search.best_params_)\n",
        "# print(\"Best score: \", xg_boost_grid_search.best_score_)\n",
        "xg_reg_pred = xg_reg.predict(pd.DataFrame(test_df_pca))\n",
        "xg_reg_mae = mean_absolute_error(test_y, np.round(xg_reg_pred, 1))\n",
        "xg_reg_mse = mean_squared_error(test_y, np.round(xg_reg_pred, 1))\n",
        "xg_reg_mape = mean_absolute_percentage_error(test_y, np.round(xg_reg_pred,1), multioutput = \"uniform_average\")\n",
        "xg_reg_rmse = mean_squared_error(test_y, np.round(xg_reg_pred, 1), squared=False)\n",
        "xg_reg_r2 = r2_score(test_y, xg_reg_pred)\n",
        "\n",
        "print(\"Mean Absolute Error (MAE): \", np.round(xg_reg_mae, 2))\n",
        "print(\"Mean Squared Error (MSE): \", np.round(xg_reg_mse, 2))\n",
        "print(\"Root Mean Squared Error (RMSE): \", np.round(xg_reg_rmse, 2))\n",
        "print(\"Mean Absolute Percentage Error (MAPE): \", np.round(xg_reg_mape, 2))\n",
        "print(\"R2 Score: \", np.round(xg_reg_r2, 2))"
      ],
      "metadata": {
        "colab": {
          "base_uri": "https://localhost:8080/"
        },
        "id": "mSLeTmvQPuwM",
        "outputId": "0ddc3f3e-6d9a-41fd-f85d-458d3f8657ca"
      },
      "execution_count": 31,
      "outputs": [
        {
          "output_type": "stream",
          "name": "stdout",
          "text": [
            "Mean Absolute Error (MAE):  1.18\n",
            "Mean Squared Error (MSE):  2.27\n",
            "Root Mean Squared Error (RMSE):  1.51\n",
            "Mean Absolute Percentage Error (MAPE):  571681420333574.6\n",
            "R2 Score:  -0.15\n"
          ]
        }
      ]
    },
    {
      "cell_type": "code",
      "source": [],
      "metadata": {
        "id": "y2uYTxlf6pjy"
      },
      "execution_count": null,
      "outputs": []
    }
  ],
  "metadata": {
    "colab": {
      "provenance": [],
      "gpuType": "T4"
    },
    "kernelspec": {
      "display_name": "Python 3",
      "name": "python3"
    },
    "language_info": {
      "codemirror_mode": {
        "name": "ipython",
        "version": 3
      },
      "file_extension": ".py",
      "mimetype": "text/x-python",
      "name": "python",
      "nbconvert_exporter": "python",
      "pygments_lexer": "ipython3",
      "version": "3.8.8"
    },
    "widgets": {
      "application/vnd.jupyter.widget-state+json": {
        "71bbe05cbcac4857b9fc260b2dec7efe": {
          "model_module": "@jupyter-widgets/controls",
          "model_name": "HBoxModel",
          "model_module_version": "1.5.0",
          "state": {
            "_dom_classes": [],
            "_model_module": "@jupyter-widgets/controls",
            "_model_module_version": "1.5.0",
            "_model_name": "HBoxModel",
            "_view_count": null,
            "_view_module": "@jupyter-widgets/controls",
            "_view_module_version": "1.5.0",
            "_view_name": "HBoxView",
            "box_style": "",
            "children": [
              "IPY_MODEL_9566ef85b6de42e48d8614f11f7ae3ae",
              "IPY_MODEL_95a9b1d5bb9c473483601db8f3ae14eb",
              "IPY_MODEL_10a6a6db6dff409998b2146c04b35f58"
            ],
            "layout": "IPY_MODEL_035faf2c1835455cba6676b965705fb6"
          }
        },
        "9566ef85b6de42e48d8614f11f7ae3ae": {
          "model_module": "@jupyter-widgets/controls",
          "model_name": "HTMLModel",
          "model_module_version": "1.5.0",
          "state": {
            "_dom_classes": [],
            "_model_module": "@jupyter-widgets/controls",
            "_model_module_version": "1.5.0",
            "_model_name": "HTMLModel",
            "_view_count": null,
            "_view_module": "@jupyter-widgets/controls",
            "_view_module_version": "1.5.0",
            "_view_name": "HTMLView",
            "description": "",
            "description_tooltip": null,
            "layout": "IPY_MODEL_f863f40d358d4049bea772bb6755f630",
            "placeholder": "​",
            "style": "IPY_MODEL_9bd6949753da4ccfa38481acc9cfbba4",
            "value": "Downloading (…)solve/main/vocab.txt: 100%"
          }
        },
        "95a9b1d5bb9c473483601db8f3ae14eb": {
          "model_module": "@jupyter-widgets/controls",
          "model_name": "FloatProgressModel",
          "model_module_version": "1.5.0",
          "state": {
            "_dom_classes": [],
            "_model_module": "@jupyter-widgets/controls",
            "_model_module_version": "1.5.0",
            "_model_name": "FloatProgressModel",
            "_view_count": null,
            "_view_module": "@jupyter-widgets/controls",
            "_view_module_version": "1.5.0",
            "_view_name": "ProgressView",
            "bar_style": "success",
            "description": "",
            "description_tooltip": null,
            "layout": "IPY_MODEL_ecca8e2ac3a1457a9348164a066c13a4",
            "max": 231508,
            "min": 0,
            "orientation": "horizontal",
            "style": "IPY_MODEL_c240cf026cd546ffb67fe82d498af864",
            "value": 231508
          }
        },
        "10a6a6db6dff409998b2146c04b35f58": {
          "model_module": "@jupyter-widgets/controls",
          "model_name": "HTMLModel",
          "model_module_version": "1.5.0",
          "state": {
            "_dom_classes": [],
            "_model_module": "@jupyter-widgets/controls",
            "_model_module_version": "1.5.0",
            "_model_name": "HTMLModel",
            "_view_count": null,
            "_view_module": "@jupyter-widgets/controls",
            "_view_module_version": "1.5.0",
            "_view_name": "HTMLView",
            "description": "",
            "description_tooltip": null,
            "layout": "IPY_MODEL_9ee8c90e5aec43ef947e4972da82379d",
            "placeholder": "​",
            "style": "IPY_MODEL_d15a3184b52f4c58920b2ebe99fac7e9",
            "value": " 232k/232k [00:00&lt;00:00, 2.82MB/s]"
          }
        },
        "035faf2c1835455cba6676b965705fb6": {
          "model_module": "@jupyter-widgets/base",
          "model_name": "LayoutModel",
          "model_module_version": "1.2.0",
          "state": {
            "_model_module": "@jupyter-widgets/base",
            "_model_module_version": "1.2.0",
            "_model_name": "LayoutModel",
            "_view_count": null,
            "_view_module": "@jupyter-widgets/base",
            "_view_module_version": "1.2.0",
            "_view_name": "LayoutView",
            "align_content": null,
            "align_items": null,
            "align_self": null,
            "border": null,
            "bottom": null,
            "display": null,
            "flex": null,
            "flex_flow": null,
            "grid_area": null,
            "grid_auto_columns": null,
            "grid_auto_flow": null,
            "grid_auto_rows": null,
            "grid_column": null,
            "grid_gap": null,
            "grid_row": null,
            "grid_template_areas": null,
            "grid_template_columns": null,
            "grid_template_rows": null,
            "height": null,
            "justify_content": null,
            "justify_items": null,
            "left": null,
            "margin": null,
            "max_height": null,
            "max_width": null,
            "min_height": null,
            "min_width": null,
            "object_fit": null,
            "object_position": null,
            "order": null,
            "overflow": null,
            "overflow_x": null,
            "overflow_y": null,
            "padding": null,
            "right": null,
            "top": null,
            "visibility": null,
            "width": null
          }
        },
        "f863f40d358d4049bea772bb6755f630": {
          "model_module": "@jupyter-widgets/base",
          "model_name": "LayoutModel",
          "model_module_version": "1.2.0",
          "state": {
            "_model_module": "@jupyter-widgets/base",
            "_model_module_version": "1.2.0",
            "_model_name": "LayoutModel",
            "_view_count": null,
            "_view_module": "@jupyter-widgets/base",
            "_view_module_version": "1.2.0",
            "_view_name": "LayoutView",
            "align_content": null,
            "align_items": null,
            "align_self": null,
            "border": null,
            "bottom": null,
            "display": null,
            "flex": null,
            "flex_flow": null,
            "grid_area": null,
            "grid_auto_columns": null,
            "grid_auto_flow": null,
            "grid_auto_rows": null,
            "grid_column": null,
            "grid_gap": null,
            "grid_row": null,
            "grid_template_areas": null,
            "grid_template_columns": null,
            "grid_template_rows": null,
            "height": null,
            "justify_content": null,
            "justify_items": null,
            "left": null,
            "margin": null,
            "max_height": null,
            "max_width": null,
            "min_height": null,
            "min_width": null,
            "object_fit": null,
            "object_position": null,
            "order": null,
            "overflow": null,
            "overflow_x": null,
            "overflow_y": null,
            "padding": null,
            "right": null,
            "top": null,
            "visibility": null,
            "width": null
          }
        },
        "9bd6949753da4ccfa38481acc9cfbba4": {
          "model_module": "@jupyter-widgets/controls",
          "model_name": "DescriptionStyleModel",
          "model_module_version": "1.5.0",
          "state": {
            "_model_module": "@jupyter-widgets/controls",
            "_model_module_version": "1.5.0",
            "_model_name": "DescriptionStyleModel",
            "_view_count": null,
            "_view_module": "@jupyter-widgets/base",
            "_view_module_version": "1.2.0",
            "_view_name": "StyleView",
            "description_width": ""
          }
        },
        "ecca8e2ac3a1457a9348164a066c13a4": {
          "model_module": "@jupyter-widgets/base",
          "model_name": "LayoutModel",
          "model_module_version": "1.2.0",
          "state": {
            "_model_module": "@jupyter-widgets/base",
            "_model_module_version": "1.2.0",
            "_model_name": "LayoutModel",
            "_view_count": null,
            "_view_module": "@jupyter-widgets/base",
            "_view_module_version": "1.2.0",
            "_view_name": "LayoutView",
            "align_content": null,
            "align_items": null,
            "align_self": null,
            "border": null,
            "bottom": null,
            "display": null,
            "flex": null,
            "flex_flow": null,
            "grid_area": null,
            "grid_auto_columns": null,
            "grid_auto_flow": null,
            "grid_auto_rows": null,
            "grid_column": null,
            "grid_gap": null,
            "grid_row": null,
            "grid_template_areas": null,
            "grid_template_columns": null,
            "grid_template_rows": null,
            "height": null,
            "justify_content": null,
            "justify_items": null,
            "left": null,
            "margin": null,
            "max_height": null,
            "max_width": null,
            "min_height": null,
            "min_width": null,
            "object_fit": null,
            "object_position": null,
            "order": null,
            "overflow": null,
            "overflow_x": null,
            "overflow_y": null,
            "padding": null,
            "right": null,
            "top": null,
            "visibility": null,
            "width": null
          }
        },
        "c240cf026cd546ffb67fe82d498af864": {
          "model_module": "@jupyter-widgets/controls",
          "model_name": "ProgressStyleModel",
          "model_module_version": "1.5.0",
          "state": {
            "_model_module": "@jupyter-widgets/controls",
            "_model_module_version": "1.5.0",
            "_model_name": "ProgressStyleModel",
            "_view_count": null,
            "_view_module": "@jupyter-widgets/base",
            "_view_module_version": "1.2.0",
            "_view_name": "StyleView",
            "bar_color": null,
            "description_width": ""
          }
        },
        "9ee8c90e5aec43ef947e4972da82379d": {
          "model_module": "@jupyter-widgets/base",
          "model_name": "LayoutModel",
          "model_module_version": "1.2.0",
          "state": {
            "_model_module": "@jupyter-widgets/base",
            "_model_module_version": "1.2.0",
            "_model_name": "LayoutModel",
            "_view_count": null,
            "_view_module": "@jupyter-widgets/base",
            "_view_module_version": "1.2.0",
            "_view_name": "LayoutView",
            "align_content": null,
            "align_items": null,
            "align_self": null,
            "border": null,
            "bottom": null,
            "display": null,
            "flex": null,
            "flex_flow": null,
            "grid_area": null,
            "grid_auto_columns": null,
            "grid_auto_flow": null,
            "grid_auto_rows": null,
            "grid_column": null,
            "grid_gap": null,
            "grid_row": null,
            "grid_template_areas": null,
            "grid_template_columns": null,
            "grid_template_rows": null,
            "height": null,
            "justify_content": null,
            "justify_items": null,
            "left": null,
            "margin": null,
            "max_height": null,
            "max_width": null,
            "min_height": null,
            "min_width": null,
            "object_fit": null,
            "object_position": null,
            "order": null,
            "overflow": null,
            "overflow_x": null,
            "overflow_y": null,
            "padding": null,
            "right": null,
            "top": null,
            "visibility": null,
            "width": null
          }
        },
        "d15a3184b52f4c58920b2ebe99fac7e9": {
          "model_module": "@jupyter-widgets/controls",
          "model_name": "DescriptionStyleModel",
          "model_module_version": "1.5.0",
          "state": {
            "_model_module": "@jupyter-widgets/controls",
            "_model_module_version": "1.5.0",
            "_model_name": "DescriptionStyleModel",
            "_view_count": null,
            "_view_module": "@jupyter-widgets/base",
            "_view_module_version": "1.2.0",
            "_view_name": "StyleView",
            "description_width": ""
          }
        },
        "6ad75da134cf4e87b891434064e8afd9": {
          "model_module": "@jupyter-widgets/controls",
          "model_name": "HBoxModel",
          "model_module_version": "1.5.0",
          "state": {
            "_dom_classes": [],
            "_model_module": "@jupyter-widgets/controls",
            "_model_module_version": "1.5.0",
            "_model_name": "HBoxModel",
            "_view_count": null,
            "_view_module": "@jupyter-widgets/controls",
            "_view_module_version": "1.5.0",
            "_view_name": "HBoxView",
            "box_style": "",
            "children": [
              "IPY_MODEL_8678e1f5b3134938821bbf3f47b316ec",
              "IPY_MODEL_231fc74628344fb2b8b63a4cbb82a9aa",
              "IPY_MODEL_4043b78a84414af5bed393af86b20519"
            ],
            "layout": "IPY_MODEL_374c6557d2634df38317954e7d71d00f"
          }
        },
        "8678e1f5b3134938821bbf3f47b316ec": {
          "model_module": "@jupyter-widgets/controls",
          "model_name": "HTMLModel",
          "model_module_version": "1.5.0",
          "state": {
            "_dom_classes": [],
            "_model_module": "@jupyter-widgets/controls",
            "_model_module_version": "1.5.0",
            "_model_name": "HTMLModel",
            "_view_count": null,
            "_view_module": "@jupyter-widgets/controls",
            "_view_module_version": "1.5.0",
            "_view_name": "HTMLView",
            "description": "",
            "description_tooltip": null,
            "layout": "IPY_MODEL_666fc5bc6f9a4a5b835d1316cdaa5976",
            "placeholder": "​",
            "style": "IPY_MODEL_e20603b8a2694d81a9c0851d74fcfc65",
            "value": "Downloading (…)okenizer_config.json: 100%"
          }
        },
        "231fc74628344fb2b8b63a4cbb82a9aa": {
          "model_module": "@jupyter-widgets/controls",
          "model_name": "FloatProgressModel",
          "model_module_version": "1.5.0",
          "state": {
            "_dom_classes": [],
            "_model_module": "@jupyter-widgets/controls",
            "_model_module_version": "1.5.0",
            "_model_name": "FloatProgressModel",
            "_view_count": null,
            "_view_module": "@jupyter-widgets/controls",
            "_view_module_version": "1.5.0",
            "_view_name": "ProgressView",
            "bar_style": "success",
            "description": "",
            "description_tooltip": null,
            "layout": "IPY_MODEL_67d8c6f65d8542b8a18b043d89f5053a",
            "max": 28,
            "min": 0,
            "orientation": "horizontal",
            "style": "IPY_MODEL_d962e33d7be64f9391ec11e73dde3253",
            "value": 28
          }
        },
        "4043b78a84414af5bed393af86b20519": {
          "model_module": "@jupyter-widgets/controls",
          "model_name": "HTMLModel",
          "model_module_version": "1.5.0",
          "state": {
            "_dom_classes": [],
            "_model_module": "@jupyter-widgets/controls",
            "_model_module_version": "1.5.0",
            "_model_name": "HTMLModel",
            "_view_count": null,
            "_view_module": "@jupyter-widgets/controls",
            "_view_module_version": "1.5.0",
            "_view_name": "HTMLView",
            "description": "",
            "description_tooltip": null,
            "layout": "IPY_MODEL_5e83103b2ce043ef85a0347b7bc54941",
            "placeholder": "​",
            "style": "IPY_MODEL_d504e1e144d348e4a46690b407b8f4e7",
            "value": " 28.0/28.0 [00:00&lt;00:00, 755B/s]"
          }
        },
        "374c6557d2634df38317954e7d71d00f": {
          "model_module": "@jupyter-widgets/base",
          "model_name": "LayoutModel",
          "model_module_version": "1.2.0",
          "state": {
            "_model_module": "@jupyter-widgets/base",
            "_model_module_version": "1.2.0",
            "_model_name": "LayoutModel",
            "_view_count": null,
            "_view_module": "@jupyter-widgets/base",
            "_view_module_version": "1.2.0",
            "_view_name": "LayoutView",
            "align_content": null,
            "align_items": null,
            "align_self": null,
            "border": null,
            "bottom": null,
            "display": null,
            "flex": null,
            "flex_flow": null,
            "grid_area": null,
            "grid_auto_columns": null,
            "grid_auto_flow": null,
            "grid_auto_rows": null,
            "grid_column": null,
            "grid_gap": null,
            "grid_row": null,
            "grid_template_areas": null,
            "grid_template_columns": null,
            "grid_template_rows": null,
            "height": null,
            "justify_content": null,
            "justify_items": null,
            "left": null,
            "margin": null,
            "max_height": null,
            "max_width": null,
            "min_height": null,
            "min_width": null,
            "object_fit": null,
            "object_position": null,
            "order": null,
            "overflow": null,
            "overflow_x": null,
            "overflow_y": null,
            "padding": null,
            "right": null,
            "top": null,
            "visibility": null,
            "width": null
          }
        },
        "666fc5bc6f9a4a5b835d1316cdaa5976": {
          "model_module": "@jupyter-widgets/base",
          "model_name": "LayoutModel",
          "model_module_version": "1.2.0",
          "state": {
            "_model_module": "@jupyter-widgets/base",
            "_model_module_version": "1.2.0",
            "_model_name": "LayoutModel",
            "_view_count": null,
            "_view_module": "@jupyter-widgets/base",
            "_view_module_version": "1.2.0",
            "_view_name": "LayoutView",
            "align_content": null,
            "align_items": null,
            "align_self": null,
            "border": null,
            "bottom": null,
            "display": null,
            "flex": null,
            "flex_flow": null,
            "grid_area": null,
            "grid_auto_columns": null,
            "grid_auto_flow": null,
            "grid_auto_rows": null,
            "grid_column": null,
            "grid_gap": null,
            "grid_row": null,
            "grid_template_areas": null,
            "grid_template_columns": null,
            "grid_template_rows": null,
            "height": null,
            "justify_content": null,
            "justify_items": null,
            "left": null,
            "margin": null,
            "max_height": null,
            "max_width": null,
            "min_height": null,
            "min_width": null,
            "object_fit": null,
            "object_position": null,
            "order": null,
            "overflow": null,
            "overflow_x": null,
            "overflow_y": null,
            "padding": null,
            "right": null,
            "top": null,
            "visibility": null,
            "width": null
          }
        },
        "e20603b8a2694d81a9c0851d74fcfc65": {
          "model_module": "@jupyter-widgets/controls",
          "model_name": "DescriptionStyleModel",
          "model_module_version": "1.5.0",
          "state": {
            "_model_module": "@jupyter-widgets/controls",
            "_model_module_version": "1.5.0",
            "_model_name": "DescriptionStyleModel",
            "_view_count": null,
            "_view_module": "@jupyter-widgets/base",
            "_view_module_version": "1.2.0",
            "_view_name": "StyleView",
            "description_width": ""
          }
        },
        "67d8c6f65d8542b8a18b043d89f5053a": {
          "model_module": "@jupyter-widgets/base",
          "model_name": "LayoutModel",
          "model_module_version": "1.2.0",
          "state": {
            "_model_module": "@jupyter-widgets/base",
            "_model_module_version": "1.2.0",
            "_model_name": "LayoutModel",
            "_view_count": null,
            "_view_module": "@jupyter-widgets/base",
            "_view_module_version": "1.2.0",
            "_view_name": "LayoutView",
            "align_content": null,
            "align_items": null,
            "align_self": null,
            "border": null,
            "bottom": null,
            "display": null,
            "flex": null,
            "flex_flow": null,
            "grid_area": null,
            "grid_auto_columns": null,
            "grid_auto_flow": null,
            "grid_auto_rows": null,
            "grid_column": null,
            "grid_gap": null,
            "grid_row": null,
            "grid_template_areas": null,
            "grid_template_columns": null,
            "grid_template_rows": null,
            "height": null,
            "justify_content": null,
            "justify_items": null,
            "left": null,
            "margin": null,
            "max_height": null,
            "max_width": null,
            "min_height": null,
            "min_width": null,
            "object_fit": null,
            "object_position": null,
            "order": null,
            "overflow": null,
            "overflow_x": null,
            "overflow_y": null,
            "padding": null,
            "right": null,
            "top": null,
            "visibility": null,
            "width": null
          }
        },
        "d962e33d7be64f9391ec11e73dde3253": {
          "model_module": "@jupyter-widgets/controls",
          "model_name": "ProgressStyleModel",
          "model_module_version": "1.5.0",
          "state": {
            "_model_module": "@jupyter-widgets/controls",
            "_model_module_version": "1.5.0",
            "_model_name": "ProgressStyleModel",
            "_view_count": null,
            "_view_module": "@jupyter-widgets/base",
            "_view_module_version": "1.2.0",
            "_view_name": "StyleView",
            "bar_color": null,
            "description_width": ""
          }
        },
        "5e83103b2ce043ef85a0347b7bc54941": {
          "model_module": "@jupyter-widgets/base",
          "model_name": "LayoutModel",
          "model_module_version": "1.2.0",
          "state": {
            "_model_module": "@jupyter-widgets/base",
            "_model_module_version": "1.2.0",
            "_model_name": "LayoutModel",
            "_view_count": null,
            "_view_module": "@jupyter-widgets/base",
            "_view_module_version": "1.2.0",
            "_view_name": "LayoutView",
            "align_content": null,
            "align_items": null,
            "align_self": null,
            "border": null,
            "bottom": null,
            "display": null,
            "flex": null,
            "flex_flow": null,
            "grid_area": null,
            "grid_auto_columns": null,
            "grid_auto_flow": null,
            "grid_auto_rows": null,
            "grid_column": null,
            "grid_gap": null,
            "grid_row": null,
            "grid_template_areas": null,
            "grid_template_columns": null,
            "grid_template_rows": null,
            "height": null,
            "justify_content": null,
            "justify_items": null,
            "left": null,
            "margin": null,
            "max_height": null,
            "max_width": null,
            "min_height": null,
            "min_width": null,
            "object_fit": null,
            "object_position": null,
            "order": null,
            "overflow": null,
            "overflow_x": null,
            "overflow_y": null,
            "padding": null,
            "right": null,
            "top": null,
            "visibility": null,
            "width": null
          }
        },
        "d504e1e144d348e4a46690b407b8f4e7": {
          "model_module": "@jupyter-widgets/controls",
          "model_name": "DescriptionStyleModel",
          "model_module_version": "1.5.0",
          "state": {
            "_model_module": "@jupyter-widgets/controls",
            "_model_module_version": "1.5.0",
            "_model_name": "DescriptionStyleModel",
            "_view_count": null,
            "_view_module": "@jupyter-widgets/base",
            "_view_module_version": "1.2.0",
            "_view_name": "StyleView",
            "description_width": ""
          }
        },
        "9b88436190344f939f9d4e5dbd30be72": {
          "model_module": "@jupyter-widgets/controls",
          "model_name": "HBoxModel",
          "model_module_version": "1.5.0",
          "state": {
            "_dom_classes": [],
            "_model_module": "@jupyter-widgets/controls",
            "_model_module_version": "1.5.0",
            "_model_name": "HBoxModel",
            "_view_count": null,
            "_view_module": "@jupyter-widgets/controls",
            "_view_module_version": "1.5.0",
            "_view_name": "HBoxView",
            "box_style": "",
            "children": [
              "IPY_MODEL_39506446dff0479298e345391ceb0738",
              "IPY_MODEL_cae061ff7f264067a9611e900d5fc5e6",
              "IPY_MODEL_7b27827a405048beb4865499c090c8fa"
            ],
            "layout": "IPY_MODEL_fe8045ace7b547138dce60eedfffabeb"
          }
        },
        "39506446dff0479298e345391ceb0738": {
          "model_module": "@jupyter-widgets/controls",
          "model_name": "HTMLModel",
          "model_module_version": "1.5.0",
          "state": {
            "_dom_classes": [],
            "_model_module": "@jupyter-widgets/controls",
            "_model_module_version": "1.5.0",
            "_model_name": "HTMLModel",
            "_view_count": null,
            "_view_module": "@jupyter-widgets/controls",
            "_view_module_version": "1.5.0",
            "_view_name": "HTMLView",
            "description": "",
            "description_tooltip": null,
            "layout": "IPY_MODEL_fe1c7367ad4242e8bb5caf814a6a19e2",
            "placeholder": "​",
            "style": "IPY_MODEL_3fee772fc1fc44f398b4473af6e9f883",
            "value": "Downloading (…)lve/main/config.json: 100%"
          }
        },
        "cae061ff7f264067a9611e900d5fc5e6": {
          "model_module": "@jupyter-widgets/controls",
          "model_name": "FloatProgressModel",
          "model_module_version": "1.5.0",
          "state": {
            "_dom_classes": [],
            "_model_module": "@jupyter-widgets/controls",
            "_model_module_version": "1.5.0",
            "_model_name": "FloatProgressModel",
            "_view_count": null,
            "_view_module": "@jupyter-widgets/controls",
            "_view_module_version": "1.5.0",
            "_view_name": "ProgressView",
            "bar_style": "success",
            "description": "",
            "description_tooltip": null,
            "layout": "IPY_MODEL_c557b24542bb414fa90f3f500c4b0bef",
            "max": 570,
            "min": 0,
            "orientation": "horizontal",
            "style": "IPY_MODEL_00a285f165e84584a1a478e121cc9ece",
            "value": 570
          }
        },
        "7b27827a405048beb4865499c090c8fa": {
          "model_module": "@jupyter-widgets/controls",
          "model_name": "HTMLModel",
          "model_module_version": "1.5.0",
          "state": {
            "_dom_classes": [],
            "_model_module": "@jupyter-widgets/controls",
            "_model_module_version": "1.5.0",
            "_model_name": "HTMLModel",
            "_view_count": null,
            "_view_module": "@jupyter-widgets/controls",
            "_view_module_version": "1.5.0",
            "_view_name": "HTMLView",
            "description": "",
            "description_tooltip": null,
            "layout": "IPY_MODEL_ac6b726836f846208d4ed320037be5a6",
            "placeholder": "​",
            "style": "IPY_MODEL_cafed5371534426284f60b38f3f75fd0",
            "value": " 570/570 [00:00&lt;00:00, 18.6kB/s]"
          }
        },
        "fe8045ace7b547138dce60eedfffabeb": {
          "model_module": "@jupyter-widgets/base",
          "model_name": "LayoutModel",
          "model_module_version": "1.2.0",
          "state": {
            "_model_module": "@jupyter-widgets/base",
            "_model_module_version": "1.2.0",
            "_model_name": "LayoutModel",
            "_view_count": null,
            "_view_module": "@jupyter-widgets/base",
            "_view_module_version": "1.2.0",
            "_view_name": "LayoutView",
            "align_content": null,
            "align_items": null,
            "align_self": null,
            "border": null,
            "bottom": null,
            "display": null,
            "flex": null,
            "flex_flow": null,
            "grid_area": null,
            "grid_auto_columns": null,
            "grid_auto_flow": null,
            "grid_auto_rows": null,
            "grid_column": null,
            "grid_gap": null,
            "grid_row": null,
            "grid_template_areas": null,
            "grid_template_columns": null,
            "grid_template_rows": null,
            "height": null,
            "justify_content": null,
            "justify_items": null,
            "left": null,
            "margin": null,
            "max_height": null,
            "max_width": null,
            "min_height": null,
            "min_width": null,
            "object_fit": null,
            "object_position": null,
            "order": null,
            "overflow": null,
            "overflow_x": null,
            "overflow_y": null,
            "padding": null,
            "right": null,
            "top": null,
            "visibility": null,
            "width": null
          }
        },
        "fe1c7367ad4242e8bb5caf814a6a19e2": {
          "model_module": "@jupyter-widgets/base",
          "model_name": "LayoutModel",
          "model_module_version": "1.2.0",
          "state": {
            "_model_module": "@jupyter-widgets/base",
            "_model_module_version": "1.2.0",
            "_model_name": "LayoutModel",
            "_view_count": null,
            "_view_module": "@jupyter-widgets/base",
            "_view_module_version": "1.2.0",
            "_view_name": "LayoutView",
            "align_content": null,
            "align_items": null,
            "align_self": null,
            "border": null,
            "bottom": null,
            "display": null,
            "flex": null,
            "flex_flow": null,
            "grid_area": null,
            "grid_auto_columns": null,
            "grid_auto_flow": null,
            "grid_auto_rows": null,
            "grid_column": null,
            "grid_gap": null,
            "grid_row": null,
            "grid_template_areas": null,
            "grid_template_columns": null,
            "grid_template_rows": null,
            "height": null,
            "justify_content": null,
            "justify_items": null,
            "left": null,
            "margin": null,
            "max_height": null,
            "max_width": null,
            "min_height": null,
            "min_width": null,
            "object_fit": null,
            "object_position": null,
            "order": null,
            "overflow": null,
            "overflow_x": null,
            "overflow_y": null,
            "padding": null,
            "right": null,
            "top": null,
            "visibility": null,
            "width": null
          }
        },
        "3fee772fc1fc44f398b4473af6e9f883": {
          "model_module": "@jupyter-widgets/controls",
          "model_name": "DescriptionStyleModel",
          "model_module_version": "1.5.0",
          "state": {
            "_model_module": "@jupyter-widgets/controls",
            "_model_module_version": "1.5.0",
            "_model_name": "DescriptionStyleModel",
            "_view_count": null,
            "_view_module": "@jupyter-widgets/base",
            "_view_module_version": "1.2.0",
            "_view_name": "StyleView",
            "description_width": ""
          }
        },
        "c557b24542bb414fa90f3f500c4b0bef": {
          "model_module": "@jupyter-widgets/base",
          "model_name": "LayoutModel",
          "model_module_version": "1.2.0",
          "state": {
            "_model_module": "@jupyter-widgets/base",
            "_model_module_version": "1.2.0",
            "_model_name": "LayoutModel",
            "_view_count": null,
            "_view_module": "@jupyter-widgets/base",
            "_view_module_version": "1.2.0",
            "_view_name": "LayoutView",
            "align_content": null,
            "align_items": null,
            "align_self": null,
            "border": null,
            "bottom": null,
            "display": null,
            "flex": null,
            "flex_flow": null,
            "grid_area": null,
            "grid_auto_columns": null,
            "grid_auto_flow": null,
            "grid_auto_rows": null,
            "grid_column": null,
            "grid_gap": null,
            "grid_row": null,
            "grid_template_areas": null,
            "grid_template_columns": null,
            "grid_template_rows": null,
            "height": null,
            "justify_content": null,
            "justify_items": null,
            "left": null,
            "margin": null,
            "max_height": null,
            "max_width": null,
            "min_height": null,
            "min_width": null,
            "object_fit": null,
            "object_position": null,
            "order": null,
            "overflow": null,
            "overflow_x": null,
            "overflow_y": null,
            "padding": null,
            "right": null,
            "top": null,
            "visibility": null,
            "width": null
          }
        },
        "00a285f165e84584a1a478e121cc9ece": {
          "model_module": "@jupyter-widgets/controls",
          "model_name": "ProgressStyleModel",
          "model_module_version": "1.5.0",
          "state": {
            "_model_module": "@jupyter-widgets/controls",
            "_model_module_version": "1.5.0",
            "_model_name": "ProgressStyleModel",
            "_view_count": null,
            "_view_module": "@jupyter-widgets/base",
            "_view_module_version": "1.2.0",
            "_view_name": "StyleView",
            "bar_color": null,
            "description_width": ""
          }
        },
        "ac6b726836f846208d4ed320037be5a6": {
          "model_module": "@jupyter-widgets/base",
          "model_name": "LayoutModel",
          "model_module_version": "1.2.0",
          "state": {
            "_model_module": "@jupyter-widgets/base",
            "_model_module_version": "1.2.0",
            "_model_name": "LayoutModel",
            "_view_count": null,
            "_view_module": "@jupyter-widgets/base",
            "_view_module_version": "1.2.0",
            "_view_name": "LayoutView",
            "align_content": null,
            "align_items": null,
            "align_self": null,
            "border": null,
            "bottom": null,
            "display": null,
            "flex": null,
            "flex_flow": null,
            "grid_area": null,
            "grid_auto_columns": null,
            "grid_auto_flow": null,
            "grid_auto_rows": null,
            "grid_column": null,
            "grid_gap": null,
            "grid_row": null,
            "grid_template_areas": null,
            "grid_template_columns": null,
            "grid_template_rows": null,
            "height": null,
            "justify_content": null,
            "justify_items": null,
            "left": null,
            "margin": null,
            "max_height": null,
            "max_width": null,
            "min_height": null,
            "min_width": null,
            "object_fit": null,
            "object_position": null,
            "order": null,
            "overflow": null,
            "overflow_x": null,
            "overflow_y": null,
            "padding": null,
            "right": null,
            "top": null,
            "visibility": null,
            "width": null
          }
        },
        "cafed5371534426284f60b38f3f75fd0": {
          "model_module": "@jupyter-widgets/controls",
          "model_name": "DescriptionStyleModel",
          "model_module_version": "1.5.0",
          "state": {
            "_model_module": "@jupyter-widgets/controls",
            "_model_module_version": "1.5.0",
            "_model_name": "DescriptionStyleModel",
            "_view_count": null,
            "_view_module": "@jupyter-widgets/base",
            "_view_module_version": "1.2.0",
            "_view_name": "StyleView",
            "description_width": ""
          }
        },
        "e940634a410a49f8b5baefabaa5f65ae": {
          "model_module": "@jupyter-widgets/controls",
          "model_name": "HBoxModel",
          "model_module_version": "1.5.0",
          "state": {
            "_dom_classes": [],
            "_model_module": "@jupyter-widgets/controls",
            "_model_module_version": "1.5.0",
            "_model_name": "HBoxModel",
            "_view_count": null,
            "_view_module": "@jupyter-widgets/controls",
            "_view_module_version": "1.5.0",
            "_view_name": "HBoxView",
            "box_style": "",
            "children": [
              "IPY_MODEL_b7cd58f1f1c5412cbdca2623e908c03c",
              "IPY_MODEL_843f9e0b1beb44028a53279904496b3d",
              "IPY_MODEL_8b9d558a217449c4b9d6ff3b2d801266"
            ],
            "layout": "IPY_MODEL_8a3711fa10c14e16868e486761e2272e"
          }
        },
        "b7cd58f1f1c5412cbdca2623e908c03c": {
          "model_module": "@jupyter-widgets/controls",
          "model_name": "HTMLModel",
          "model_module_version": "1.5.0",
          "state": {
            "_dom_classes": [],
            "_model_module": "@jupyter-widgets/controls",
            "_model_module_version": "1.5.0",
            "_model_name": "HTMLModel",
            "_view_count": null,
            "_view_module": "@jupyter-widgets/controls",
            "_view_module_version": "1.5.0",
            "_view_name": "HTMLView",
            "description": "",
            "description_tooltip": null,
            "layout": "IPY_MODEL_925d348ac02348f78bcd98ccdbbf3b8f",
            "placeholder": "​",
            "style": "IPY_MODEL_af116eca44a24f73a3950930005e3334",
            "value": "Downloading pytorch_model.bin: 100%"
          }
        },
        "843f9e0b1beb44028a53279904496b3d": {
          "model_module": "@jupyter-widgets/controls",
          "model_name": "FloatProgressModel",
          "model_module_version": "1.5.0",
          "state": {
            "_dom_classes": [],
            "_model_module": "@jupyter-widgets/controls",
            "_model_module_version": "1.5.0",
            "_model_name": "FloatProgressModel",
            "_view_count": null,
            "_view_module": "@jupyter-widgets/controls",
            "_view_module_version": "1.5.0",
            "_view_name": "ProgressView",
            "bar_style": "success",
            "description": "",
            "description_tooltip": null,
            "layout": "IPY_MODEL_991d17553f73466e8a18557d88f5394e",
            "max": 440473133,
            "min": 0,
            "orientation": "horizontal",
            "style": "IPY_MODEL_b193e830cb5a450dae7c00c6c18d3f39",
            "value": 440473133
          }
        },
        "8b9d558a217449c4b9d6ff3b2d801266": {
          "model_module": "@jupyter-widgets/controls",
          "model_name": "HTMLModel",
          "model_module_version": "1.5.0",
          "state": {
            "_dom_classes": [],
            "_model_module": "@jupyter-widgets/controls",
            "_model_module_version": "1.5.0",
            "_model_name": "HTMLModel",
            "_view_count": null,
            "_view_module": "@jupyter-widgets/controls",
            "_view_module_version": "1.5.0",
            "_view_name": "HTMLView",
            "description": "",
            "description_tooltip": null,
            "layout": "IPY_MODEL_5f43b37a333a4fae8216803173dd6618",
            "placeholder": "​",
            "style": "IPY_MODEL_60a8c3b48db346b098da606ff175e03f",
            "value": " 440M/440M [00:02&lt;00:00, 156MB/s]"
          }
        },
        "8a3711fa10c14e16868e486761e2272e": {
          "model_module": "@jupyter-widgets/base",
          "model_name": "LayoutModel",
          "model_module_version": "1.2.0",
          "state": {
            "_model_module": "@jupyter-widgets/base",
            "_model_module_version": "1.2.0",
            "_model_name": "LayoutModel",
            "_view_count": null,
            "_view_module": "@jupyter-widgets/base",
            "_view_module_version": "1.2.0",
            "_view_name": "LayoutView",
            "align_content": null,
            "align_items": null,
            "align_self": null,
            "border": null,
            "bottom": null,
            "display": null,
            "flex": null,
            "flex_flow": null,
            "grid_area": null,
            "grid_auto_columns": null,
            "grid_auto_flow": null,
            "grid_auto_rows": null,
            "grid_column": null,
            "grid_gap": null,
            "grid_row": null,
            "grid_template_areas": null,
            "grid_template_columns": null,
            "grid_template_rows": null,
            "height": null,
            "justify_content": null,
            "justify_items": null,
            "left": null,
            "margin": null,
            "max_height": null,
            "max_width": null,
            "min_height": null,
            "min_width": null,
            "object_fit": null,
            "object_position": null,
            "order": null,
            "overflow": null,
            "overflow_x": null,
            "overflow_y": null,
            "padding": null,
            "right": null,
            "top": null,
            "visibility": null,
            "width": null
          }
        },
        "925d348ac02348f78bcd98ccdbbf3b8f": {
          "model_module": "@jupyter-widgets/base",
          "model_name": "LayoutModel",
          "model_module_version": "1.2.0",
          "state": {
            "_model_module": "@jupyter-widgets/base",
            "_model_module_version": "1.2.0",
            "_model_name": "LayoutModel",
            "_view_count": null,
            "_view_module": "@jupyter-widgets/base",
            "_view_module_version": "1.2.0",
            "_view_name": "LayoutView",
            "align_content": null,
            "align_items": null,
            "align_self": null,
            "border": null,
            "bottom": null,
            "display": null,
            "flex": null,
            "flex_flow": null,
            "grid_area": null,
            "grid_auto_columns": null,
            "grid_auto_flow": null,
            "grid_auto_rows": null,
            "grid_column": null,
            "grid_gap": null,
            "grid_row": null,
            "grid_template_areas": null,
            "grid_template_columns": null,
            "grid_template_rows": null,
            "height": null,
            "justify_content": null,
            "justify_items": null,
            "left": null,
            "margin": null,
            "max_height": null,
            "max_width": null,
            "min_height": null,
            "min_width": null,
            "object_fit": null,
            "object_position": null,
            "order": null,
            "overflow": null,
            "overflow_x": null,
            "overflow_y": null,
            "padding": null,
            "right": null,
            "top": null,
            "visibility": null,
            "width": null
          }
        },
        "af116eca44a24f73a3950930005e3334": {
          "model_module": "@jupyter-widgets/controls",
          "model_name": "DescriptionStyleModel",
          "model_module_version": "1.5.0",
          "state": {
            "_model_module": "@jupyter-widgets/controls",
            "_model_module_version": "1.5.0",
            "_model_name": "DescriptionStyleModel",
            "_view_count": null,
            "_view_module": "@jupyter-widgets/base",
            "_view_module_version": "1.2.0",
            "_view_name": "StyleView",
            "description_width": ""
          }
        },
        "991d17553f73466e8a18557d88f5394e": {
          "model_module": "@jupyter-widgets/base",
          "model_name": "LayoutModel",
          "model_module_version": "1.2.0",
          "state": {
            "_model_module": "@jupyter-widgets/base",
            "_model_module_version": "1.2.0",
            "_model_name": "LayoutModel",
            "_view_count": null,
            "_view_module": "@jupyter-widgets/base",
            "_view_module_version": "1.2.0",
            "_view_name": "LayoutView",
            "align_content": null,
            "align_items": null,
            "align_self": null,
            "border": null,
            "bottom": null,
            "display": null,
            "flex": null,
            "flex_flow": null,
            "grid_area": null,
            "grid_auto_columns": null,
            "grid_auto_flow": null,
            "grid_auto_rows": null,
            "grid_column": null,
            "grid_gap": null,
            "grid_row": null,
            "grid_template_areas": null,
            "grid_template_columns": null,
            "grid_template_rows": null,
            "height": null,
            "justify_content": null,
            "justify_items": null,
            "left": null,
            "margin": null,
            "max_height": null,
            "max_width": null,
            "min_height": null,
            "min_width": null,
            "object_fit": null,
            "object_position": null,
            "order": null,
            "overflow": null,
            "overflow_x": null,
            "overflow_y": null,
            "padding": null,
            "right": null,
            "top": null,
            "visibility": null,
            "width": null
          }
        },
        "b193e830cb5a450dae7c00c6c18d3f39": {
          "model_module": "@jupyter-widgets/controls",
          "model_name": "ProgressStyleModel",
          "model_module_version": "1.5.0",
          "state": {
            "_model_module": "@jupyter-widgets/controls",
            "_model_module_version": "1.5.0",
            "_model_name": "ProgressStyleModel",
            "_view_count": null,
            "_view_module": "@jupyter-widgets/base",
            "_view_module_version": "1.2.0",
            "_view_name": "StyleView",
            "bar_color": null,
            "description_width": ""
          }
        },
        "5f43b37a333a4fae8216803173dd6618": {
          "model_module": "@jupyter-widgets/base",
          "model_name": "LayoutModel",
          "model_module_version": "1.2.0",
          "state": {
            "_model_module": "@jupyter-widgets/base",
            "_model_module_version": "1.2.0",
            "_model_name": "LayoutModel",
            "_view_count": null,
            "_view_module": "@jupyter-widgets/base",
            "_view_module_version": "1.2.0",
            "_view_name": "LayoutView",
            "align_content": null,
            "align_items": null,
            "align_self": null,
            "border": null,
            "bottom": null,
            "display": null,
            "flex": null,
            "flex_flow": null,
            "grid_area": null,
            "grid_auto_columns": null,
            "grid_auto_flow": null,
            "grid_auto_rows": null,
            "grid_column": null,
            "grid_gap": null,
            "grid_row": null,
            "grid_template_areas": null,
            "grid_template_columns": null,
            "grid_template_rows": null,
            "height": null,
            "justify_content": null,
            "justify_items": null,
            "left": null,
            "margin": null,
            "max_height": null,
            "max_width": null,
            "min_height": null,
            "min_width": null,
            "object_fit": null,
            "object_position": null,
            "order": null,
            "overflow": null,
            "overflow_x": null,
            "overflow_y": null,
            "padding": null,
            "right": null,
            "top": null,
            "visibility": null,
            "width": null
          }
        },
        "60a8c3b48db346b098da606ff175e03f": {
          "model_module": "@jupyter-widgets/controls",
          "model_name": "DescriptionStyleModel",
          "model_module_version": "1.5.0",
          "state": {
            "_model_module": "@jupyter-widgets/controls",
            "_model_module_version": "1.5.0",
            "_model_name": "DescriptionStyleModel",
            "_view_count": null,
            "_view_module": "@jupyter-widgets/base",
            "_view_module_version": "1.2.0",
            "_view_name": "StyleView",
            "description_width": ""
          }
        }
      }
    },
    "accelerator": "GPU"
  },
  "nbformat": 4,
  "nbformat_minor": 0
}